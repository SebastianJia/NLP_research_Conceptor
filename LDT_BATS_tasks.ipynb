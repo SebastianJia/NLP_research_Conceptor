{
  "nbformat": 4,
  "nbformat_minor": 0,
  "metadata": {
    "colab": {
      "name": "LDT_BATS_tasks.ipynb",
      "version": "0.3.2",
      "provenance": [],
      "collapsed_sections": [],
      "toc_visible": true,
      "include_colab_link": true
    },
    "kernelspec": {
      "name": "python3",
      "display_name": "Python 3"
    }
  },
  "cells": [
    {
      "cell_type": "markdown",
      "metadata": {
        "id": "view-in-github",
        "colab_type": "text"
      },
      "source": [
        "<a href=\"https://colab.research.google.com/github/SebastianJia/nlp_research_conceptor/blob/master/LDT_BATS_tasks.ipynb\" target=\"_parent\"><img src=\"https://colab.research.google.com/assets/colab-badge.svg\" alt=\"Open In Colab\"/></a>"
      ]
    },
    {
      "metadata": {
        "id": "68KzKZtWeQpr",
        "colab_type": "text"
      },
      "cell_type": "markdown",
      "source": [
        "# LDT BATS with CN"
      ]
    },
    {
      "metadata": {
        "id": "kUmVvnkUDTPM",
        "colab_type": "code",
        "colab": {}
      },
      "cell_type": "code",
      "source": [
        "#Install vecto library"
      ],
      "execution_count": 0,
      "outputs": []
    },
    {
      "metadata": {
        "id": "TMTiGqkNzIMW",
        "colab_type": "code",
        "outputId": "a1058f59-c1aa-47cf-c063-3372df5a9a9f",
        "colab": {
          "base_uri": "https://localhost:8080/",
          "height": 1245
        }
      },
      "cell_type": "code",
      "source": [
        "!pip install vecto"
      ],
      "execution_count": 1,
      "outputs": [
        {
          "output_type": "stream",
          "text": [
            "Collecting vecto\n",
            "\u001b[?25l  Downloading https://files.pythonhosted.org/packages/8d/fd/a5f5bc6647ea9626740ecfc5a883d0ba597b5a57d2406315f0ced1f73f46/vecto-0.1.9-py3-none-any.whl (78kB)\n",
            "\u001b[K    100% |████████████████████████████████| 81kB 3.2MB/s \n",
            "\u001b[?25hRequirement already satisfied: keras in /usr/local/lib/python3.6/dist-packages (from vecto) (2.2.4)\n",
            "Requirement already satisfied: matplotlib in /usr/local/lib/python3.6/dist-packages (from vecto) (3.0.2)\n",
            "Requirement already satisfied: progressbar2 in /usr/local/lib/python3.6/dist-packages (from vecto) (3.38.0)\n",
            "Requirement already satisfied: tables in /usr/local/lib/python3.6/dist-packages (from vecto) (3.4.4)\n",
            "Requirement already satisfied: traitlets in /usr/local/lib/python3.6/dist-packages (from vecto) (4.3.2)\n",
            "Requirement already satisfied: sklearn in /usr/local/lib/python3.6/dist-packages (from vecto) (0.0)\n",
            "Requirement already satisfied: pandas in /usr/local/lib/python3.6/dist-packages (from vecto) (0.22.0)\n",
            "Requirement already satisfied: chainer in /usr/local/lib/python3.6/dist-packages (from vecto) (5.0.0)\n",
            "Collecting gitpython (from vecto)\n",
            "\u001b[?25l  Downloading https://files.pythonhosted.org/packages/fe/e5/fafe827507644c32d6dc553a1c435cdf882e0c28918a5bab29f7fbebfb70/GitPython-2.1.11-py2.py3-none-any.whl (448kB)\n",
            "\u001b[K    100% |████████████████████████████████| 450kB 25.3MB/s \n",
            "\u001b[?25hRequirement already satisfied: requests in /usr/local/lib/python3.6/dist-packages (from vecto) (2.18.4)\n",
            "Collecting brewer2mpl (from vecto)\n",
            "  Downloading https://files.pythonhosted.org/packages/84/57/00c45a199719e617db0875181134fcb3aeef701deae346547ac722eaaf5e/brewer2mpl-1.4.1-py2.py3-none-any.whl\n",
            "Requirement already satisfied: tensorflow in /usr/local/lib/python3.6/dist-packages (from vecto) (1.13.0rc0)\n",
            "Requirement already satisfied: numpy in /usr/local/lib/python3.6/dist-packages (from vecto) (1.14.6)\n",
            "Requirement already satisfied: nltk in /usr/local/lib/python3.6/dist-packages (from vecto) (3.2.5)\n",
            "Requirement already satisfied: scipy in /usr/local/lib/python3.6/dist-packages (from vecto) (1.1.0)\n",
            "Requirement already satisfied: tqdm in /usr/local/lib/python3.6/dist-packages (from vecto) (4.28.1)\n",
            "Collecting system-query (from vecto)\n",
            "  Downloading https://files.pythonhosted.org/packages/f1/f2/a11775b0ae6257a6d0c6699cfa340d7621f75f62bbede919c83ec871cea5/system_query-0.2.0-py3-none-any.whl\n",
            "Requirement already satisfied: keras-applications>=1.0.6 in /usr/local/lib/python3.6/dist-packages (from keras->vecto) (1.0.7)\n",
            "Requirement already satisfied: six>=1.9.0 in /usr/local/lib/python3.6/dist-packages (from keras->vecto) (1.11.0)\n",
            "Requirement already satisfied: pyyaml in /usr/local/lib/python3.6/dist-packages (from keras->vecto) (3.13)\n",
            "Requirement already satisfied: keras-preprocessing>=1.0.5 in /usr/local/lib/python3.6/dist-packages (from keras->vecto) (1.0.9)\n",
            "Requirement already satisfied: h5py in /usr/local/lib/python3.6/dist-packages (from keras->vecto) (2.8.0)\n",
            "Requirement already satisfied: pyparsing!=2.0.4,!=2.1.2,!=2.1.6,>=2.0.1 in /usr/local/lib/python3.6/dist-packages (from matplotlib->vecto) (2.3.1)\n",
            "Requirement already satisfied: cycler>=0.10 in /usr/local/lib/python3.6/dist-packages (from matplotlib->vecto) (0.10.0)\n",
            "Requirement already satisfied: python-dateutil>=2.1 in /usr/local/lib/python3.6/dist-packages (from matplotlib->vecto) (2.5.3)\n",
            "Requirement already satisfied: kiwisolver>=1.0.1 in /usr/local/lib/python3.6/dist-packages (from matplotlib->vecto) (1.0.1)\n",
            "Requirement already satisfied: python-utils>=2.3.0 in /usr/local/lib/python3.6/dist-packages (from progressbar2->vecto) (2.3.0)\n",
            "Requirement already satisfied: numexpr>=2.5.2 in /usr/local/lib/python3.6/dist-packages (from tables->vecto) (2.6.9)\n",
            "Requirement already satisfied: decorator in /usr/local/lib/python3.6/dist-packages (from traitlets->vecto) (4.3.2)\n",
            "Requirement already satisfied: ipython-genutils in /usr/local/lib/python3.6/dist-packages (from traitlets->vecto) (0.2.0)\n",
            "Requirement already satisfied: scikit-learn in /usr/local/lib/python3.6/dist-packages (from sklearn->vecto) (0.20.2)\n",
            "Requirement already satisfied: pytz>=2011k in /usr/local/lib/python3.6/dist-packages (from pandas->vecto) (2018.9)\n",
            "Requirement already satisfied: filelock in /usr/local/lib/python3.6/dist-packages (from chainer->vecto) (3.0.10)\n",
            "Requirement already satisfied: protobuf>=3.0.0 in /usr/local/lib/python3.6/dist-packages (from chainer->vecto) (3.6.1)\n",
            "Collecting gitdb2>=2.0.0 (from gitpython->vecto)\n",
            "\u001b[?25l  Downloading https://files.pythonhosted.org/packages/da/30/a407568aa8d8f25db817cf50121a958722f3fc5f87e3a6fba1f40c0633e3/gitdb2-2.0.5-py2.py3-none-any.whl (62kB)\n",
            "\u001b[K    100% |████████████████████████████████| 71kB 28.3MB/s \n",
            "\u001b[?25hRequirement already satisfied: urllib3<1.23,>=1.21.1 in /usr/local/lib/python3.6/dist-packages (from requests->vecto) (1.22)\n",
            "Requirement already satisfied: idna<2.7,>=2.5 in /usr/local/lib/python3.6/dist-packages (from requests->vecto) (2.6)\n",
            "Requirement already satisfied: certifi>=2017.4.17 in /usr/local/lib/python3.6/dist-packages (from requests->vecto) (2018.11.29)\n",
            "Requirement already satisfied: chardet<3.1.0,>=3.0.2 in /usr/local/lib/python3.6/dist-packages (from requests->vecto) (3.0.4)\n",
            "Requirement already satisfied: wheel>=0.26 in /usr/local/lib/python3.6/dist-packages (from tensorflow->vecto) (0.32.3)\n",
            "Requirement already satisfied: tensorboard<1.13.0,>=1.12.0 in /usr/local/lib/python3.6/dist-packages (from tensorflow->vecto) (1.12.2)\n",
            "Requirement already satisfied: gast>=0.2.0 in /usr/local/lib/python3.6/dist-packages (from tensorflow->vecto) (0.2.2)\n",
            "Requirement already satisfied: tensorflow-estimator>=1.10.0 in /usr/local/lib/python3.6/dist-packages (from tensorflow->vecto) (1.10.12)\n",
            "Requirement already satisfied: termcolor>=1.1.0 in /usr/local/lib/python3.6/dist-packages (from tensorflow->vecto) (1.1.0)\n",
            "Requirement already satisfied: absl-py>=0.1.6 in /usr/local/lib/python3.6/dist-packages (from tensorflow->vecto) (0.7.0)\n",
            "Requirement already satisfied: astor>=0.6.0 in /usr/local/lib/python3.6/dist-packages (from tensorflow->vecto) (0.7.1)\n",
            "Requirement already satisfied: grpcio>=1.8.6 in /usr/local/lib/python3.6/dist-packages (from tensorflow->vecto) (1.15.0)\n",
            "Collecting py-cpuinfo (from system-query->vecto)\n",
            "\u001b[?25l  Downloading https://files.pythonhosted.org/packages/75/d0/7e547b0abfa23234c82100d1bfe670286a3361f4382fc766329f70bc34e8/py-cpuinfo-4.0.0.tar.gz (79kB)\n",
            "\u001b[K    100% |████████████████████████████████| 81kB 30.0MB/s \n",
            "\u001b[?25hRequirement already satisfied: setuptools in /usr/local/lib/python3.6/dist-packages (from kiwisolver>=1.0.1->matplotlib->vecto) (40.8.0)\n",
            "Collecting smmap2>=2.0.0 (from gitdb2>=2.0.0->gitpython->vecto)\n",
            "  Downloading https://files.pythonhosted.org/packages/55/d2/866d45e3a121ee15a1dc013824d58072fd5c7799c9c34d01378eb262ca8f/smmap2-2.0.5-py2.py3-none-any.whl\n",
            "Requirement already satisfied: werkzeug>=0.11.10 in /usr/local/lib/python3.6/dist-packages (from tensorboard<1.13.0,>=1.12.0->tensorflow->vecto) (0.14.1)\n",
            "Requirement already satisfied: markdown>=2.6.8 in /usr/local/lib/python3.6/dist-packages (from tensorboard<1.13.0,>=1.12.0->tensorflow->vecto) (3.0.1)\n",
            "Requirement already satisfied: mock>=2.0.0 in /usr/local/lib/python3.6/dist-packages (from tensorflow-estimator>=1.10.0->tensorflow->vecto) (2.0.0)\n",
            "Requirement already satisfied: pbr>=0.11 in /usr/local/lib/python3.6/dist-packages (from mock>=2.0.0->tensorflow-estimator>=1.10.0->tensorflow->vecto) (5.1.2)\n",
            "Building wheels for collected packages: py-cpuinfo\n",
            "  Building wheel for py-cpuinfo (setup.py) ... \u001b[?25ldone\n",
            "\u001b[?25h  Stored in directory: /root/.cache/pip/wheels/bd/e6/74/5f9ff2150a62868acf69169db535d99949f838ac2f8e0b5d4b\n",
            "Successfully built py-cpuinfo\n",
            "Installing collected packages: smmap2, gitdb2, gitpython, brewer2mpl, py-cpuinfo, system-query, vecto\n",
            "Successfully installed brewer2mpl-1.4.1 gitdb2-2.0.5 gitpython-2.1.11 py-cpuinfo-4.0.0 smmap2-2.0.5 system-query-0.2.0 vecto-0.1.9\n"
          ],
          "name": "stdout"
        }
      ]
    },
    {
      "metadata": {
        "id": "Sqq1lpMM6mD9",
        "colab_type": "code",
        "colab": {}
      },
      "cell_type": "code",
      "source": [
        "#Install libraries to vecto requirement"
      ],
      "execution_count": 0,
      "outputs": []
    },
    {
      "metadata": {
        "id": "KyH5a6abTmur",
        "colab_type": "code",
        "outputId": "4bcc9cf9-9e80-4498-b5a5-b6508339a955",
        "colab": {
          "base_uri": "https://localhost:8080/",
          "height": 119
        }
      },
      "cell_type": "code",
      "source": [
        "!pip install gitpython\n",
        "!pip install progressbar2"
      ],
      "execution_count": 2,
      "outputs": [
        {
          "output_type": "stream",
          "text": [
            "Requirement already satisfied: gitpython in /usr/local/lib/python3.6/dist-packages (2.1.11)\n",
            "Requirement already satisfied: gitdb2>=2.0.0 in /usr/local/lib/python3.6/dist-packages (from gitpython) (2.0.5)\n",
            "Requirement already satisfied: smmap2>=2.0.0 in /usr/local/lib/python3.6/dist-packages (from gitdb2>=2.0.0->gitpython) (2.0.5)\n",
            "Requirement already satisfied: progressbar2 in /usr/local/lib/python3.6/dist-packages (3.38.0)\n",
            "Requirement already satisfied: six in /usr/local/lib/python3.6/dist-packages (from progressbar2) (1.11.0)\n",
            "Requirement already satisfied: python-utils>=2.3.0 in /usr/local/lib/python3.6/dist-packages (from progressbar2) (2.3.0)\n"
          ],
          "name": "stdout"
        }
      ]
    },
    {
      "metadata": {
        "id": "ROkwEbTO6yAu",
        "colab_type": "code",
        "colab": {}
      },
      "cell_type": "code",
      "source": [
        "#Import libraries"
      ],
      "execution_count": 0,
      "outputs": []
    },
    {
      "metadata": {
        "id": "Z6aAMhihaRfJ",
        "colab_type": "code",
        "outputId": "507abdf1-106c-4aa0-ba9c-4c85c84eab14",
        "colab": {
          "base_uri": "https://localhost:8080/",
          "height": 68
        }
      },
      "cell_type": "code",
      "source": [
        "import numpy as np\n",
        "import scipy, requests, codecs, os, re, nltk, itertools, csv\n",
        "import sklearn\n",
        "from sklearn.metrics.pairwise import cosine_similarity\n",
        "from sklearn.cluster import AgglomerativeClustering, KMeans\n",
        "import tensorflow as tf\n",
        "from scipy.stats import spearmanr\n",
        "import pandas as pd\n",
        "import functools as ft\n",
        "import os\n",
        "import io\n",
        "nltk.download('punkt')\n",
        "#import brewer2mpl\n",
        "import chainer\n",
        "import tables\n",
        "import traitlets\n",
        "import tqdm\n",
        "import keras\n",
        "from numpy.linalg import norm, inv, eig"
      ],
      "execution_count": 3,
      "outputs": [
        {
          "output_type": "stream",
          "text": [
            "[nltk_data] Downloading package punkt to /root/nltk_data...\n",
            "[nltk_data]   Unzipping tokenizers/punkt.zip.\n"
          ],
          "name": "stdout"
        },
        {
          "output_type": "stream",
          "text": [
            "Using TensorFlow backend.\n"
          ],
          "name": "stderr"
        }
      ]
    },
    {
      "metadata": {
        "id": "-DmaVZz562j6",
        "colab_type": "code",
        "colab": {}
      },
      "cell_type": "code",
      "source": [
        "#Get Wikipedia 2014 + Gigaword 5 (6B tokens, 400K vocab, uncased, 50d, 100d, 200d, & 300d vectors, 822 MB download). They used 300d vectors in their paper."
      ],
      "execution_count": 0,
      "outputs": []
    },
    {
      "metadata": {
        "id": "SuwUmyojgisg",
        "colab_type": "code",
        "colab": {
          "base_uri": "https://localhost:8080/",
          "height": 273
        },
        "outputId": "03b83e64-461d-405e-9efe-c8f77583fb58"
      },
      "cell_type": "code",
      "source": [
        "!wget http://nlp.stanford.edu/data/glove.6B.zip"
      ],
      "execution_count": 4,
      "outputs": [
        {
          "output_type": "stream",
          "text": [
            "--2019-02-08 20:58:24--  http://nlp.stanford.edu/data/glove.6B.zip\n",
            "Resolving nlp.stanford.edu (nlp.stanford.edu)... 171.64.67.140\n",
            "Connecting to nlp.stanford.edu (nlp.stanford.edu)|171.64.67.140|:80... connected.\n",
            "HTTP request sent, awaiting response... 302 Found\n",
            "Location: https://nlp.stanford.edu/data/glove.6B.zip [following]\n",
            "--2019-02-08 20:58:24--  https://nlp.stanford.edu/data/glove.6B.zip\n",
            "Connecting to nlp.stanford.edu (nlp.stanford.edu)|171.64.67.140|:443... connected.\n",
            "HTTP request sent, awaiting response... 200 OK\n",
            "Length: 862182613 (822M) [application/zip]\n",
            "Saving to: ‘glove.6B.zip’\n",
            "\n",
            "glove.6B.zip        100%[===================>] 822.24M  3.07MB/s    in 8m 6s   \n",
            "\n",
            "2019-02-08 21:06:30 (1.69 MB/s) - ‘glove.6B.zip’ saved [862182613/862182613]\n",
            "\n"
          ],
          "name": "stdout"
        }
      ]
    },
    {
      "metadata": {
        "id": "OPAY1Ci9hBHa",
        "colab_type": "code",
        "colab": {
          "base_uri": "https://localhost:8080/",
          "height": 102
        },
        "outputId": "37a29c3c-8674-4219-e63f-48076e9ec821"
      },
      "cell_type": "code",
      "source": [
        "!unzip glove.6B.zip"
      ],
      "execution_count": 5,
      "outputs": [
        {
          "output_type": "stream",
          "text": [
            "Archive:  glove.6B.zip\n",
            "  inflating: glove.6B.50d.txt        \n",
            "  inflating: glove.6B.100d.txt       \n",
            "  inflating: glove.6B.200d.txt       \n",
            "  inflating: glove.6B.300d.txt       \n"
          ],
          "name": "stdout"
        }
      ]
    },
    {
      "metadata": {
        "id": "9H6UaMy21r6J",
        "colab_type": "code",
        "colab": {}
      },
      "cell_type": "code",
      "source": [
        "!mkdir /content/embeddings/\n",
        "!mv /content/glove.6B.300d.txt /content/embeddings/"
      ],
      "execution_count": 0,
      "outputs": []
    },
    {
      "metadata": {
        "id": "4co73DhcIg7M",
        "colab_type": "code",
        "colab": {}
      },
      "cell_type": "code",
      "source": [
        "import gensim\n",
        "from gensim.models.keyedvectors import KeyedVectors"
      ],
      "execution_count": 0,
      "outputs": []
    },
    {
      "metadata": {
        "id": "sThiGUR77Fiq",
        "colab_type": "code",
        "colab": {}
      },
      "cell_type": "code",
      "source": [
        "#Convert txt data to word2vec format"
      ],
      "execution_count": 0,
      "outputs": []
    },
    {
      "metadata": {
        "id": "BoKeKB7Qct_0",
        "colab_type": "code",
        "colab": {
          "base_uri": "https://localhost:8080/",
          "height": 122
        },
        "outputId": "91a1857c-e32a-475b-a0f9-3aa4e60a449e"
      },
      "cell_type": "code",
      "source": [
        "!python -m gensim.scripts.glove2word2vec -i /content/embeddings/glove.6B.300d.txt -o /content/glove.txt"
      ],
      "execution_count": 8,
      "outputs": [
        {
          "output_type": "stream",
          "text": [
            "/usr/lib/python3.6/runpy.py:125: RuntimeWarning: 'gensim.scripts.glove2word2vec' found in sys.modules after import of package 'gensim.scripts', but prior to execution of 'gensim.scripts.glove2word2vec'; this may result in unpredictable behaviour\n",
            "  warn(RuntimeWarning(msg))\n",
            "2019-02-08 21:09:27,128 - glove2word2vec - INFO - running /usr/local/lib/python3.6/dist-packages/gensim/scripts/glove2word2vec.py -i /content/embeddings/glove.6B.300d.txt -o /content/glove.txt\n",
            "2019-02-08 21:09:27,815 - glove2word2vec - INFO - converting 400000 vectors from /content/embeddings/glove.6B.300d.txt to /content/glove.txt\n",
            "2019-02-08 21:09:35,849 - glove2word2vec - INFO - Converted model with 400000 vectors and 300 dimensions\n"
          ],
          "name": "stdout"
        }
      ]
    },
    {
      "metadata": {
        "id": "2nNUts8l1KdG",
        "colab_type": "code",
        "colab": {}
      },
      "cell_type": "code",
      "source": [
        "glove = KeyedVectors.load_word2vec_format('/content/' + 'glove.txt', binary=False)"
      ],
      "execution_count": 0,
      "outputs": []
    },
    {
      "metadata": {
        "id": "_0gWxwBl7MpB",
        "colab_type": "code",
        "colab": {}
      },
      "cell_type": "code",
      "source": [
        "#Conceptor Negation(Inputs: name string of word vector model(e.g 'glove'), alpha =1 or 2)"
      ],
      "execution_count": 0,
      "outputs": []
    },
    {
      "metadata": {
        "id": "b3Tj--C0CvDG",
        "colab_type": "code",
        "colab": {}
      },
      "cell_type": "code",
      "source": [
        "def protoConceptor(wordVecModel_str, alpha):\n",
        "    # compute the prototype conceptor with alpha = 1\n",
        "    \n",
        "    \n",
        "    wordVecModel = eval(wordVecModel_str)    \n",
        "\n",
        "\n",
        "\n",
        "    # put the word vectors in columns\n",
        "    x_collector = wordVecModel.vectors[:].T       \n",
        "        \n",
        "    num_vec = x_collector.shape[0]\n",
        "    nrWords = x_collector.shape[1] # number of total words\n",
        "    \n",
        "    \n",
        "    R = x_collector.dot(x_collector.T) / nrWords # calculate the correlation matrix\n",
        "    \n",
        "    C = R @ inv(R + alpha ** (-2) * np.eye(300))# calculate the conceptor matrix\n",
        "    mat = ((np.eye(num_vec)-C)@ x_collector).T\n",
        "    return  mat"
      ],
      "execution_count": 0,
      "outputs": []
    },
    {
      "metadata": {
        "id": "0yL177EgJyYM",
        "colab_type": "code",
        "colab": {}
      },
      "cell_type": "code",
      "source": [
        "cn_f_name = 'glove'\n",
        "glove_cn_mat = protoConceptor(cn_f_name, 1)"
      ],
      "execution_count": 0,
      "outputs": []
    },
    {
      "metadata": {
        "id": "6YPpebLp7gg2",
        "colab_type": "code",
        "colab": {}
      },
      "cell_type": "code",
      "source": [
        "#Write CN word vectors into a txt file, which will be read by vecto library for calculation. Might take a few minutes."
      ],
      "execution_count": 0,
      "outputs": []
    },
    {
      "metadata": {
        "id": "AfOMxUYG8kOD",
        "colab_type": "code",
        "colab": {}
      },
      "cell_type": "code",
      "source": [
        "!mkdir /content/cn_embeddings/"
      ],
      "execution_count": 0,
      "outputs": []
    },
    {
      "metadata": {
        "id": "Ols5yQ5-dwNN",
        "colab_type": "code",
        "colab": {}
      },
      "cell_type": "code",
      "source": [
        "model = eval('glove')\n",
        "f = open('/content/cn_embeddings/glove_cn.txt','w+')\n",
        "for word in model.vocab:\n",
        "  f.write(word+' ')\n",
        "  id = model.vocab[word].index\n",
        "  for item in glove_cn_mat[id,:]:\n",
        "    f.write(str(item)+' ')\n",
        "  f.write('\\n')\n",
        "f.close()"
      ],
      "execution_count": 0,
      "outputs": []
    },
    {
      "metadata": {
        "id": "kBD0QWLkej47",
        "colab_type": "text"
      },
      "cell_type": "markdown",
      "source": [
        "# Load BATS datasets"
      ]
    },
    {
      "metadata": {
        "id": "Rk6E44QA7sje",
        "colab_type": "code",
        "colab": {}
      },
      "cell_type": "code",
      "source": [
        "#Download BATS dataset"
      ],
      "execution_count": 0,
      "outputs": []
    },
    {
      "metadata": {
        "id": "KIbD-2xdRTjR",
        "colab_type": "code",
        "outputId": "1d6cc371-4be0-450e-d5b3-a9e0da768ffb",
        "colab": {
          "base_uri": "https://localhost:8080/",
          "height": 85
        }
      },
      "cell_type": "code",
      "source": [
        "!gdown https://drive.google.com/uc?id=14XcqPQZDlP5gMWAb4tFhTz16snJR73ly\n"
      ],
      "execution_count": 14,
      "outputs": [
        {
          "output_type": "stream",
          "text": [
            "Downloading...\n",
            "From: https://drive.google.com/uc?id=14XcqPQZDlP5gMWAb4tFhTz16snJR73ly\n",
            "To: /content/BATS_3.0.zip\n",
            "\r  0% 0.00/43.5k [00:00<?, ?B/s]\r100% 43.5k/43.5k [00:00<00:00, 18.4MB/s]\n"
          ],
          "name": "stdout"
        }
      ]
    },
    {
      "metadata": {
        "id": "Rux_yA3BVlHo",
        "colab_type": "code",
        "outputId": "c967f6d8-049a-471b-c78d-17e827860ae0",
        "colab": {
          "base_uri": "https://localhost:8080/",
          "height": 819
        }
      },
      "cell_type": "code",
      "source": [
        "!unzip BATS_3.0.zip"
      ],
      "execution_count": 15,
      "outputs": [
        {
          "output_type": "stream",
          "text": [
            "Archive:  BATS_3.0.zip\n",
            "   creating: BATS_3.0/\n",
            "   creating: BATS_3.0/4_Lexicographic_semantics/\n",
            "  inflating: BATS_3.0/4_Lexicographic_semantics/L03 [hyponyms - misc].txt  \n",
            "  inflating: BATS_3.0/4_Lexicographic_semantics/L02 [hypernyms - misc].txt  \n",
            "  inflating: BATS_3.0/4_Lexicographic_semantics/L01 [hypernyms - animals].txt  \n",
            "  inflating: BATS_3.0/4_Lexicographic_semantics/L09 [antonyms - gradable].txt  \n",
            "  inflating: BATS_3.0/4_Lexicographic_semantics/L06 [meronyms - part].txt  \n",
            "  inflating: BATS_3.0/4_Lexicographic_semantics/L07 [synonyms - intensity].txt  \n",
            "  inflating: BATS_3.0/4_Lexicographic_semantics/L08 [synonyms - exact].txt  \n",
            "  inflating: BATS_3.0/4_Lexicographic_semantics/L10 [antonyms - binary].txt  \n",
            "  inflating: BATS_3.0/4_Lexicographic_semantics/L04 [meronyms - substance].txt  \n",
            "  inflating: BATS_3.0/4_Lexicographic_semantics/L05 [meronyms - member].txt  \n",
            "   creating: BATS_3.0/3_Encyclopedic_semantics/\n",
            "  inflating: BATS_3.0/3_Encyclopedic_semantics/E02 [country - language].txt  \n",
            "  inflating: BATS_3.0/3_Encyclopedic_semantics/E05 [name - occupation].txt  \n",
            "  inflating: BATS_3.0/3_Encyclopedic_semantics/E08 [animal - shelter].txt  \n",
            "  inflating: BATS_3.0/3_Encyclopedic_semantics/E09 [things - color].txt  \n",
            "  inflating: BATS_3.0/3_Encyclopedic_semantics/E03 [UK_city - county].txt  \n",
            "  inflating: BATS_3.0/3_Encyclopedic_semantics/E04 [name - nationality].txt  \n",
            "  inflating: BATS_3.0/3_Encyclopedic_semantics/E10 [male - female].txt  \n",
            "  inflating: BATS_3.0/3_Encyclopedic_semantics/E07 [animal - sound].txt  \n",
            "  inflating: BATS_3.0/3_Encyclopedic_semantics/E06 [animal - young].txt  \n",
            "  inflating: BATS_3.0/3_Encyclopedic_semantics/E01 [country - capital].txt  \n",
            "   creating: BATS_3.0/2_Derivational_morphology/\n",
            "  inflating: BATS_3.0/2_Derivational_morphology/D04 [over+adj_reg].txt  \n",
            "  inflating: BATS_3.0/2_Derivational_morphology/D09 [verb+tion_irreg].txt  \n",
            "  inflating: BATS_3.0/2_Derivational_morphology/D10 [verb+ment_irreg].txt  \n",
            "  inflating: BATS_3.0/2_Derivational_morphology/D02 [un+adj_reg].txt  \n",
            "  inflating: BATS_3.0/2_Derivational_morphology/D03 [adj+ly_reg].txt  \n",
            "  inflating: BATS_3.0/2_Derivational_morphology/D07 [verb+able_reg].txt  \n",
            "  inflating: BATS_3.0/2_Derivational_morphology/D05 [adj+ness_reg].txt  \n",
            "  inflating: BATS_3.0/2_Derivational_morphology/D06 [re+verb_reg].txt  \n",
            "  inflating: BATS_3.0/2_Derivational_morphology/D08 [verb+er_irreg].txt  \n",
            "  inflating: BATS_3.0/2_Derivational_morphology/D01 [noun+less_reg].txt  \n",
            "   creating: BATS_3.0/1_Inflectional_morphology/\n",
            "  inflating: BATS_3.0/1_Inflectional_morphology/I09 [verb_Ving - Ved].txt  \n",
            "  inflating: BATS_3.0/1_Inflectional_morphology/I08 [verb_Ving - 3pSg].txt  \n",
            "  inflating: BATS_3.0/1_Inflectional_morphology/I02 [noun - plural_irreg].txt  \n",
            "  inflating: BATS_3.0/1_Inflectional_morphology/I06 [verb_inf - Ving].txt  \n",
            "  inflating: BATS_3.0/1_Inflectional_morphology/I10 [verb_3pSg - Ved].txt  \n",
            "  inflating: BATS_3.0/1_Inflectional_morphology/I07 [verb_inf - Ved].txt  \n",
            "  inflating: BATS_3.0/1_Inflectional_morphology/I05 [verb_inf - 3pSg].txt  \n",
            "  inflating: BATS_3.0/1_Inflectional_morphology/I01 [noun - plural_reg].txt  \n",
            "  inflating: BATS_3.0/1_Inflectional_morphology/I04 [adj - superlative].txt  \n",
            "  inflating: BATS_3.0/1_Inflectional_morphology/I03 [adj - comparative].txt  \n",
            "  inflating: BATS_3.0/metadata.json  \n"
          ],
          "name": "stdout"
        }
      ]
    },
    {
      "metadata": {
        "id": "3YLHfrkqbj61",
        "colab_type": "text"
      },
      "cell_type": "markdown",
      "source": [
        "# Results"
      ]
    },
    {
      "metadata": {
        "id": "Ie2jwN9IEq_k",
        "colab_type": "text"
      },
      "cell_type": "markdown",
      "source": [
        "Analogy results using LRCos method. The method will look for top 5 neighbors but only count the first neighbor into accuracy. \\\n",
        "The results would be slightly different for each run"
      ]
    },
    {
      "metadata": {
        "id": "BVugdwAE0Fml",
        "colab_type": "code",
        "colab": {}
      },
      "cell_type": "code",
      "source": [
        "import vecto\n",
        "#import vsmlib\n",
        "from vecto.embeddings import load_from_dir\n",
        "from vecto.benchmarks.analogy import Analogy"
      ],
      "execution_count": 0,
      "outputs": []
    },
    {
      "metadata": {
        "id": "losanH0q7zGF",
        "colab_type": "code",
        "colab": {}
      },
      "cell_type": "code",
      "source": [
        "#Get BATS results(Inputs: fil_dir1 is the directory of embeddings, fil_dir2 is the directory of BATS dataset)"
      ],
      "execution_count": 0,
      "outputs": []
    },
    {
      "metadata": {
        "id": "8PK4GilSbnzp",
        "colab_type": "code",
        "colab": {}
      },
      "cell_type": "code",
      "source": [
        "def bats_results(file_dir1, file_dir2):\n",
        "  path_model = file_dir1\n",
        "  model = load_from_dir(path_model)\n",
        "  options = {}\n",
        "  options[\"path_dataset\"] = file_dir2\n",
        "  options[\"name_method\"] = \"LRCos\"  #name of the method, default value is 3CosAdd\n",
        "  analogy = Analogy(method = options[\"name_method\"], do_top5 = True)\n",
        "  results = analogy.get_result(model, options[\"path_dataset\"])\n",
        "\n",
        "  return results"
      ],
      "execution_count": 0,
      "outputs": []
    },
    {
      "metadata": {
        "id": "rozinyh-Swdb",
        "colab_type": "code",
        "colab": {}
      },
      "cell_type": "code",
      "source": [
        "# Their code calculates accuracy in a cumulative way, so the average accuracy is the 10th number.(10 files in each category)"
      ],
      "execution_count": 0,
      "outputs": []
    },
    {
      "metadata": {
        "id": "elPqLiimbmqs",
        "colab_type": "code",
        "colab": {
          "base_uri": "https://localhost:8080/",
          "height": 785
        },
        "outputId": "97f56f5f-bedb-4e0b-b711-9810c5c23f5b"
      },
      "cell_type": "code",
      "source": [
        "acc_lexico = bats_results('/content/embeddings/','/content/BATS_3.0/4_Lexicographic_semantics/')\n",
        "accu_lexico = acc_lexico[9]['result']['accuracy']\n",
        "acc_inf = bats_results('/content/embeddings/','/content/BATS_3.0/1_Inflectional_morphology/')\n",
        "accu_inf = acc_inf[9]['result']['accuracy']\n",
        "acc_deriv = bats_results('/content/embeddings/','/content/BATS_3.0/2_Derivational_morphology/')\n",
        "accu_deriv = acc_deriv[9]['result']['accuracy']\n",
        "acc_en = bats_results('/content/embeddings/','/content/BATS_3.0/3_Encyclopedic_semantics/')\n",
        "accu_en = acc_en[9]['result']['accuracy']"
      ],
      "execution_count": 20,
      "outputs": [
        {
          "output_type": "stream",
          "text": [
            "INFO:vecto.embeddings:/content/embeddings/Detected VSM in plain text format\n",
            "INFO:vecto.benchmarks.analogy.analogy:processing /content/BATS_3.0/4_Lexicographic_semantics/L01 [hypernyms - animals].txt\n",
            "100% (50 of 50) |########################| Elapsed Time: 0:00:28 ETA:  00:00:00INFO:vecto.benchmarks.analogy.analogy:processing /content/BATS_3.0/4_Lexicographic_semantics/L02 [hypernyms - misc].txt\n",
            "100% (50 of 50) |########################| Elapsed Time: 0:00:28 ETA:  00:00:00INFO:vecto.benchmarks.analogy.analogy:processing /content/BATS_3.0/4_Lexicographic_semantics/L03 [hyponyms - misc].txt\n",
            "100% (50 of 50) |########################| Elapsed Time: 0:00:28 ETA:  00:00:00INFO:vecto.benchmarks.analogy.analogy:processing /content/BATS_3.0/4_Lexicographic_semantics/L04 [meronyms - substance].txt\n",
            "100% (50 of 50) |########################| Elapsed Time: 0:00:28 ETA:  00:00:00INFO:vecto.benchmarks.analogy.analogy:processing /content/BATS_3.0/4_Lexicographic_semantics/L05 [meronyms - member].txt\n",
            "100% (50 of 50) |########################| Elapsed Time: 0:00:28 ETA:  00:00:00INFO:vecto.benchmarks.analogy.analogy:processing /content/BATS_3.0/4_Lexicographic_semantics/L06 [meronyms - part].txt\n",
            "100% (50 of 50) |########################| Elapsed Time: 0:00:28 ETA:  00:00:00INFO:vecto.benchmarks.analogy.analogy:processing /content/BATS_3.0/4_Lexicographic_semantics/L07 [synonyms - intensity].txt\n",
            "100% (50 of 50) |########################| Elapsed Time: 0:00:28 ETA:  00:00:00INFO:vecto.benchmarks.analogy.analogy:processing /content/BATS_3.0/4_Lexicographic_semantics/L08 [synonyms - exact].txt\n",
            "100% (50 of 50) |########################| Elapsed Time: 0:00:28 ETA:  00:00:00INFO:vecto.benchmarks.analogy.analogy:processing /content/BATS_3.0/4_Lexicographic_semantics/L09 [antonyms - gradable].txt\n",
            "100% (50 of 50) |########################| Elapsed Time: 0:00:28 ETA:  00:00:00INFO:vecto.benchmarks.analogy.analogy:processing /content/BATS_3.0/4_Lexicographic_semantics/L10 [antonyms - binary].txt\n",
            "100% (50 of 50) |########################| Elapsed Time: 0:00:28 ETA:  00:00:00INFO:vecto.embeddings:/content/embeddings/Detected VSM in plain text format\n",
            "INFO:vecto.benchmarks.analogy.analogy:processing /content/BATS_3.0/1_Inflectional_morphology/I01 [noun - plural_reg].txt\n",
            "100% (50 of 50) |########################| Elapsed Time: 0:00:28 ETA:  00:00:00INFO:vecto.benchmarks.analogy.analogy:processing /content/BATS_3.0/1_Inflectional_morphology/I02 [noun - plural_irreg].txt\n",
            "100% (50 of 50) |########################| Elapsed Time: 0:00:29 ETA:  00:00:00INFO:vecto.benchmarks.analogy.analogy:processing /content/BATS_3.0/1_Inflectional_morphology/I03 [adj - comparative].txt\n",
            "100% (50 of 50) |########################| Elapsed Time: 0:00:28 ETA:  00:00:00INFO:vecto.benchmarks.analogy.analogy:processing /content/BATS_3.0/1_Inflectional_morphology/I04 [adj - superlative].txt\n",
            "100% (50 of 50) |########################| Elapsed Time: 0:00:28 ETA:  00:00:00INFO:vecto.benchmarks.analogy.analogy:processing /content/BATS_3.0/1_Inflectional_morphology/I05 [verb_inf - 3pSg].txt\n",
            "100% (50 of 50) |########################| Elapsed Time: 0:00:28 ETA:  00:00:00INFO:vecto.benchmarks.analogy.analogy:processing /content/BATS_3.0/1_Inflectional_morphology/I06 [verb_inf - Ving].txt\n",
            "100% (50 of 50) |########################| Elapsed Time: 0:00:28 ETA:  00:00:00INFO:vecto.benchmarks.analogy.analogy:processing /content/BATS_3.0/1_Inflectional_morphology/I07 [verb_inf - Ved].txt\n",
            "100% (50 of 50) |########################| Elapsed Time: 0:00:28 ETA:  00:00:00INFO:vecto.benchmarks.analogy.analogy:processing /content/BATS_3.0/1_Inflectional_morphology/I08 [verb_Ving - 3pSg].txt\n",
            "100% (50 of 50) |########################| Elapsed Time: 0:00:28 ETA:  00:00:00INFO:vecto.benchmarks.analogy.analogy:processing /content/BATS_3.0/1_Inflectional_morphology/I09 [verb_Ving - Ved].txt\n",
            "100% (50 of 50) |########################| Elapsed Time: 0:00:27 ETA:  00:00:00INFO:vecto.benchmarks.analogy.analogy:processing /content/BATS_3.0/1_Inflectional_morphology/I10 [verb_3pSg - Ved].txt\n",
            "100% (50 of 50) |########################| Elapsed Time: 0:00:27 ETA:  00:00:00INFO:vecto.embeddings:/content/embeddings/Detected VSM in plain text format\n",
            "INFO:vecto.benchmarks.analogy.analogy:processing /content/BATS_3.0/2_Derivational_morphology/D01 [noun+less_reg].txt\n",
            "100% (50 of 50) |########################| Elapsed Time: 0:00:28 ETA:  00:00:00INFO:vecto.benchmarks.analogy.analogy:processing /content/BATS_3.0/2_Derivational_morphology/D02 [un+adj_reg].txt\n",
            "100% (50 of 50) |########################| Elapsed Time: 0:00:28 ETA:  00:00:00INFO:vecto.benchmarks.analogy.analogy:processing /content/BATS_3.0/2_Derivational_morphology/D03 [adj+ly_reg].txt\n",
            "100% (50 of 50) |########################| Elapsed Time: 0:00:28 ETA:  00:00:00INFO:vecto.benchmarks.analogy.analogy:processing /content/BATS_3.0/2_Derivational_morphology/D04 [over+adj_reg].txt\n",
            "100% (50 of 50) |########################| Elapsed Time: 0:00:28 ETA:  00:00:00INFO:vecto.benchmarks.analogy.analogy:processing /content/BATS_3.0/2_Derivational_morphology/D05 [adj+ness_reg].txt\n",
            "100% (50 of 50) |########################| Elapsed Time: 0:00:29 ETA:  00:00:00INFO:vecto.benchmarks.analogy.analogy:processing /content/BATS_3.0/2_Derivational_morphology/D06 [re+verb_reg].txt\n",
            "100% (50 of 50) |########################| Elapsed Time: 0:00:28 ETA:  00:00:00INFO:vecto.benchmarks.analogy.analogy:processing /content/BATS_3.0/2_Derivational_morphology/D07 [verb+able_reg].txt\n",
            "100% (50 of 50) |########################| Elapsed Time: 0:00:28 ETA:  00:00:00INFO:vecto.benchmarks.analogy.analogy:processing /content/BATS_3.0/2_Derivational_morphology/D08 [verb+er_irreg].txt\n",
            "100% (50 of 50) |########################| Elapsed Time: 0:00:28 ETA:  00:00:00INFO:vecto.benchmarks.analogy.analogy:processing /content/BATS_3.0/2_Derivational_morphology/D09 [verb+tion_irreg].txt\n",
            "100% (50 of 50) |########################| Elapsed Time: 0:00:27 ETA:  00:00:00INFO:vecto.benchmarks.analogy.analogy:processing /content/BATS_3.0/2_Derivational_morphology/D10 [verb+ment_irreg].txt\n",
            "100% (50 of 50) |########################| Elapsed Time: 0:00:28 ETA:  00:00:00INFO:vecto.embeddings:/content/embeddings/Detected VSM in plain text format\n",
            "INFO:vecto.benchmarks.analogy.analogy:processing /content/BATS_3.0/3_Encyclopedic_semantics/E01 [country - capital].txt\n",
            "100% (50 of 50) |########################| Elapsed Time: 0:00:28 ETA:  00:00:00INFO:vecto.benchmarks.analogy.analogy:processing /content/BATS_3.0/3_Encyclopedic_semantics/E02 [country - language].txt\n",
            "100% (50 of 50) |########################| Elapsed Time: 0:00:28 ETA:  00:00:00INFO:vecto.benchmarks.analogy.analogy:processing /content/BATS_3.0/3_Encyclopedic_semantics/E03 [UK_city - county].txt\n",
            "100% (50 of 50) |########################| Elapsed Time: 0:00:28 ETA:  00:00:00INFO:vecto.benchmarks.analogy.analogy:processing /content/BATS_3.0/3_Encyclopedic_semantics/E04 [name - nationality].txt\n",
            "100% (50 of 50) |########################| Elapsed Time: 0:00:28 ETA:  00:00:00INFO:vecto.benchmarks.analogy.analogy:processing /content/BATS_3.0/3_Encyclopedic_semantics/E05 [name - occupation].txt\n",
            "100% (50 of 50) |########################| Elapsed Time: 0:00:28 ETA:  00:00:00INFO:vecto.benchmarks.analogy.analogy:processing /content/BATS_3.0/3_Encyclopedic_semantics/E06 [animal - young].txt\n",
            "100% (50 of 50) |########################| Elapsed Time: 0:00:29 ETA:  00:00:00INFO:vecto.benchmarks.analogy.analogy:processing /content/BATS_3.0/3_Encyclopedic_semantics/E07 [animal - sound].txt\n",
            "100% (50 of 50) |########################| Elapsed Time: 0:00:28 ETA:  00:00:00INFO:vecto.benchmarks.analogy.analogy:processing /content/BATS_3.0/3_Encyclopedic_semantics/E08 [animal - shelter].txt\n",
            "100% (50 of 50) |########################| Elapsed Time: 0:00:28 ETA:  00:00:00INFO:vecto.benchmarks.analogy.analogy:processing /content/BATS_3.0/3_Encyclopedic_semantics/E09 [things - color].txt\n",
            "100% (50 of 50) |########################| Elapsed Time: 0:00:28 ETA:  00:00:00INFO:vecto.benchmarks.analogy.analogy:processing /content/BATS_3.0/3_Encyclopedic_semantics/E10 [male - female].txt\n",
            "100% (50 of 50) |########################| Elapsed Time: 0:00:28 ETA:  00:00:00"
          ],
          "name": "stderr"
        }
      ]
    },
    {
      "metadata": {
        "id": "t5qIDgxZSg9n",
        "colab_type": "code",
        "colab": {}
      },
      "cell_type": "code",
      "source": [
        "#Print average accuracy of each category. "
      ],
      "execution_count": 0,
      "outputs": []
    },
    {
      "metadata": {
        "id": "GgR_CBZZntHB",
        "colab_type": "code",
        "colab": {
          "base_uri": "https://localhost:8080/",
          "height": 85
        },
        "outputId": "ba077ad0-497c-4d8d-beb6-8456e9741cc6"
      },
      "cell_type": "code",
      "source": [
        "print('Raw lexicograpic top1 accuracy: ', accu_lexico)\n",
        "print('Raw inflectional top1 accuracy: ',accu_inf)\n",
        "print('Raw derivational top1 accuracy: ', accu_deriv)\n",
        "print('Raw encyclopedic top1 accuracy: ', accu_en)"
      ],
      "execution_count": 21,
      "outputs": [
        {
          "output_type": "stream",
          "text": [
            "Raw lexicograpic top1 accuracy:  0.2560483870967742\n",
            "Raw inflectional top1 accuracy:  0.7855711422845691\n",
            "Raw derivational top1 accuracy:  0.29568788501026694\n",
            "Raw encyclopedic top1 accuracy:  0.4497991967871486\n"
          ],
          "name": "stdout"
        }
      ]
    },
    {
      "metadata": {
        "id": "Is6U-Hc7-Oap",
        "colab_type": "code",
        "colab": {}
      },
      "cell_type": "code",
      "source": [
        "#CN results "
      ],
      "execution_count": 0,
      "outputs": []
    },
    {
      "metadata": {
        "id": "pAwAA8jgb0rB",
        "colab_type": "code",
        "colab": {
          "base_uri": "https://localhost:8080/",
          "height": 785
        },
        "outputId": "56f21bde-9a94-45c7-eb6d-0d874c604844"
      },
      "cell_type": "code",
      "source": [
        "acc_lexico = bats_results('/content/cn_embeddings/','/content/BATS_3.0/4_Lexicographic_semantics/')\n",
        "accu_lexico_cn = acc_lexico[9]['result']['accuracy']\n",
        "acc_inf = bats_results('/content/cn_embeddings/','/content/BATS_3.0/1_Inflectional_morphology/')\n",
        "accu_inf_cn = acc_inf[9]['result']['accuracy']\n",
        "acc_deriv = bats_results('/content/cn_embeddings/','/content/BATS_3.0/2_Derivational_morphology/')\n",
        "accu_deriv_cn = acc_deriv[9]['result']['accuracy']\n",
        "acc_en = bats_results('/content/cn_embeddings/','/content/BATS_3.0/3_Encyclopedic_semantics/')\n",
        "accu_en_cn = acc_en[9]['result']['accuracy']"
      ],
      "execution_count": 25,
      "outputs": [
        {
          "output_type": "stream",
          "text": [
            "INFO:vecto.embeddings:/content/cn_embeddings/Detected VSM in plain text format\n",
            "INFO:vecto.benchmarks.analogy.analogy:processing /content/BATS_3.0/4_Lexicographic_semantics/L01 [hypernyms - animals].txt\n",
            "100% (50 of 50) |########################| Elapsed Time: 0:00:28 ETA:  00:00:00INFO:vecto.benchmarks.analogy.analogy:processing /content/BATS_3.0/4_Lexicographic_semantics/L02 [hypernyms - misc].txt\n",
            "100% (50 of 50) |########################| Elapsed Time: 0:00:28 ETA:  00:00:00INFO:vecto.benchmarks.analogy.analogy:processing /content/BATS_3.0/4_Lexicographic_semantics/L03 [hyponyms - misc].txt\n",
            "100% (50 of 50) |########################| Elapsed Time: 0:00:28 ETA:  00:00:00INFO:vecto.benchmarks.analogy.analogy:processing /content/BATS_3.0/4_Lexicographic_semantics/L04 [meronyms - substance].txt\n",
            "100% (50 of 50) |########################| Elapsed Time: 0:00:28 ETA:  00:00:00INFO:vecto.benchmarks.analogy.analogy:processing /content/BATS_3.0/4_Lexicographic_semantics/L05 [meronyms - member].txt\n",
            "100% (50 of 50) |########################| Elapsed Time: 0:00:28 ETA:  00:00:00INFO:vecto.benchmarks.analogy.analogy:processing /content/BATS_3.0/4_Lexicographic_semantics/L06 [meronyms - part].txt\n",
            "100% (50 of 50) |########################| Elapsed Time: 0:00:27 ETA:  00:00:00INFO:vecto.benchmarks.analogy.analogy:processing /content/BATS_3.0/4_Lexicographic_semantics/L07 [synonyms - intensity].txt\n",
            "100% (50 of 50) |########################| Elapsed Time: 0:00:27 ETA:  00:00:00INFO:vecto.benchmarks.analogy.analogy:processing /content/BATS_3.0/4_Lexicographic_semantics/L08 [synonyms - exact].txt\n",
            "100% (50 of 50) |########################| Elapsed Time: 0:00:27 ETA:  00:00:00INFO:vecto.benchmarks.analogy.analogy:processing /content/BATS_3.0/4_Lexicographic_semantics/L09 [antonyms - gradable].txt\n",
            "100% (50 of 50) |########################| Elapsed Time: 0:00:27 ETA:  00:00:00INFO:vecto.benchmarks.analogy.analogy:processing /content/BATS_3.0/4_Lexicographic_semantics/L10 [antonyms - binary].txt\n",
            "100% (50 of 50) |########################| Elapsed Time: 0:00:28 ETA:  00:00:00INFO:vecto.embeddings:/content/cn_embeddings/Detected VSM in plain text format\n",
            "INFO:vecto.benchmarks.analogy.analogy:processing /content/BATS_3.0/1_Inflectional_morphology/I01 [noun - plural_reg].txt\n",
            "100% (50 of 50) |########################| Elapsed Time: 0:00:28 ETA:  00:00:00INFO:vecto.benchmarks.analogy.analogy:processing /content/BATS_3.0/1_Inflectional_morphology/I02 [noun - plural_irreg].txt\n",
            "100% (50 of 50) |########################| Elapsed Time: 0:00:28 ETA:  00:00:00INFO:vecto.benchmarks.analogy.analogy:processing /content/BATS_3.0/1_Inflectional_morphology/I03 [adj - comparative].txt\n",
            "100% (50 of 50) |########################| Elapsed Time: 0:00:27 ETA:  00:00:00INFO:vecto.benchmarks.analogy.analogy:processing /content/BATS_3.0/1_Inflectional_morphology/I04 [adj - superlative].txt\n",
            "100% (50 of 50) |########################| Elapsed Time: 0:00:27 ETA:  00:00:00INFO:vecto.benchmarks.analogy.analogy:processing /content/BATS_3.0/1_Inflectional_morphology/I05 [verb_inf - 3pSg].txt\n",
            "100% (50 of 50) |########################| Elapsed Time: 0:00:27 ETA:  00:00:00INFO:vecto.benchmarks.analogy.analogy:processing /content/BATS_3.0/1_Inflectional_morphology/I06 [verb_inf - Ving].txt\n",
            "100% (50 of 50) |########################| Elapsed Time: 0:00:27 ETA:  00:00:00INFO:vecto.benchmarks.analogy.analogy:processing /content/BATS_3.0/1_Inflectional_morphology/I07 [verb_inf - Ved].txt\n",
            "100% (50 of 50) |########################| Elapsed Time: 0:00:27 ETA:  00:00:00INFO:vecto.benchmarks.analogy.analogy:processing /content/BATS_3.0/1_Inflectional_morphology/I08 [verb_Ving - 3pSg].txt\n",
            "100% (50 of 50) |########################| Elapsed Time: 0:00:27 ETA:  00:00:00INFO:vecto.benchmarks.analogy.analogy:processing /content/BATS_3.0/1_Inflectional_morphology/I09 [verb_Ving - Ved].txt\n",
            "100% (50 of 50) |########################| Elapsed Time: 0:00:27 ETA:  00:00:00INFO:vecto.benchmarks.analogy.analogy:processing /content/BATS_3.0/1_Inflectional_morphology/I10 [verb_3pSg - Ved].txt\n",
            "100% (50 of 50) |########################| Elapsed Time: 0:00:27 ETA:  00:00:00INFO:vecto.embeddings:/content/cn_embeddings/Detected VSM in plain text format\n",
            "INFO:vecto.benchmarks.analogy.analogy:processing /content/BATS_3.0/2_Derivational_morphology/D01 [noun+less_reg].txt\n",
            "100% (50 of 50) |########################| Elapsed Time: 0:00:28 ETA:  00:00:00INFO:vecto.benchmarks.analogy.analogy:processing /content/BATS_3.0/2_Derivational_morphology/D02 [un+adj_reg].txt\n",
            "100% (50 of 50) |########################| Elapsed Time: 0:00:28 ETA:  00:00:00INFO:vecto.benchmarks.analogy.analogy:processing /content/BATS_3.0/2_Derivational_morphology/D03 [adj+ly_reg].txt\n",
            "100% (50 of 50) |########################| Elapsed Time: 0:00:28 ETA:  00:00:00INFO:vecto.benchmarks.analogy.analogy:processing /content/BATS_3.0/2_Derivational_morphology/D04 [over+adj_reg].txt\n",
            "100% (50 of 50) |########################| Elapsed Time: 0:00:28 ETA:  00:00:00INFO:vecto.benchmarks.analogy.analogy:processing /content/BATS_3.0/2_Derivational_morphology/D05 [adj+ness_reg].txt\n",
            "100% (50 of 50) |########################| Elapsed Time: 0:00:28 ETA:  00:00:00INFO:vecto.benchmarks.analogy.analogy:processing /content/BATS_3.0/2_Derivational_morphology/D06 [re+verb_reg].txt\n",
            "100% (50 of 50) |########################| Elapsed Time: 0:00:28 ETA:  00:00:00INFO:vecto.benchmarks.analogy.analogy:processing /content/BATS_3.0/2_Derivational_morphology/D07 [verb+able_reg].txt\n",
            "100% (50 of 50) |########################| Elapsed Time: 0:00:27 ETA:  00:00:00INFO:vecto.benchmarks.analogy.analogy:processing /content/BATS_3.0/2_Derivational_morphology/D08 [verb+er_irreg].txt\n",
            "100% (50 of 50) |########################| Elapsed Time: 0:00:28 ETA:  00:00:00INFO:vecto.benchmarks.analogy.analogy:processing /content/BATS_3.0/2_Derivational_morphology/D09 [verb+tion_irreg].txt\n",
            "100% (50 of 50) |########################| Elapsed Time: 0:00:27 ETA:  00:00:00INFO:vecto.benchmarks.analogy.analogy:processing /content/BATS_3.0/2_Derivational_morphology/D10 [verb+ment_irreg].txt\n",
            "100% (50 of 50) |########################| Elapsed Time: 0:00:27 ETA:  00:00:00INFO:vecto.embeddings:/content/cn_embeddings/Detected VSM in plain text format\n",
            "INFO:vecto.benchmarks.analogy.analogy:processing /content/BATS_3.0/3_Encyclopedic_semantics/E01 [country - capital].txt\n",
            "100% (50 of 50) |########################| Elapsed Time: 0:00:27 ETA:  00:00:00INFO:vecto.benchmarks.analogy.analogy:processing /content/BATS_3.0/3_Encyclopedic_semantics/E02 [country - language].txt\n",
            "100% (50 of 50) |########################| Elapsed Time: 0:00:28 ETA:  00:00:00INFO:vecto.benchmarks.analogy.analogy:processing /content/BATS_3.0/3_Encyclopedic_semantics/E03 [UK_city - county].txt\n",
            "100% (50 of 50) |########################| Elapsed Time: 0:00:27 ETA:  00:00:00INFO:vecto.benchmarks.analogy.analogy:processing /content/BATS_3.0/3_Encyclopedic_semantics/E04 [name - nationality].txt\n",
            "100% (50 of 50) |########################| Elapsed Time: 0:00:28 ETA:  00:00:00INFO:vecto.benchmarks.analogy.analogy:processing /content/BATS_3.0/3_Encyclopedic_semantics/E05 [name - occupation].txt\n",
            "100% (50 of 50) |########################| Elapsed Time: 0:00:27 ETA:  00:00:00INFO:vecto.benchmarks.analogy.analogy:processing /content/BATS_3.0/3_Encyclopedic_semantics/E06 [animal - young].txt\n",
            "100% (50 of 50) |########################| Elapsed Time: 0:00:28 ETA:  00:00:00INFO:vecto.benchmarks.analogy.analogy:processing /content/BATS_3.0/3_Encyclopedic_semantics/E07 [animal - sound].txt\n",
            "100% (50 of 50) |########################| Elapsed Time: 0:00:28 ETA:  00:00:00INFO:vecto.benchmarks.analogy.analogy:processing /content/BATS_3.0/3_Encyclopedic_semantics/E08 [animal - shelter].txt\n",
            "100% (50 of 50) |########################| Elapsed Time: 0:00:27 ETA:  00:00:00INFO:vecto.benchmarks.analogy.analogy:processing /content/BATS_3.0/3_Encyclopedic_semantics/E09 [things - color].txt\n",
            "100% (50 of 50) |########################| Elapsed Time: 0:00:28 ETA:  00:00:00INFO:vecto.benchmarks.analogy.analogy:processing /content/BATS_3.0/3_Encyclopedic_semantics/E10 [male - female].txt\n",
            "100% (50 of 50) |########################| Elapsed Time: 0:00:27 ETA:  00:00:00"
          ],
          "name": "stderr"
        }
      ]
    },
    {
      "metadata": {
        "id": "7WYJu-JnoChh",
        "colab_type": "code",
        "colab": {
          "base_uri": "https://localhost:8080/",
          "height": 85
        },
        "outputId": "03e7048e-ec80-40b6-fa41-58bcc893847f"
      },
      "cell_type": "code",
      "source": [
        "print('CN lexicograpic top1 accuracy: ', accu_lexico_cn)\n",
        "print('CN inflectional top1 accuracy: ',accu_inf_cn)\n",
        "print('CN derivational top1 accuracy: ', accu_deriv_cn)\n",
        "print('CN encyclopedic top1 accuracy: ', accu_en_cn)"
      ],
      "execution_count": 26,
      "outputs": [
        {
          "output_type": "stream",
          "text": [
            "CN lexicograpic top1 accuracy:  0.2439516129032258\n",
            "CN inflectional top1 accuracy:  0.8176352705410822\n",
            "CN derivational top1 accuracy:  0.32854209445585214\n",
            "CN encyclopedic top1 accuracy:  0.46586345381526106\n"
          ],
          "name": "stdout"
        }
      ]
    }
  ]
}