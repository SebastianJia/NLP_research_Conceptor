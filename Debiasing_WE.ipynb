{
  "nbformat": 4,
  "nbformat_minor": 0,
  "metadata": {
    "colab": {
      "name": "Debiasing WE",
      "version": "0.3.2",
      "provenance": [],
      "collapsed_sections": [],
      "toc_visible": true,
      "include_colab_link": true
    },
    "kernelspec": {
      "name": "python3",
      "display_name": "Python 3"
    }
  },
  "cells": [
    {
      "cell_type": "markdown",
      "metadata": {
        "id": "view-in-github",
        "colab_type": "text"
      },
      "source": [
        "<a href=\"https://colab.research.google.com/github/SebastianJia/nlp_research_conceptor/blob/master/Debiasing_WE.ipynb\" target=\"_parent\"><img src=\"https://colab.research.google.com/assets/colab-badge.svg\" alt=\"Open In Colab\"/></a>"
      ]
    },
    {
      "metadata": {
        "id": "nPEQDrI_IOtf",
        "colab_type": "text"
      },
      "cell_type": "markdown",
      "source": [
        "# Debiasing WE with CN"
      ]
    },
    {
      "metadata": {
        "id": "o3VcosyOIVjp",
        "colab_type": "text"
      },
      "cell_type": "markdown",
      "source": [
        "# Set up debiasing tool"
      ]
    },
    {
      "metadata": {
        "id": "MK90107gQ3TO",
        "colab_type": "code",
        "outputId": "3cc800ad-c6a0-4aa9-fe0a-744ea54294b1",
        "colab": {
          "base_uri": "https://localhost:8080/",
          "height": 102
        }
      },
      "cell_type": "code",
      "source": [
        "# Setup:\n",
        "# Clone the code repository from https://github.com/tolga-b/debiaswe.git\n",
        "!mkdir debiaswe_tutorial\n",
        "%cd debiaswe_tutorial\n",
        "!git clone https://github.com/tolga-b/debiaswe.git\n"
      ],
      "execution_count": 1,
      "outputs": [
        {
          "output_type": "stream",
          "text": [
            "/content/debiaswe_tutorial\n",
            "Cloning into 'debiaswe'...\n",
            "remote: Enumerating objects: 91, done.\u001b[K\n",
            "remote: Total 91 (delta 0), reused 0 (delta 0), pack-reused 91\u001b[K\n",
            "Unpacking objects: 100% (91/91), done.\n"
          ],
          "name": "stdout"
        }
      ]
    },
    {
      "metadata": {
        "id": "aCT0obBvRhi_",
        "colab_type": "code",
        "outputId": "9d06ddda-97a4-4f16-832a-7f101308bcc7",
        "colab": {
          "base_uri": "https://localhost:8080/",
          "height": 221
        }
      },
      "cell_type": "code",
      "source": [
        "#Download word embeddings provided by the author\n",
        "!pip install gdown\n",
        "!gdown https://drive.google.com/uc?id=1NH6jcrg8SXbnhpIXRIXF_-KUE7wGxGaG"
      ],
      "execution_count": 2,
      "outputs": [
        {
          "output_type": "stream",
          "text": [
            "Requirement already satisfied: gdown in /usr/local/lib/python3.6/dist-packages (3.6.4)\n",
            "Requirement already satisfied: requests in /usr/local/lib/python3.6/dist-packages (from gdown) (2.18.4)\n",
            "Requirement already satisfied: six in /usr/local/lib/python3.6/dist-packages (from gdown) (1.11.0)\n",
            "Requirement already satisfied: tqdm in /usr/local/lib/python3.6/dist-packages (from gdown) (4.28.1)\n",
            "Requirement already satisfied: urllib3<1.23,>=1.21.1 in /usr/local/lib/python3.6/dist-packages (from requests->gdown) (1.22)\n",
            "Requirement already satisfied: certifi>=2017.4.17 in /usr/local/lib/python3.6/dist-packages (from requests->gdown) (2018.11.29)\n",
            "Requirement already satisfied: idna<2.7,>=2.5 in /usr/local/lib/python3.6/dist-packages (from requests->gdown) (2.6)\n",
            "Requirement already satisfied: chardet<3.1.0,>=3.0.2 in /usr/local/lib/python3.6/dist-packages (from requests->gdown) (3.0.4)\n",
            "Downloading...\n",
            "From: https://drive.google.com/uc?id=1NH6jcrg8SXbnhpIXRIXF_-KUE7wGxGaG\n",
            "To: /content/debiaswe_tutorial/w2v_gnews_small.zip\n",
            "29.1MB [00:00, 79.8MB/s]\n"
          ],
          "name": "stdout"
        }
      ]
    },
    {
      "metadata": {
        "id": "3xPgYvymTJjX",
        "colab_type": "code",
        "outputId": "6308f978-6d14-48be-e980-9fd4579e8941",
        "colab": {
          "base_uri": "https://localhost:8080/",
          "height": 51
        }
      },
      "cell_type": "code",
      "source": [
        "!unzip /content/debiaswe_tutorial/w2v_gnews_small.zip"
      ],
      "execution_count": 3,
      "outputs": [
        {
          "output_type": "stream",
          "text": [
            "Archive:  /content/debiaswe_tutorial/w2v_gnews_small.zip\n",
            "  inflating: w2v_gnews_small.txt     \n"
          ],
          "name": "stdout"
        }
      ]
    },
    {
      "metadata": {
        "id": "Bhxbm7V0JOOk",
        "colab_type": "code",
        "colab": {
          "base_uri": "https://localhost:8080/",
          "height": 68
        },
        "outputId": "c6512cb8-b502-4aaa-863d-c3d922c7c2e6"
      },
      "cell_type": "code",
      "source": [
        "import numpy as np\n",
        "import scipy, requests, codecs, os, re, nltk, itertools, csv\n",
        "from sklearn.metrics.pairwise import cosine_similarity\n",
        "from sklearn.cluster import AgglomerativeClustering, KMeans\n",
        "import tensorflow as tf\n",
        "from scipy.stats import spearmanr\n",
        "import pandas as pd\n",
        "import functools as ft\n",
        "import os\n",
        "import io\n",
        "nltk.download('punkt')"
      ],
      "execution_count": 11,
      "outputs": [
        {
          "output_type": "stream",
          "text": [
            "[nltk_data] Downloading package punkt to /root/nltk_data...\n",
            "[nltk_data]   Unzipping tokenizers/punkt.zip.\n"
          ],
          "name": "stdout"
        },
        {
          "output_type": "execute_result",
          "data": {
            "text/plain": [
              "True"
            ]
          },
          "metadata": {
            "tags": []
          },
          "execution_count": 11
        }
      ]
    },
    {
      "metadata": {
        "id": "jm8BGor6TCel",
        "colab_type": "code",
        "colab": {}
      },
      "cell_type": "code",
      "source": [
        "from __future__ import print_function, division\n",
        "%matplotlib inline\n",
        "from matplotlib import pyplot as plt\n",
        "import json\n",
        "import random\n",
        "import numpy as np\n",
        "from debiaswe import debiaswe\n",
        "from debiaswe.debiaswe import we\n",
        "import debiaswe as dwe\n",
        "#import debiaswe.we as we\n",
        "from debiaswe.debiaswe.we import WordEmbedding\n",
        "from debiaswe.debiaswe.data import load_professions"
      ],
      "execution_count": 0,
      "outputs": []
    },
    {
      "metadata": {
        "id": "nrZPA3Kxy04s",
        "colab_type": "text"
      },
      "cell_type": "markdown",
      "source": [
        "# Load dataset"
      ]
    },
    {
      "metadata": {
        "id": "IhrFIMCn1Hsc",
        "colab_type": "code",
        "colab": {
          "base_uri": "https://localhost:8080/",
          "height": 34
        },
        "outputId": "3a6a42c7-6817-41a9-a261-d200818708e8"
      },
      "cell_type": "code",
      "source": [
        "%cd /content/debiaswe_tutorial/debiaswe"
      ],
      "execution_count": 5,
      "outputs": [
        {
          "output_type": "stream",
          "text": [
            "/content/debiaswe_tutorial/debiaswe\n"
          ],
          "name": "stdout"
        }
      ]
    },
    {
      "metadata": {
        "id": "_bhECvns1Gzi",
        "colab_type": "code",
        "colab": {
          "base_uri": "https://localhost:8080/",
          "height": 88
        },
        "outputId": "959f5a74-39e0-4179-a520-c16744633dc8"
      },
      "cell_type": "code",
      "source": [
        "# Lets load some gender related word lists to help us with debiasing\n",
        "with open('./data/definitional_pairs.json', \"r\") as f:\n",
        "    defs = json.load(f) #gender definitional words\n",
        "print(\"definitional\", defs)\n",
        "defs_list = []\n",
        "for pair in defs:\n",
        "  defs_list.append(pair[0])\n",
        "  defs_list.append(pair[1])\n",
        "\n",
        "with open('./data/equalize_pairs.json', \"r\") as f:\n",
        "    equalize_pairs = json.load(f) \n",
        "print(equalize_pairs)\n",
        "\n",
        "with open('./data/gender_specific_seed.json', \"r\") as f:\n",
        "    gender_specific_words = json.load(f)\n",
        "print(\"gender specific\", len(gender_specific_words), gender_specific_words[:10])"
      ],
      "execution_count": 6,
      "outputs": [
        {
          "output_type": "stream",
          "text": [
            "definitional [['woman', 'man'], ['girl', 'boy'], ['she', 'he'], ['mother', 'father'], ['daughter', 'son'], ['gal', 'guy'], ['female', 'male'], ['her', 'his'], ['herself', 'himself'], ['Mary', 'John']]\n",
            "[['monastery', 'convent'], ['spokesman', 'spokeswoman'], ['Catholic_priest', 'nun'], ['Dad', 'Mom'], ['Men', 'Women'], ['councilman', 'councilwoman'], ['grandpa', 'grandma'], ['grandsons', 'granddaughters'], ['prostate_cancer', 'ovarian_cancer'], ['testosterone', 'estrogen'], ['uncle', 'aunt'], ['wives', 'husbands'], ['Father', 'Mother'], ['Grandpa', 'Grandma'], ['He', 'She'], ['boy', 'girl'], ['boys', 'girls'], ['brother', 'sister'], ['brothers', 'sisters'], ['businessman', 'businesswoman'], ['chairman', 'chairwoman'], ['colt', 'filly'], ['congressman', 'congresswoman'], ['dad', 'mom'], ['dads', 'moms'], ['dudes', 'gals'], ['ex_girlfriend', 'ex_boyfriend'], ['father', 'mother'], ['fatherhood', 'motherhood'], ['fathers', 'mothers'], ['fella', 'granny'], ['fraternity', 'sorority'], ['gelding', 'mare'], ['gentleman', 'lady'], ['gentlemen', 'ladies'], ['grandfather', 'grandmother'], ['grandson', 'granddaughter'], ['he', 'she'], ['himself', 'herself'], ['his', 'her'], ['king', 'queen'], ['kings', 'queens'], ['male', 'female'], ['males', 'females'], ['man', 'woman'], ['men', 'women'], ['nephew', 'niece'], ['prince', 'princess'], ['schoolboy', 'schoolgirl'], ['son', 'daughter'], ['sons', 'daughters'], ['twin_brother', 'twin_sister']]\n",
            "gender specific 218 ['actress', 'actresses', 'aunt', 'aunts', 'bachelor', 'ballerina', 'barbershop', 'baritone', 'beard', 'beards']\n"
          ],
          "name": "stdout"
        }
      ]
    },
    {
      "metadata": {
        "id": "wQM5H4Amy2oY",
        "colab_type": "code",
        "colab": {}
      },
      "cell_type": "code",
      "source": [
        "import gensim\n",
        "from gensim.models.keyedvectors import KeyedVectors"
      ],
      "execution_count": 0,
      "outputs": []
    },
    {
      "metadata": {
        "id": "S4yLv4YPy-S1",
        "colab_type": "code",
        "colab": {
          "base_uri": "https://localhost:8080/",
          "height": 122
        },
        "outputId": "c759d0c7-e7fc-4f2c-99a3-869b786b4011"
      },
      "cell_type": "code",
      "source": [
        "!python -m gensim.scripts.glove2word2vec -i /content/debiaswe_tutorial/w2v_gnews_small.txt -o /content/small_w2v.txt"
      ],
      "execution_count": 8,
      "outputs": [
        {
          "output_type": "stream",
          "text": [
            "/usr/lib/python3.6/runpy.py:125: RuntimeWarning: 'gensim.scripts.glove2word2vec' found in sys.modules after import of package 'gensim.scripts', but prior to execution of 'gensim.scripts.glove2word2vec'; this may result in unpredictable behaviour\n",
            "  warn(RuntimeWarning(msg))\n",
            "2019-02-14 22:31:19,961 - glove2word2vec - INFO - running /usr/local/lib/python3.6/dist-packages/gensim/scripts/glove2word2vec.py -i /content/debiaswe_tutorial/w2v_gnews_small.txt -o /content/small_w2v.txt\n",
            "2019-02-14 22:31:20,024 - glove2word2vec - INFO - converting 26423 vectors from /content/debiaswe_tutorial/w2v_gnews_small.txt to /content/small_w2v.txt\n",
            "2019-02-14 22:31:20,269 - glove2word2vec - INFO - Converted model with 26423 vectors and 300 dimensions\n"
          ],
          "name": "stdout"
        }
      ]
    },
    {
      "metadata": {
        "id": "4c-5qtnTy-zf",
        "colab_type": "code",
        "colab": {
          "base_uri": "https://localhost:8080/",
          "height": 34
        },
        "outputId": "e6dfcfc9-f879-4964-86b5-f5e08b6e5e35"
      },
      "cell_type": "code",
      "source": [
        "#load word2vec file in a correct form\n",
        "w2v = KeyedVectors.load_word2vec_format('/content/small_w2v.txt', binary=False)\n",
        "print('The w2v embedding has been loaded!')"
      ],
      "execution_count": 25,
      "outputs": [
        {
          "output_type": "stream",
          "text": [
            "The w2v embedding has been loaded!\n"
          ],
          "name": "stdout"
        }
      ]
    },
    {
      "metadata": {
        "id": "vFGDaICbzGSK",
        "colab_type": "code",
        "colab": {
          "base_uri": "https://localhost:8080/",
          "height": 51
        },
        "outputId": "0dbe898b-1466-4816-d6ed-b654871b86e0"
      },
      "cell_type": "code",
      "source": [
        "nltk.download('punkt')\n",
        "from numpy.linalg import norm, inv, eig"
      ],
      "execution_count": 12,
      "outputs": [
        {
          "output_type": "stream",
          "text": [
            "[nltk_data] Downloading package punkt to /root/nltk_data...\n",
            "[nltk_data]   Package punkt is already up-to-date!\n"
          ],
          "name": "stdout"
        }
      ]
    },
    {
      "metadata": {
        "id": "EgZ_i_DNzGxN",
        "colab_type": "code",
        "colab": {}
      },
      "cell_type": "code",
      "source": [
        "def protoConceptor(wordVecModel_str, defs_list, alpha):\n",
        "    # compute the prototype conceptor with alpha = 2\n",
        "    \n",
        "    \n",
        "    wordVecModel = eval(wordVecModel_str)    \n",
        "\n",
        "\n",
        "\n",
        "    # put the word vectors in columns\n",
        "    x_collector = wordVecModel.vectors[:].T   #total embeddings    \n",
        "        \n",
        "    num_vec = x_collector.shape[0]\n",
        "    cn_vec= []\n",
        "    for word in defs_list:\n",
        "      if word in wordVecModel.vocab:\n",
        "        cn_vec.append(wordVecModel[word])\n",
        "    cn_collector = np.transpose(cn_vec) # embeddings of gender specific words\n",
        "    nrWords = cn_collector.shape[1] # number of gender specific words\n",
        "    \n",
        "    \n",
        "    R = cn_collector.dot(cn_collector.T) / nrWords # calculate the correlation matrix\n",
        "    \n",
        "    C = R @ inv(R + alpha ** (-2) * np.eye(300))# calculate the conceptor matrix\n",
        "    mat = ((np.eye(num_vec)-C)@ x_collector).T #transform total embeddings\n",
        "    return  mat"
      ],
      "execution_count": 0,
      "outputs": []
    },
    {
      "metadata": {
        "id": "eXLkLY-WzUMx",
        "colab_type": "code",
        "colab": {}
      },
      "cell_type": "code",
      "source": [
        "cn_f_name = 'w2v'\n",
        "w2v_cn_mat = protoConceptor(cn_f_name, defs_list, 2)"
      ],
      "execution_count": 0,
      "outputs": []
    },
    {
      "metadata": {
        "id": "SINs3u6jzXyo",
        "colab_type": "code",
        "colab": {}
      },
      "cell_type": "code",
      "source": [
        "#write CN word vecs into file\n",
        "model = eval('w2v')\n",
        "f = open('/content/w2v_cn.txt','w+')\n",
        "for word in model.vocab:\n",
        "  f.write(word+' ')\n",
        "  id = model.vocab[word].index\n",
        "  for item in w2v_cn_mat[id,:]:\n",
        "    f.write(str(item)+' ')\n",
        "  f.write('\\n')\n",
        "f.close()"
      ],
      "execution_count": 0,
      "outputs": []
    },
    {
      "metadata": {
        "id": "9UvfqJbPzYNI",
        "colab_type": "code",
        "colab": {
          "base_uri": "https://localhost:8080/",
          "height": 122
        },
        "outputId": "f39d495c-9c38-4a63-aa89-eefca217ce30"
      },
      "cell_type": "code",
      "source": [
        "!python -m gensim.scripts.glove2word2vec -i /content/w2v_cn.txt -o /content/w2v_cn_2.txt"
      ],
      "execution_count": 18,
      "outputs": [
        {
          "output_type": "stream",
          "text": [
            "/usr/lib/python3.6/runpy.py:125: RuntimeWarning: 'gensim.scripts.glove2word2vec' found in sys.modules after import of package 'gensim.scripts', but prior to execution of 'gensim.scripts.glove2word2vec'; this may result in unpredictable behaviour\n",
            "  warn(RuntimeWarning(msg))\n",
            "2019-02-14 22:34:42,270 - glove2word2vec - INFO - running /usr/local/lib/python3.6/dist-packages/gensim/scripts/glove2word2vec.py -i /content/w2v_cn.txt -o /content/w2v_cn_2.txt\n",
            "2019-02-14 22:34:42,412 - glove2word2vec - INFO - converting 26423 vectors from /content/w2v_cn.txt to /content/w2v_cn_2.txt\n",
            "2019-02-14 22:34:42,973 - glove2word2vec - INFO - Converted model with 26423 vectors and 300 dimensions\n"
          ],
          "name": "stdout"
        }
      ]
    },
    {
      "metadata": {
        "id": "QH__Off6zeRG",
        "colab_type": "code",
        "colab": {}
      },
      "cell_type": "code",
      "source": [
        "cn_w2v = KeyedVectors.load_word2vec_format('/content/w2v_cn_2.txt', binary=False)"
      ],
      "execution_count": 0,
      "outputs": []
    },
    {
      "metadata": {
        "id": "qmFXq4bATCV-",
        "colab_type": "code",
        "outputId": "a4d6bf80-ff65-468d-8034-87d0b0da79e1",
        "colab": {
          "base_uri": "https://localhost:8080/",
          "height": 102
        }
      },
      "cell_type": "code",
      "source": [
        "# load professions words\n",
        "professions = load_professions()\n",
        "profession_words = [p[0] for p in professions]"
      ],
      "execution_count": 20,
      "outputs": [
        {
          "output_type": "stream",
          "text": [
            "Loaded professions\n",
            "Format:\n",
            "word,\n",
            "definitional female -1.0 -> definitional male 1.0\n",
            "stereotypical female -1.0 -> stereotypical male 1.0\n"
          ],
          "name": "stdout"
        }
      ]
    },
    {
      "metadata": {
        "id": "z71UivV4wy46",
        "colab_type": "text"
      },
      "cell_type": "markdown",
      "source": [
        "# Direct Bias Results"
      ]
    },
    {
      "metadata": {
        "id": "_MlIEJmRuS5O",
        "colab_type": "text"
      },
      "cell_type": "markdown",
      "source": [
        "# TOP 20 neighbors on he-she axis "
      ]
    },
    {
      "metadata": {
        "id": "mhrUD-YaxABA",
        "colab_type": "text"
      },
      "cell_type": "markdown",
      "source": [
        "After CN, professions words are closer to the middle on he-she axis."
      ]
    },
    {
      "metadata": {
        "id": "dtgQF_rwUNC7",
        "colab_type": "code",
        "colab": {
          "base_uri": "https://localhost:8080/",
          "height": 68
        },
        "outputId": "87d1a3e4-100d-4ed1-ef28-64d491645a9b"
      },
      "cell_type": "code",
      "source": [
        "# load google news word2vec\n",
        "E = WordEmbedding('/content/debiaswe_tutorial/w2v_gnews_small.txt')\n",
        "# gender direction\n",
        "v_gender = E.diff('she', 'he')"
      ],
      "execution_count": 26,
      "outputs": [
        {
          "output_type": "stream",
          "text": [
            "*** Reading data from /content/debiaswe_tutorial/w2v_gnews_small.txt\n",
            "(26423, 300)\n",
            "26423 words of dimension 300 : in, for, that, is, ..., Jay, Leroy, Brad, Jermaine\n"
          ],
          "name": "stdout"
        }
      ]
    },
    {
      "metadata": {
        "id": "BIlSiuinbQE9",
        "colab_type": "code",
        "outputId": "badd47cc-04f0-484f-bc87-15ad2a3fa7ad",
        "colab": {
          "base_uri": "https://localhost:8080/",
          "height": 699
        }
      },
      "cell_type": "code",
      "source": [
        "#sp projected words onto he-she axis and sorted neighbors based on distance\n",
        "sp = sorted([(E.v(w).dot(v_gender), w) for w in profession_words])\n",
        "\n",
        "#Top 20 neigbors of he and top 20 neighbors of she, and their distances to he/she\n",
        "sp[0:20],sp[-20:]"
      ],
      "execution_count": 27,
      "outputs": [
        {
          "output_type": "execute_result",
          "data": {
            "text/plain": [
              "([(-0.23798442, 'maestro'),\n",
              "  (-0.21665451, 'statesman'),\n",
              "  (-0.20758669, 'skipper'),\n",
              "  (-0.20267202, 'protege'),\n",
              "  (-0.2020676, 'businessman'),\n",
              "  (-0.19492392, 'sportsman'),\n",
              "  (-0.18836352, 'philosopher'),\n",
              "  (-0.1807366, 'marksman'),\n",
              "  (-0.1728986, 'captain'),\n",
              "  (-0.16785555, 'architect'),\n",
              "  (-0.16702037, 'financier'),\n",
              "  (-0.16313636, 'warrior'),\n",
              "  (-0.15280862, 'major_leaguer'),\n",
              "  (-0.15001445, 'trumpeter'),\n",
              "  (-0.14718868, 'broadcaster'),\n",
              "  (-0.14637242, 'magician'),\n",
              "  (-0.14401694, 'fighter_pilot'),\n",
              "  (-0.13782285, 'boss'),\n",
              "  (-0.137182, 'industrialist'),\n",
              "  (-0.13684885, 'pundit')],\n",
              " [(0.19714224, 'interior_designer'),\n",
              "  (0.20833439, 'housekeeper'),\n",
              "  (0.21560375, 'stylist'),\n",
              "  (0.2236317, 'bookkeeper'),\n",
              "  (0.23776126, 'maid'),\n",
              "  (0.24125955, 'nun'),\n",
              "  (0.24782579, 'nanny'),\n",
              "  (0.24929334, 'hairdresser'),\n",
              "  (0.24946158, 'paralegal'),\n",
              "  (0.25276464, 'ballerina'),\n",
              "  (0.25718823, 'socialite'),\n",
              "  (0.26647124, 'librarian'),\n",
              "  (0.27317622, 'receptionist'),\n",
              "  (0.27540293, 'waitress'),\n",
              "  (0.28085968, 'nurse'),\n",
              "  (0.3042623, 'registered_nurse'),\n",
              "  (0.3043797, 'homemaker'),\n",
              "  (0.3403659, 'housewife'),\n",
              "  (0.3523514, 'actress'),\n",
              "  (0.35965404, 'businesswoman')])"
            ]
          },
          "metadata": {
            "tags": []
          },
          "execution_count": 27
        }
      ]
    },
    {
      "metadata": {
        "id": "5veg30-gUTvm",
        "colab_type": "code",
        "outputId": "2ad19186-21bb-445c-de88-cc8c4d41506f",
        "colab": {
          "base_uri": "https://localhost:8080/",
          "height": 85
        }
      },
      "cell_type": "code",
      "source": [
        "#Load CN word embeddings\n",
        "E_cn = WordEmbedding('/content/w2v_cn.txt')"
      ],
      "execution_count": 28,
      "outputs": [
        {
          "output_type": "stream",
          "text": [
            "*** Reading data from /content/w2v_cn.txt\n",
            "(26423, 300)\n",
            "26423 words of dimension 300 : in, for, that, is, ..., Jay, Leroy, Brad, Jermaine\n",
            "26423 words of dimension 300 : in, for, that, is, ..., Jay, Leroy, Brad, Jermaine\n"
          ],
          "name": "stdout"
        }
      ]
    },
    {
      "metadata": {
        "id": "5zI8SxhnUuVv",
        "colab_type": "code",
        "colab": {}
      },
      "cell_type": "code",
      "source": [
        "v_gender_cn = E_cn.diff('she', 'he')"
      ],
      "execution_count": 0,
      "outputs": []
    },
    {
      "metadata": {
        "id": "PngLgRTHUzvp",
        "colab_type": "code",
        "outputId": "f21b2374-f283-41a3-90ab-ad18fabfbb06",
        "colab": {
          "base_uri": "https://localhost:8080/",
          "height": 699
        }
      },
      "cell_type": "code",
      "source": [
        "# Top 20 neighbors after CN\n",
        "sp = sorted([(E_cn.v(w).dot(v_gender_cn), w) for w in profession_words])\n",
        "\n",
        "sp[0:20], sp[-20:]"
      ],
      "execution_count": 30,
      "outputs": [
        {
          "output_type": "execute_result",
          "data": {
            "text/plain": [
              "([(-0.19818926, 'maestro'),\n",
              "  (-0.18967961, 'statesman'),\n",
              "  (-0.1880296, 'businessman'),\n",
              "  (-0.18281998, 'skipper'),\n",
              "  (-0.18042295, 'protege'),\n",
              "  (-0.17646421, 'sportsman'),\n",
              "  (-0.16928828, 'captain'),\n",
              "  (-0.16235389, 'warrior'),\n",
              "  (-0.16157728, 'philosopher'),\n",
              "  (-0.15046968, 'marksman'),\n",
              "  (-0.13698363, 'major_leaguer'),\n",
              "  (-0.1355408, 'fighter_pilot'),\n",
              "  (-0.132551, 'financier'),\n",
              "  (-0.13202478, 'lieutenant'),\n",
              "  (-0.13006216, 'trumpeter'),\n",
              "  (-0.13000073, 'industrialist'),\n",
              "  (-0.12769677, 'architect'),\n",
              "  (-0.12576684, 'broadcaster'),\n",
              "  (-0.122493416, 'mechanic'),\n",
              "  (-0.12220184, 'magician')],\n",
              " [(0.1333736, 'housekeeper'),\n",
              "  (0.13594729, 'maid'),\n",
              "  (0.14111671, 'interior_designer'),\n",
              "  (0.15676282, 'nun'),\n",
              "  (0.16862068, 'stylist'),\n",
              "  (0.17241657, 'ballerina'),\n",
              "  (0.17548509, 'socialite'),\n",
              "  (0.17573729, 'nanny'),\n",
              "  (0.1771008, 'nurse'),\n",
              "  (0.18136254, 'bookkeeper'),\n",
              "  (0.18577197, 'librarian'),\n",
              "  (0.19130343, 'waitress'),\n",
              "  (0.19306836, 'paralegal'),\n",
              "  (0.1936686, 'hairdresser'),\n",
              "  (0.19837798, 'receptionist'),\n",
              "  (0.21897542, 'homemaker'),\n",
              "  (0.22392696, 'registered_nurse'),\n",
              "  (0.23752208, 'housewife'),\n",
              "  (0.25552708, 'actress'),\n",
              "  (0.26735374, 'businesswoman')])"
            ]
          },
          "metadata": {
            "tags": []
          },
          "execution_count": 30
        }
      ]
    },
    {
      "metadata": {
        "id": "GeNOtHVYwgA6",
        "colab_type": "text"
      },
      "cell_type": "markdown",
      "source": [
        "# Indirect Bias results\n",
        "After CN negation, words on softball-football axis became less gender biased."
      ]
    },
    {
      "metadata": {
        "id": "SeNG1vUYccla",
        "colab_type": "code",
        "colab": {}
      },
      "cell_type": "code",
      "source": [
        "v_gender = E.diff('softball', 'football')\n",
        "v_gender_cn = E_cn.diff('softball', 'football')"
      ],
      "execution_count": 0,
      "outputs": []
    },
    {
      "metadata": {
        "id": "xwe3xfijcik9",
        "colab_type": "code",
        "outputId": "495b0033-3fc0-4321-ed58-907d848ddaeb",
        "colab": {
          "base_uri": "https://localhost:8080/",
          "height": 699
        }
      },
      "cell_type": "code",
      "source": [
        "#after debiasing, softball-football direction is no longer gender biased\n",
        "sp = sorted([(E.v(w).dot(v_gender), w) for w in profession_words])\n",
        "\n",
        "sp[0:20], sp[-20:]"
      ],
      "execution_count": 32,
      "outputs": [
        {
          "output_type": "execute_result",
          "data": {
            "text/plain": [
              "([(-0.3378573, 'footballer'),\n",
              "  (-0.19598085, 'businessman'),\n",
              "  (-0.19320746, 'pundit'),\n",
              "  (-0.18045807, 'maestro'),\n",
              "  (-0.16597804, 'cleric'),\n",
              "  (-0.16489363, 'marksman'),\n",
              "  (-0.1635845, 'hitman'),\n",
              "  (-0.16318859, 'philosopher'),\n",
              "  (-0.15652362, 'statesman'),\n",
              "  (-0.15603065, 'sportsman'),\n",
              "  (-0.15583786, 'broadcaster'),\n",
              "  (-0.1511248, 'banker'),\n",
              "  (-0.1446815, 'boss'),\n",
              "  (-0.14366435, 'gangster'),\n",
              "  (-0.14306568, 'midfielder'),\n",
              "  (-0.13627477, 'financier'),\n",
              "  (-0.13474312, 'policeman'),\n",
              "  (-0.13387913, 'cameraman'),\n",
              "  (-0.1336779, 'vice_chancellor'),\n",
              "  (-0.13013485, 'architect')],\n",
              " [(0.07963051, 'stylist'),\n",
              "  (0.080893494, 'housekeeper'),\n",
              "  (0.0827892, 'actress'),\n",
              "  (0.08613199, 'treasurer'),\n",
              "  (0.08741376, 'businesswoman'),\n",
              "  (0.088028535, 'counselor'),\n",
              "  (0.09069986, 'librarian'),\n",
              "  (0.09132401, 'nanny'),\n",
              "  (0.09736764, 'publicist'),\n",
              "  (0.100761496, 'therapist'),\n",
              "  (0.101995654, 'soloist'),\n",
              "  (0.114671476, 'infielder'),\n",
              "  (0.116350956, 'valedictorian'),\n",
              "  (0.13610226, 'clerk'),\n",
              "  (0.13884133, 'homemaker'),\n",
              "  (0.14254922, 'paralegal'),\n",
              "  (0.14510404, 'waitress'),\n",
              "  (0.15662505, 'registered_nurse'),\n",
              "  (0.15878208, 'receptionist'),\n",
              "  (0.17852843, 'bookkeeper')])"
            ]
          },
          "metadata": {
            "tags": []
          },
          "execution_count": 32
        }
      ]
    },
    {
      "metadata": {
        "id": "xOLNR31Fc9cm",
        "colab_type": "code",
        "outputId": "fae45cc8-06c3-4923-b38c-96d01000d52c",
        "colab": {
          "base_uri": "https://localhost:8080/",
          "height": 699
        }
      },
      "cell_type": "code",
      "source": [
        "sp = sorted([(E_cn.v(w).dot(v_gender_cn), w) for w in profession_words])\n",
        "\n",
        "sp[0:20], sp[-20:]"
      ],
      "execution_count": 33,
      "outputs": [
        {
          "output_type": "execute_result",
          "data": {
            "text/plain": [
              "([(-0.34442955, 'footballer'),\n",
              "  (-0.17447214, 'pundit'),\n",
              "  (-0.16029751, 'cleric'),\n",
              "  (-0.15683536, 'businessman'),\n",
              "  (-0.14433442, 'midfielder'),\n",
              "  (-0.14430456, 'hitman'),\n",
              "  (-0.14382309, 'vice_chancellor'),\n",
              "  (-0.1408222, 'banker'),\n",
              "  (-0.1355176, 'maestro'),\n",
              "  (-0.13379517, 'broadcaster'),\n",
              "  (-0.13157055, 'lecturer'),\n",
              "  (-0.13030419, 'marksman'),\n",
              "  (-0.12713684, 'philosopher'),\n",
              "  (-0.11896048, 'boss'),\n",
              "  (-0.11675761, 'sportsman'),\n",
              "  (-0.11546311, 'statesman'),\n",
              "  (-0.11324482, 'gangster'),\n",
              "  (-0.11297941, 'firebrand'),\n",
              "  (-0.11291969, 'cameraman'),\n",
              "  (-0.112491034, 'policeman')],\n",
              " [(0.07075992, 'attorney'),\n",
              "  (0.07231749, 'nanny'),\n",
              "  (0.07735392, 'patrolman'),\n",
              "  (0.07913429, 'major_leaguer'),\n",
              "  (0.079291396, 'counselor'),\n",
              "  (0.08319657, 'treasurer'),\n",
              "  (0.08672979, 'publicist'),\n",
              "  (0.08748335, 'trooper'),\n",
              "  (0.08990188, 'therapist'),\n",
              "  (0.089979075, 'investigator'),\n",
              "  (0.09167763, 'soloist'),\n",
              "  (0.10601995, 'homemaker'),\n",
              "  (0.11213362, 'valedictorian'),\n",
              "  (0.1140725, 'paralegal'),\n",
              "  (0.11892958, 'registered_nurse'),\n",
              "  (0.12718394, 'waitress'),\n",
              "  (0.13183203, 'receptionist'),\n",
              "  (0.13311936, 'clerk'),\n",
              "  (0.13943228, 'infielder'),\n",
              "  (0.16408974, 'bookkeeper')])"
            ]
          },
          "metadata": {
            "tags": []
          },
          "execution_count": 33
        }
      ]
    },
    {
      "metadata": {
        "id": "fYVRmHI1v0WO",
        "colab_type": "text"
      },
      "cell_type": "markdown",
      "source": [
        "# Hard Debiasing"
      ]
    },
    {
      "metadata": {
        "id": "JL4dJKzdVhsu",
        "colab_type": "code",
        "outputId": "7342731d-235d-4987-800b-34c8e154219d",
        "colab": {
          "base_uri": "https://localhost:8080/",
          "height": 34
        }
      },
      "cell_type": "code",
      "source": [
        "%cd /content/debiaswe_tutorial/debiaswe/debiaswe/"
      ],
      "execution_count": 34,
      "outputs": [
        {
          "output_type": "stream",
          "text": [
            "/content/debiaswe_tutorial/debiaswe/debiaswe\n"
          ],
          "name": "stdout"
        }
      ]
    },
    {
      "metadata": {
        "id": "lbjorfdRU1IY",
        "colab_type": "code",
        "colab": {}
      },
      "cell_type": "code",
      "source": [
        "from debiaswe.debiaswe import debias"
      ],
      "execution_count": 0,
      "outputs": []
    },
    {
      "metadata": {
        "id": "MtklgycYWjJu",
        "colab_type": "code",
        "colab": {}
      },
      "cell_type": "code",
      "source": [
        "from debiaswe.debiaswe.debias import debias"
      ],
      "execution_count": 0,
      "outputs": []
    },
    {
      "metadata": {
        "id": "8l8kJwg2Vqs1",
        "colab_type": "code",
        "outputId": "f7bcf5ef-5dd6-4076-95ff-8713e567cf65",
        "colab": {
          "base_uri": "https://localhost:8080/",
          "height": 34
        }
      },
      "cell_type": "code",
      "source": [
        "%cd /content/debiaswe_tutorial/debiaswe"
      ],
      "execution_count": 37,
      "outputs": [
        {
          "output_type": "stream",
          "text": [
            "/content/debiaswe_tutorial/debiaswe\n"
          ],
          "name": "stdout"
        }
      ]
    },
    {
      "metadata": {
        "id": "foC_Mh3vUI2m",
        "colab_type": "code",
        "outputId": "078ce677-a72c-457d-ff4f-39498a7f79db",
        "colab": {
          "base_uri": "https://localhost:8080/",
          "height": 68
        }
      },
      "cell_type": "code",
      "source": [
        "E = WordEmbedding('/content/debiaswe_tutorial/w2v_gnews_small.txt')"
      ],
      "execution_count": 38,
      "outputs": [
        {
          "output_type": "stream",
          "text": [
            "*** Reading data from /content/debiaswe_tutorial/w2v_gnews_small.txt\n",
            "(26423, 300)\n",
            "26423 words of dimension 300 : in, for, that, is, ..., Jay, Leroy, Brad, Jermaine\n"
          ],
          "name": "stdout"
        }
      ]
    },
    {
      "metadata": {
        "id": "GdyK1yK3WA68",
        "colab_type": "code",
        "outputId": "f933403c-1df7-4de8-b63d-fad36b8ca380",
        "colab": {
          "base_uri": "https://localhost:8080/",
          "height": 88
        }
      },
      "cell_type": "code",
      "source": [
        "#Using authos's debiasing function\n",
        "debias(E, gender_specific_words, defs, equalize_pairs)"
      ],
      "execution_count": 39,
      "outputs": [
        {
          "output_type": "stream",
          "text": [
            "26423 words of dimension 300 : in, for, that, is, ..., Jay, Leroy, Brad, Jermaine\n",
            "{('Spokesman', 'Spokeswoman'), ('dad', 'mom'), ('boys', 'girls'), ('Fraternity', 'Sorority'), ('Boys', 'Girls'), ('DAD', 'MOM'), ('grandpa', 'grandma'), ('Fathers', 'Mothers'), ('GRANDFATHER', 'GRANDMOTHER'), ('catholic_priest', 'nun'), ('Gentlemen', 'Ladies'), ('sons', 'daughters'), ('King', 'Queen'), ('MONASTERY', 'CONVENT'), ('Congressman', 'Congresswoman'), ('father', 'mother'), ('spokesman', 'spokeswoman'), ('males', 'females'), ('male', 'female'), ('HE', 'SHE'), ('man', 'woman'), ('grandsons', 'granddaughters'), ('FATHERS', 'MOTHERS'), ('TWIN_BROTHER', 'TWIN_SISTER'), ('testosterone', 'estrogen'), ('grandfather', 'grandmother'), ('Man', 'Woman'), ('Catholic_Priest', 'Nun'), ('Men', 'Women'), ('SONS', 'DAUGHTERS'), ('Grandpa', 'Grandma'), ('Dudes', 'Gals'), ('Testosterone', 'Estrogen'), ('kings', 'queens'), ('monastery', 'convent'), ('Fatherhood', 'Motherhood'), ('colt', 'filly'), ('gentleman', 'lady'), ('fatherhood', 'motherhood'), ('schoolboy', 'schoolgirl'), ('TESTOSTERONE', 'ESTROGEN'), ('Brothers', 'Sisters'), ('MAN', 'WOMAN'), ('Twin_Brother', 'Twin_Sister'), ('Dads', 'Moms'), ('his', 'her'), ('He', 'She'), ('Fella', 'Granny'), ('Uncle', 'Aunt'), ('NEPHEW', 'NIECE'), ('Prostate_Cancer', 'Ovarian_Cancer'), ('wives', 'husbands'), ('FATHER', 'MOTHER'), ('His', 'Her'), ('Sons', 'Daughters'), ('Monastery', 'Convent'), ('Prince', 'Princess'), ('BROTHERS', 'SISTERS'), ('HIMSELF', 'HERSELF'), ('Nephew', 'Niece'), ('BOY', 'GIRL'), ('CHAIRMAN', 'CHAIRWOMAN'), ('PROSTATE_CANCER', 'OVARIAN_CANCER'), ('GRANDSON', 'GRANDDAUGHTER'), ('twin_brother', 'twin_sister'), ('COLT', 'FILLY'), ('FRATERNITY', 'SORORITY'), ('PRINCE', 'PRINCESS'), ('BUSINESSMAN', 'BUSINESSWOMAN'), ('himself', 'herself'), ('Boy', 'Girl'), ('Grandsons', 'Granddaughters'), ('FELLA', 'GRANNY'), ('gentlemen', 'ladies'), ('men', 'women'), ('Chairman', 'Chairwoman'), ('Himself', 'Herself'), ('HIS', 'HER'), ('KINGS', 'QUEENS'), ('gelding', 'mare'), ('FATHERHOOD', 'MOTHERHOOD'), ('EX_GIRLFRIEND', 'EX_BOYFRIEND'), ('UNCLE', 'AUNT'), ('fella', 'granny'), ('Grandfather', 'Grandmother'), ('DADS', 'MOMS'), ('WIVES', 'HUSBANDS'), ('GELDING', 'MARE'), ('GENTLEMEN', 'LADIES'), ('BROTHER', 'SISTER'), ('SON', 'DAUGHTER'), ('CONGRESSMAN', 'CONGRESSWOMAN'), ('DUDES', 'GALS'), ('prostate_cancer', 'ovarian_cancer'), ('brother', 'sister'), ('grandson', 'granddaughter'), ('MALES', 'FEMALES'), ('fraternity', 'sorority'), ('Son', 'Daughter'), ('GRANDPA', 'GRANDMA'), ('boy', 'girl'), ('Grandson', 'Granddaughter'), ('CATHOLIC_PRIEST', 'NUN'), ('MALE', 'FEMALE'), ('BOYS', 'GIRLS'), ('Gelding', 'Mare'), ('dudes', 'gals'), ('Dad', 'Mom'), ('COUNCILMAN', 'COUNCILWOMAN'), ('Wives', 'Husbands'), ('dads', 'moms'), ('brothers', 'sisters'), ('fathers', 'mothers'), ('councilman', 'councilwoman'), ('uncle', 'aunt'), ('he', 'she'), ('prince', 'princess'), ('congressman', 'congresswoman'), ('Councilman', 'Councilwoman'), ('SPOKESMAN', 'SPOKESWOMAN'), ('Father', 'Mother'), ('Schoolboy', 'Schoolgirl'), ('Gentleman', 'Lady'), ('KING', 'QUEEN'), ('Brother', 'Sister'), ('businessman', 'businesswoman'), ('GRANDSONS', 'GRANDDAUGHTERS'), ('king', 'queen'), ('Businessman', 'Businesswoman'), ('MEN', 'WOMEN'), ('Colt', 'Filly'), ('Ex_Girlfriend', 'Ex_Boyfriend'), ('SCHOOLBOY', 'SCHOOLGIRL'), ('son', 'daughter'), ('Males', 'Females'), ('Kings', 'Queens'), ('nephew', 'niece'), ('Male', 'Female'), ('GENTLEMAN', 'LADY'), ('ex_girlfriend', 'ex_boyfriend'), ('chairman', 'chairwoman')}\n",
            "26423 words of dimension 300 : in, for, that, is, ..., Jay, Leroy, Brad, Jermaine\n"
          ],
          "name": "stdout"
        }
      ]
    },
    {
      "metadata": {
        "id": "rMNFGKm6xnJ8",
        "colab_type": "code",
        "outputId": "cd9c25f2-de7b-4b44-aa0c-b1e3a66ae7cb",
        "colab": {
          "base_uri": "https://localhost:8080/",
          "height": 34
        }
      },
      "cell_type": "code",
      "source": [
        "%cd /content"
      ],
      "execution_count": 40,
      "outputs": [
        {
          "output_type": "stream",
          "text": [
            "/content\n"
          ],
          "name": "stdout"
        }
      ]
    },
    {
      "metadata": {
        "id": "9gCRcpo0Xkse",
        "colab_type": "code",
        "outputId": "ff017464-9441-4ff3-ed13-26b77b4d1c2b",
        "colab": {
          "base_uri": "https://localhost:8080/",
          "height": 34
        }
      },
      "cell_type": "code",
      "source": [
        "#Save debiased word embeddings\n",
        "E.save('debiased.txt')"
      ],
      "execution_count": 41,
      "outputs": [
        {
          "output_type": "stream",
          "text": [
            "Wrote 26423 words to debiased.txt\n"
          ],
          "name": "stdout"
        }
      ]
    },
    {
      "metadata": {
        "id": "lvo4Uk62Xwn7",
        "colab_type": "code",
        "outputId": "a5ec6ec9-d6f5-47db-9177-ecbca0e5e408",
        "colab": {
          "base_uri": "https://localhost:8080/",
          "height": 68
        }
      },
      "cell_type": "code",
      "source": [
        "E_de = WordEmbedding('/content/debiased.txt')"
      ],
      "execution_count": 42,
      "outputs": [
        {
          "output_type": "stream",
          "text": [
            "*** Reading data from /content/debiased.txt\n",
            "(26423, 300)\n",
            "26423 words of dimension 300 : in, for, that, is, ..., Jay, Leroy, Brad, Jermaine\n"
          ],
          "name": "stdout"
        }
      ]
    },
    {
      "metadata": {
        "id": "GQULin-byUgN",
        "colab_type": "text"
      },
      "cell_type": "markdown",
      "source": [
        "#Direct Bias(Hard Debiasing)"
      ]
    },
    {
      "metadata": {
        "id": "KtCMMjOzoBBW",
        "colab_type": "code",
        "colab": {}
      },
      "cell_type": "code",
      "source": [
        "v_gender_de =E_de.diff('she', 'he')"
      ],
      "execution_count": 0,
      "outputs": []
    },
    {
      "metadata": {
        "id": "or3EKOEiXCBK",
        "colab_type": "code",
        "outputId": "8c92f81f-b484-4136-9db5-2d37ad9f857b",
        "colab": {
          "base_uri": "https://localhost:8080/",
          "height": 699
        }
      },
      "cell_type": "code",
      "source": [
        "# profession analysis gender\n",
        "sp_debiased = sorted([(E_de.v(w).dot(v_gender_de), w) for w in profession_words])\n",
        "\n",
        "sp_debiased[0:20], sp_debiased[-20:]"
      ],
      "execution_count": 44,
      "outputs": [
        {
          "output_type": "execute_result",
          "data": {
            "text/plain": [
              "([(-0.43325222, 'businessman'),\n",
              "  (-0.42799947, 'congressman'),\n",
              "  (-0.36525276, 'dad'),\n",
              "  (-0.35791722, 'councilman'),\n",
              "  (-0.22225758, 'statesman'),\n",
              "  (-0.15711337, 'salesman'),\n",
              "  (-0.106753685, 'handyman'),\n",
              "  (-0.08172015, 'monk'),\n",
              "  (-3.8995495e-08, 'soldier'),\n",
              "  (-3.7778136e-08, 'policeman'),\n",
              "  (-3.5121047e-08, 'teenager'),\n",
              "  (-3.421883e-08, 'drug_addict'),\n",
              "  (-3.4161076e-08, 'politician'),\n",
              "  (-3.3038305e-08, 'confesses'),\n",
              "  (-3.2116077e-08, 'swimmer'),\n",
              "  (-3.1512172e-08, 'prisoner'),\n",
              "  (-3.1272066e-08, 'aide'),\n",
              "  (-3.1170202e-08, 'senator'),\n",
              "  (-3.0962838e-08, 'athlete'),\n",
              "  (-3.0879164e-08, 'parliamentarian')],\n",
              " [(-8.0035534e-11, 'artiste'),\n",
              "  (-7.2759576e-11, 'pundit'),\n",
              "  (2.6921043e-10, 'researcher'),\n",
              "  (5.7480065e-10, 'undersecretary'),\n",
              "  (6.1118044e-10, 'tycoon'),\n",
              "  (1.0772965e-09, 'author'),\n",
              "  (1.4551915e-09, 'dermatologist'),\n",
              "  (1.4842954e-09, 'interior_designer'),\n",
              "  (1.5188562e-09, 'saxophonist'),\n",
              "  (3.8307917e-09, 'illustrator'),\n",
              "  (4.4237822e-09, 'associate_professor'),\n",
              "  (4.5929482e-09, 'archaeologist'),\n",
              "  (9.240466e-09, 'restaurateur'),\n",
              "  (0.2606187, 'ballerina'),\n",
              "  (0.26477975, 'nun'),\n",
              "  (0.27208695, 'maid'),\n",
              "  (0.2965596, 'waitress'),\n",
              "  (0.3784349, 'housewife'),\n",
              "  (0.3788142, 'actress'),\n",
              "  (0.43325216, 'businesswoman')])"
            ]
          },
          "metadata": {
            "tags": []
          },
          "execution_count": 44
        }
      ]
    },
    {
      "metadata": {
        "id": "M2RFY6OoyZL0",
        "colab_type": "text"
      },
      "cell_type": "markdown",
      "source": [
        "# Indirect Bias(Hard Debiasing)"
      ]
    },
    {
      "metadata": {
        "id": "aqvax-SqXHuG",
        "colab_type": "code",
        "colab": {}
      },
      "cell_type": "code",
      "source": [
        "v_gender_de =E_de.diff('softball', 'football')"
      ],
      "execution_count": 0,
      "outputs": []
    },
    {
      "metadata": {
        "id": "sR-hnPVfx5oD",
        "colab_type": "code",
        "outputId": "fd54646b-4e82-4229-ca9e-8878d225afcb",
        "colab": {
          "base_uri": "https://localhost:8080/",
          "height": 699
        }
      },
      "cell_type": "code",
      "source": [
        "sp_debiased = sorted([(E_de.v(w).dot(v_gender_de), w) for w in profession_words])\n",
        "\n",
        "sp_debiased[0:20], sp_debiased[-20:]"
      ],
      "execution_count": 46,
      "outputs": [
        {
          "output_type": "execute_result",
          "data": {
            "text/plain": [
              "([(-0.32501778, 'footballer'),\n",
              "  (-0.16693358, 'cleric'),\n",
              "  (-0.15964463, 'vice_chancellor'),\n",
              "  (-0.15362918, 'lecturer'),\n",
              "  (-0.1531749, 'midfielder'),\n",
              "  (-0.1515184, 'fashion_designer'),\n",
              "  (-0.14984937, 'housewife'),\n",
              "  (-0.14895485, 'pundit'),\n",
              "  (-0.13962688, 'student'),\n",
              "  (-0.13837737, 'banker'),\n",
              "  (-0.12876885, 'hitman'),\n",
              "  (-0.126078, 'civil_servant'),\n",
              "  (-0.12569053, 'chancellor'),\n",
              "  (-0.124440275, 'socialite'),\n",
              "  (-0.121996544, 'journalist'),\n",
              "  (-0.11445205, 'artiste'),\n",
              "  (-0.11225906, 'entertainer'),\n",
              "  (-0.1106455, 'broadcaster'),\n",
              "  (-0.11030317, 'serviceman'),\n",
              "  (-0.10903629, 'filmmaker')],\n",
              " [(0.046729255, 'deputy'),\n",
              "  (0.048755586, 'geologist'),\n",
              "  (0.049729493, 'paralegal'),\n",
              "  (0.050405726, 'councilman'),\n",
              "  (0.05245539, 'lifeguard'),\n",
              "  (0.05282015, 'organist'),\n",
              "  (0.055579696, 'assassin'),\n",
              "  (0.058301304, 'instructor'),\n",
              "  (0.060144324, 'soloist'),\n",
              "  (0.064725064, 'attorney'),\n",
              "  (0.06975241, 'foreman'),\n",
              "  (0.07452034, 'treasurer'),\n",
              "  (0.07646255, 'trooper'),\n",
              "  (0.0775902, 'valedictorian'),\n",
              "  (0.07845981, 'clerk'),\n",
              "  (0.081745565, 'investigator'),\n",
              "  (0.09263827, 'patrolman'),\n",
              "  (0.104208596, 'bookkeeper'),\n",
              "  (0.113699816, 'major_leaguer'),\n",
              "  (0.14989373, 'infielder')])"
            ]
          },
          "metadata": {
            "tags": []
          },
          "execution_count": 46
        }
      ]
    },
    {
      "metadata": {
        "id": "qPQEI6QxYiAy",
        "colab_type": "text"
      },
      "cell_type": "markdown",
      "source": [
        "# Compare debiasing and non-debiasing results"
      ]
    },
    {
      "metadata": {
        "id": "mFlO7_JnYhQ6",
        "colab_type": "code",
        "outputId": "cec62fde-2cde-464f-c3b6-1cce24924bfc",
        "colab": {
          "base_uri": "https://localhost:8080/",
          "height": 34
        }
      },
      "cell_type": "code",
      "source": [
        "%cd /content/"
      ],
      "execution_count": 47,
      "outputs": [
        {
          "output_type": "stream",
          "text": [
            "/content\n"
          ],
          "name": "stdout"
        }
      ]
    },
    {
      "metadata": {
        "id": "zsHx1JJjY9Gc",
        "colab_type": "code",
        "outputId": "4899e810-cb7e-4b44-b523-58f9df33f6c5",
        "colab": {
          "base_uri": "https://localhost:8080/",
          "height": 1399
        }
      },
      "cell_type": "code",
      "source": [
        "!wget https://raw.githubusercontent.com/liutianlin0121/Conceptor-Negation-WV/master/data/wordSimData/EN-MEN-TR-3k.txt\n",
        "!wget https://raw.githubusercontent.com/liutianlin0121/Conceptor-Negation-WV/master/data/wordSimData/EN-MTurk-287.txt\n",
        "!wget https://raw.githubusercontent.com/liutianlin0121/Conceptor-Negation-WV/master/data/wordSimData/EN-RG-65.txt\n",
        "!wget https://raw.githubusercontent.com/liutianlin0121/Conceptor-Negation-WV/master/data/wordSimData/EN-RW-STANFORD.txt\n",
        "!wget https://raw.githubusercontent.com/liutianlin0121/Conceptor-Negation-WV/master/data/wordSimData/EN-SIMLEX-999.txt\n",
        "!wget https://raw.githubusercontent.com/liutianlin0121/Conceptor-Negation-WV/master/data/wordSimData/EN-SimVerb-3500.txt\n",
        "!wget https://raw.githubusercontent.com/liutianlin0121/Conceptor-Negation-WV/master/data/wordSimData/EN-WS-353-ALL.txt\n",
        "!ls"
      ],
      "execution_count": 48,
      "outputs": [
        {
          "output_type": "stream",
          "text": [
            "--2019-02-14 22:39:29--  https://raw.githubusercontent.com/liutianlin0121/Conceptor-Negation-WV/master/data/wordSimData/EN-MEN-TR-3k.txt\n",
            "Resolving raw.githubusercontent.com (raw.githubusercontent.com)... 151.101.0.133, 151.101.64.133, 151.101.128.133, ...\n",
            "Connecting to raw.githubusercontent.com (raw.githubusercontent.com)|151.101.0.133|:443... connected.\n",
            "HTTP request sent, awaiting response... 200 OK\n",
            "Length: 53593 (52K) [text/plain]\n",
            "Saving to: ‘EN-MEN-TR-3k.txt’\n",
            "\n",
            "\rEN-MEN-TR-3k.txt      0%[                    ]       0  --.-KB/s               \rEN-MEN-TR-3k.txt    100%[===================>]  52.34K  --.-KB/s    in 0.01s   \n",
            "\n",
            "2019-02-14 22:39:29 (3.79 MB/s) - ‘EN-MEN-TR-3k.txt’ saved [53593/53593]\n",
            "\n",
            "--2019-02-14 22:39:29--  https://raw.githubusercontent.com/liutianlin0121/Conceptor-Negation-WV/master/data/wordSimData/EN-MTurk-287.txt\n",
            "Resolving raw.githubusercontent.com (raw.githubusercontent.com)... 151.101.0.133, 151.101.64.133, 151.101.128.133, ...\n",
            "Connecting to raw.githubusercontent.com (raw.githubusercontent.com)|151.101.0.133|:443... connected.\n",
            "HTTP request sent, awaiting response... 200 OK\n",
            "Length: 7218 (7.0K) [text/plain]\n",
            "Saving to: ‘EN-MTurk-287.txt’\n",
            "\n",
            "EN-MTurk-287.txt    100%[===================>]   7.05K  --.-KB/s    in 0s      \n",
            "\n",
            "2019-02-14 22:39:30 (87.0 MB/s) - ‘EN-MTurk-287.txt’ saved [7218/7218]\n",
            "\n",
            "--2019-02-14 22:39:30--  https://raw.githubusercontent.com/liutianlin0121/Conceptor-Negation-WV/master/data/wordSimData/EN-RG-65.txt\n",
            "Resolving raw.githubusercontent.com (raw.githubusercontent.com)... 151.101.0.133, 151.101.64.133, 151.101.128.133, ...\n",
            "Connecting to raw.githubusercontent.com (raw.githubusercontent.com)|151.101.0.133|:443... connected.\n",
            "HTTP request sent, awaiting response... 200 OK\n",
            "Length: 1210 (1.2K) [text/plain]\n",
            "Saving to: ‘EN-RG-65.txt’\n",
            "\n",
            "EN-RG-65.txt        100%[===================>]   1.18K  --.-KB/s    in 0s      \n",
            "\n",
            "2019-02-14 22:39:30 (227 MB/s) - ‘EN-RG-65.txt’ saved [1210/1210]\n",
            "\n",
            "--2019-02-14 22:39:31--  https://raw.githubusercontent.com/liutianlin0121/Conceptor-Negation-WV/master/data/wordSimData/EN-RW-STANFORD.txt\n",
            "Resolving raw.githubusercontent.com (raw.githubusercontent.com)... 151.101.0.133, 151.101.64.133, 151.101.128.133, ...\n",
            "Connecting to raw.githubusercontent.com (raw.githubusercontent.com)|151.101.0.133|:443... connected.\n",
            "HTTP request sent, awaiting response... 200 OK\n",
            "Length: 49851 (49K) [text/plain]\n",
            "Saving to: ‘EN-RW-STANFORD.txt’\n",
            "\n",
            "EN-RW-STANFORD.txt  100%[===================>]  48.68K  --.-KB/s    in 0.01s   \n",
            "\n",
            "2019-02-14 22:39:31 (3.24 MB/s) - ‘EN-RW-STANFORD.txt’ saved [49851/49851]\n",
            "\n",
            "--2019-02-14 22:39:32--  https://raw.githubusercontent.com/liutianlin0121/Conceptor-Negation-WV/master/data/wordSimData/EN-SIMLEX-999.txt\n",
            "Resolving raw.githubusercontent.com (raw.githubusercontent.com)... 151.101.0.133, 151.101.64.133, 151.101.128.133, ...\n",
            "Connecting to raw.githubusercontent.com (raw.githubusercontent.com)|151.101.0.133|:443... connected.\n",
            "HTTP request sent, awaiting response... 200 OK\n",
            "Length: 18024 (18K) [text/plain]\n",
            "Saving to: ‘EN-SIMLEX-999.txt’\n",
            "\n",
            "EN-SIMLEX-999.txt   100%[===================>]  17.60K  --.-KB/s    in 0.007s  \n",
            "\n",
            "2019-02-14 22:39:32 (2.42 MB/s) - ‘EN-SIMLEX-999.txt’ saved [18024/18024]\n",
            "\n",
            "--2019-02-14 22:39:32--  https://raw.githubusercontent.com/liutianlin0121/Conceptor-Negation-WV/master/data/wordSimData/EN-SimVerb-3500.txt\n",
            "Resolving raw.githubusercontent.com (raw.githubusercontent.com)... 151.101.0.133, 151.101.64.133, 151.101.128.133, ...\n",
            "Connecting to raw.githubusercontent.com (raw.githubusercontent.com)|151.101.0.133|:443... connected.\n",
            "HTTP request sent, awaiting response... 200 OK\n",
            "Length: 65315 (64K) [text/plain]\n",
            "Saving to: ‘EN-SimVerb-3500.txt’\n",
            "\n",
            "EN-SimVerb-3500.txt 100%[===================>]  63.78K  --.-KB/s    in 0.01s   \n",
            "\n",
            "2019-02-14 22:39:32 (4.39 MB/s) - ‘EN-SimVerb-3500.txt’ saved [65315/65315]\n",
            "\n",
            "--2019-02-14 22:39:33--  https://raw.githubusercontent.com/liutianlin0121/Conceptor-Negation-WV/master/data/wordSimData/EN-WS-353-ALL.txt\n",
            "Resolving raw.githubusercontent.com (raw.githubusercontent.com)... 151.101.0.133, 151.101.64.133, 151.101.128.133, ...\n",
            "Connecting to raw.githubusercontent.com (raw.githubusercontent.com)|151.101.0.133|:443... connected.\n",
            "HTTP request sent, awaiting response... 200 OK\n",
            "Length: 7405 (7.2K) [text/plain]\n",
            "Saving to: ‘EN-WS-353-ALL.txt’\n",
            "\n",
            "EN-WS-353-ALL.txt   100%[===================>]   7.23K  --.-KB/s    in 0s      \n",
            "\n",
            "2019-02-14 22:39:33 (117 MB/s) - ‘EN-WS-353-ALL.txt’ saved [7405/7405]\n",
            "\n",
            "debiased.txt\t   EN-RG-65.txt\t\tEN-WS-353-ALL.txt  w2v_cn.txt\n",
            "debiaswe_tutorial  EN-RW-STANFORD.txt\tsample_data\n",
            "EN-MEN-TR-3k.txt   EN-SIMLEX-999.txt\tsmall_w2v.txt\n",
            "EN-MTurk-287.txt   EN-SimVerb-3500.txt\tw2v_cn_2.txt\n"
          ],
          "name": "stdout"
        }
      ]
    },
    {
      "metadata": {
        "id": "z9OmAg71ZCmN",
        "colab_type": "code",
        "colab": {}
      },
      "cell_type": "code",
      "source": [
        "def get_sim_no_cn(data_f_name, f_name):\n",
        "  model = eval(f_name)\n",
        "  fin = io.open(data_f_name, 'r', encoding='utf-8', newline='\\n', errors='ignore')\n",
        "  data = []\n",
        "  line_num = 0\n",
        "  for line in fin:\n",
        "      tokens = line.rstrip().split()\n",
        "      if tokens[0] in model.vocab and tokens[1] in model.vocab:\n",
        "        data.append(((tokens[0], tokens[1]), float(tokens[2])))\n",
        " \n",
        "  data.sort(key = lambda score: -score[1]) #sort based on score\n",
        "  dataset = {}\n",
        "  dataset_list = []\n",
        "  \n",
        "  for ((word1, word2), score) in data:\n",
        "    sim_score = 1 - cosine_similarity(model[word1].reshape(1,-1), model[word2].reshape(1,-1))\n",
        "    dataset[(word1, word2)] = sim_score\n",
        "    dataset_list.append(((word1, word2),sim_score))\n",
        "  dataset_list.sort(key = lambda score: score[1])\n",
        "  spearman_list1=[]\n",
        "  spearman_list2=[]\n",
        "  for pos_1, (pair, score_1) in enumerate(data):\n",
        "    score_2 = dataset[pair]\n",
        "    pos_2 = dataset_list.index((pair, score_2))\n",
        "    spearman_list1.append(pos_1)\n",
        "    spearman_list2.append(pos_2)\n",
        "  rho = spearmanr(spearman_list1, spearman_list2)\n",
        "  return rho[0] "
      ],
      "execution_count": 0,
      "outputs": []
    },
    {
      "metadata": {
        "id": "L5tGb0rqzxSI",
        "colab_type": "text"
      },
      "cell_type": "markdown",
      "source": [
        "There is a slight difference between the results below and the results in paper. The reason is that the author said that their word embeddings dataset has 26377 words, but the dataset they provided on github has 26423 words. I tried data cleaning methods discussed in their paper but still got 26423 words. The difference in entries would cause the difference. \n",
        "\n",
        "In their paper, they only used EN-RG-65 and EN-WS-353."
      ]
    },
    {
      "metadata": {
        "id": "Xz5QgIICZOmB",
        "colab_type": "code",
        "outputId": "9788f7c6-2660-45bb-921d-593a369cdd18",
        "colab": {
          "base_uri": "https://localhost:8080/",
          "height": 375
        }
      },
      "cell_type": "code",
      "source": [
        "dataSets = ['EN-RG-65.txt', 'EN-WS-353-ALL.txt', 'EN-RW-STANFORD.txt', 'EN-MEN-TR-3k.txt', 'EN-MTurk-287.txt', 'EN-SIMLEX-999.txt', 'EN-SimVerb-3500.txt']\n",
        "for dataset in dataSets:\n",
        "    dataSetAddress = '/content/'+  dataset\n",
        "    print('evaluating the data set', dataSetAddress)\n",
        "    print('w2v ')\n",
        "    print(\"%.4f\" % get_sim_no_cn(dataSetAddress, 'w2v'))"
      ],
      "execution_count": 61,
      "outputs": [
        {
          "output_type": "stream",
          "text": [
            "evaluating the data set /content/EN-RG-65.txt\n",
            "w2v \n",
            "0.7621\n",
            "evaluating the data set /content/EN-WS-353-ALL.txt\n",
            "w2v \n",
            "0.6880\n",
            "evaluating the data set /content/EN-RW-STANFORD.txt\n",
            "w2v \n",
            "0.6542\n",
            "evaluating the data set /content/EN-MEN-TR-3k.txt\n",
            "w2v \n",
            "0.7742\n",
            "evaluating the data set /content/EN-MTurk-287.txt\n",
            "w2v \n",
            "0.6958\n",
            "evaluating the data set /content/EN-SIMLEX-999.txt\n",
            "w2v \n",
            "0.4448\n",
            "evaluating the data set /content/EN-SimVerb-3500.txt\n",
            "w2v \n",
            "0.3562\n"
          ],
          "name": "stdout"
        }
      ]
    },
    {
      "metadata": {
        "id": "g_Vu9sh2af3M",
        "colab_type": "code",
        "outputId": "a5e1cfd1-5274-45fe-f5f8-1ae07b2c246d",
        "colab": {
          "base_uri": "https://localhost:8080/",
          "height": 122
        }
      },
      "cell_type": "code",
      "source": [
        "!python -m gensim.scripts.glove2word2vec -i /content/debiased.txt -o /content/debiased_w2v.txt"
      ],
      "execution_count": 51,
      "outputs": [
        {
          "output_type": "stream",
          "text": [
            "/usr/lib/python3.6/runpy.py:125: RuntimeWarning: 'gensim.scripts.glove2word2vec' found in sys.modules after import of package 'gensim.scripts', but prior to execution of 'gensim.scripts.glove2word2vec'; this may result in unpredictable behaviour\n",
            "  warn(RuntimeWarning(msg))\n",
            "2019-02-14 22:39:56,130 - glove2word2vec - INFO - running /usr/local/lib/python3.6/dist-packages/gensim/scripts/glove2word2vec.py -i /content/debiased.txt -o /content/debiased_w2v.txt\n",
            "2019-02-14 22:39:56,208 - glove2word2vec - INFO - converting 26423 vectors from /content/debiased.txt to /content/debiased_w2v.txt\n",
            "2019-02-14 22:39:56,490 - glove2word2vec - INFO - Converted model with 26423 vectors and 300 dimensions\n"
          ],
          "name": "stdout"
        }
      ]
    },
    {
      "metadata": {
        "id": "Tnu52_9UbEeg",
        "colab_type": "code",
        "colab": {}
      },
      "cell_type": "code",
      "source": [
        "w2v_de = KeyedVectors.load_word2vec_format('/content/debiased_w2v.txt', binary=False)"
      ],
      "execution_count": 0,
      "outputs": []
    },
    {
      "metadata": {
        "id": "9sW5n_vmbNWr",
        "colab_type": "code",
        "outputId": "0e9f4ee3-a591-48b0-bb4d-ef70282c7b2c",
        "colab": {
          "base_uri": "https://localhost:8080/",
          "height": 375
        }
      },
      "cell_type": "code",
      "source": [
        "dataSets = ['EN-RG-65.txt', 'EN-WS-353-ALL.txt', 'EN-RW-STANFORD.txt', 'EN-MEN-TR-3k.txt', 'EN-MTurk-287.txt', 'EN-SIMLEX-999.txt', 'EN-SimVerb-3500.txt']\n",
        "for dataset in dataSets:\n",
        "    dataSetAddress = '/content/'+  dataset\n",
        "    print('evaluating the data set', dataSetAddress)\n",
        "    print('w2v ')\n",
        "    print(\"%.4f\" % get_sim_no_cn(dataSetAddress, 'w2v_de'))"
      ],
      "execution_count": 53,
      "outputs": [
        {
          "output_type": "stream",
          "text": [
            "evaluating the data set /content/EN-RG-65.txt\n",
            "w2v \n",
            "0.7604\n",
            "evaluating the data set /content/EN-WS-353-ALL.txt\n",
            "w2v \n",
            "0.6850\n",
            "evaluating the data set /content/EN-RW-STANFORD.txt\n",
            "w2v \n",
            "0.6544\n",
            "evaluating the data set /content/EN-MEN-TR-3k.txt\n",
            "w2v \n",
            "0.7730\n",
            "evaluating the data set /content/EN-MTurk-287.txt\n",
            "w2v \n",
            "0.6957\n",
            "evaluating the data set /content/EN-SIMLEX-999.txt\n",
            "w2v \n",
            "0.4474\n",
            "evaluating the data set /content/EN-SimVerb-3500.txt\n",
            "w2v \n",
            "0.3562\n"
          ],
          "name": "stdout"
        }
      ]
    },
    {
      "metadata": {
        "id": "bjgyj6Q9ILU9",
        "colab_type": "text"
      },
      "cell_type": "markdown",
      "source": [
        "# CN results"
      ]
    },
    {
      "metadata": {
        "id": "Xtwx9EcDM2DT",
        "colab_type": "code",
        "outputId": "804c50fc-4dd2-4169-d135-5660cf855139",
        "colab": {
          "base_uri": "https://localhost:8080/",
          "height": 375
        }
      },
      "cell_type": "code",
      "source": [
        "dataSets = ['EN-RG-65.txt', 'EN-WS-353-ALL.txt', 'EN-RW-STANFORD.txt', 'EN-MEN-TR-3k.txt', 'EN-MTurk-287.txt', 'EN-SIMLEX-999.txt', 'EN-SimVerb-3500.txt']\n",
        "for dataset in dataSets:\n",
        "    dataSetAddress = '/content/'+  dataset\n",
        "    print('evaluating the data set', dataSetAddress)\n",
        "    print('w2v ')\n",
        "    print(\"%.4f\" % get_sim_no_cn(dataSetAddress, 'cn_w2v'))"
      ],
      "execution_count": 58,
      "outputs": [
        {
          "output_type": "stream",
          "text": [
            "evaluating the data set /content/EN-RG-65.txt\n",
            "w2v \n",
            "0.7628\n",
            "evaluating the data set /content/EN-WS-353-ALL.txt\n",
            "w2v \n",
            "0.6886\n",
            "evaluating the data set /content/EN-RW-STANFORD.txt\n",
            "w2v \n",
            "0.6568\n",
            "evaluating the data set /content/EN-MEN-TR-3k.txt\n",
            "w2v \n",
            "0.7765\n",
            "evaluating the data set /content/EN-MTurk-287.txt\n",
            "w2v \n",
            "0.6889\n",
            "evaluating the data set /content/EN-SIMLEX-999.txt\n",
            "w2v \n",
            "0.4584\n",
            "evaluating the data set /content/EN-SimVerb-3500.txt\n",
            "w2v \n",
            "0.3625\n"
          ],
          "name": "stdout"
        }
      ]
    },
    {
      "metadata": {
        "id": "D_QhCqeNcMjR",
        "colab_type": "text"
      },
      "cell_type": "markdown",
      "source": [
        "# Soft Debiasing(Not working)"
      ]
    },
    {
      "metadata": {
        "id": "NdabZ8fUyKmE",
        "colab_type": "code",
        "outputId": "81626529-7e1e-40a8-c203-4253a16780d7",
        "colab": {
          "base_uri": "https://localhost:8080/",
          "height": 204
        }
      },
      "cell_type": "code",
      "source": [
        "!pip install cvxpy"
      ],
      "execution_count": 0,
      "outputs": [
        {
          "output_type": "stream",
          "text": [
            "Requirement already satisfied: cvxpy in /usr/local/lib/python3.6/dist-packages (1.0.14)\n",
            "Requirement already satisfied: osqp in /usr/local/lib/python3.6/dist-packages (from cvxpy) (0.5.0)\n",
            "Requirement already satisfied: ecos>=2 in /usr/local/lib/python3.6/dist-packages (from cvxpy) (2.0.7.post1)\n",
            "Requirement already satisfied: scs>=1.1.3 in /usr/local/lib/python3.6/dist-packages (from cvxpy) (2.0.2)\n",
            "Requirement already satisfied: multiprocess in /usr/local/lib/python3.6/dist-packages (from cvxpy) (0.70.7)\n",
            "Requirement already satisfied: fastcache in /usr/local/lib/python3.6/dist-packages (from cvxpy) (1.0.2)\n",
            "Requirement already satisfied: six in /usr/local/lib/python3.6/dist-packages (from cvxpy) (1.11.0)\n",
            "Requirement already satisfied: numpy>=1.14 in /usr/local/lib/python3.6/dist-packages (from cvxpy) (1.14.6)\n",
            "Requirement already satisfied: scipy>=1.1.0 in /usr/local/lib/python3.6/dist-packages (from cvxpy) (1.1.0)\n",
            "Requirement already satisfied: future in /usr/local/lib/python3.6/dist-packages (from osqp->cvxpy) (0.16.0)\n",
            "Requirement already satisfied: dill>=0.2.9 in /usr/local/lib/python3.6/dist-packages (from multiprocess->cvxpy) (0.2.9)\n"
          ],
          "name": "stdout"
        }
      ]
    },
    {
      "metadata": {
        "id": "KXVp7Ivd_2Px",
        "colab_type": "code",
        "colab": {}
      },
      "cell_type": "code",
      "source": [
        "import cvxpy as cp"
      ],
      "execution_count": 0,
      "outputs": []
    },
    {
      "metadata": {
        "id": "hXPU1RNseEtr",
        "colab_type": "code",
        "colab": {}
      },
      "cell_type": "code",
      "source": [
        "w2v_mat = w2v.vectors"
      ],
      "execution_count": 0,
      "outputs": []
    },
    {
      "metadata": {
        "id": "3OdDNG8RO8bd",
        "colab_type": "code",
        "outputId": "d49ecb79-28a0-496d-e8de-49c78fad8c26",
        "colab": {
          "base_uri": "https://localhost:8080/",
          "height": 34
        }
      },
      "cell_type": "code",
      "source": [
        "w2v_mat.shape"
      ],
      "execution_count": 0,
      "outputs": [
        {
          "output_type": "execute_result",
          "data": {
            "text/plain": [
              "(26423, 300)"
            ]
          },
          "metadata": {
            "tags": []
          },
          "execution_count": 23
        }
      ]
    },
    {
      "metadata": {
        "id": "k_T6dv1TeSMn",
        "colab_type": "code",
        "colab": {}
      },
      "cell_type": "code",
      "source": [
        "U,s,V = np.linalg.svd(w2v_mat)"
      ],
      "execution_count": 0,
      "outputs": []
    },
    {
      "metadata": {
        "id": "iV77tsfdKaKq",
        "colab_type": "code",
        "outputId": "016af899-587b-4bc2-cc5a-9c0eefcfa3e6",
        "colab": {
          "base_uri": "https://localhost:8080/",
          "height": 34
        }
      },
      "cell_type": "code",
      "source": [
        "V.shape"
      ],
      "execution_count": 0,
      "outputs": [
        {
          "output_type": "execute_result",
          "data": {
            "text/plain": [
              "(300, 300)"
            ]
          },
          "metadata": {
            "tags": []
          },
          "execution_count": 25
        }
      ]
    },
    {
      "metadata": {
        "id": "48hi3YhviPw3",
        "colab_type": "code",
        "colab": {}
      },
      "cell_type": "code",
      "source": [
        "P = []\n",
        "word_list = []\n",
        "for pair in equalize_pairs:\n",
        "  if pair[0] in w2v.vocab:\n",
        "    P.append(w2v[pair[0]])\n",
        "    word_list.append(pair[0])\n",
        "  if pair[1] in w2v.vocab:\n",
        "    P.append(w2v[pair[1]])\n",
        "    word_list.append(pair[1])\n",
        "P = np.matrix(P)\n"
      ],
      "execution_count": 0,
      "outputs": []
    },
    {
      "metadata": {
        "id": "XQuqBgKtn9XN",
        "colab_type": "code",
        "outputId": "c7a2e15d-f0b8-4c38-96e0-1477aea0f535",
        "colab": {
          "base_uri": "https://localhost:8080/",
          "height": 34
        }
      },
      "cell_type": "code",
      "source": [
        "P.shape"
      ],
      "execution_count": 0,
      "outputs": [
        {
          "output_type": "execute_result",
          "data": {
            "text/plain": [
              "(92, 300)"
            ]
          },
          "metadata": {
            "tags": []
          },
          "execution_count": 27
        }
      ]
    },
    {
      "metadata": {
        "id": "GnKsAJDljIYQ",
        "colab_type": "code",
        "colab": {}
      },
      "cell_type": "code",
      "source": [
        "B = []\n",
        "B.append(w2v['she'])\n",
        "B.append(w2v['he'])\n",
        "B = np.matrix(B)"
      ],
      "execution_count": 0,
      "outputs": []
    },
    {
      "metadata": {
        "id": "Se3_BsI7n7HF",
        "colab_type": "code",
        "outputId": "6ee26e54-3f70-42ff-c6ca-5928564d8455",
        "colab": {
          "base_uri": "https://localhost:8080/",
          "height": 34
        }
      },
      "cell_type": "code",
      "source": [
        "B.shape"
      ],
      "execution_count": 0,
      "outputs": [
        {
          "output_type": "execute_result",
          "data": {
            "text/plain": [
              "(2, 300)"
            ]
          },
          "metadata": {
            "tags": []
          },
          "execution_count": 29
        }
      ]
    },
    {
      "metadata": {
        "id": "1O0g5UJ1ivAD",
        "colab_type": "code",
        "outputId": "8e9a7544-3278-4e10-ebe0-b196f1609cfe",
        "colab": {
          "base_uri": "https://localhost:8080/",
          "height": 35
        }
      },
      "cell_type": "code",
      "source": [
        "print(len(P))"
      ],
      "execution_count": 0,
      "outputs": [
        {
          "output_type": "stream",
          "text": [
            "92\n"
          ],
          "name": "stdout"
        }
      ]
    },
    {
      "metadata": {
        "id": "JhXbr4i-KtMy",
        "colab_type": "code",
        "colab": {}
      },
      "cell_type": "code",
      "source": [
        "mat1 = np.diag(s).dot(V)*((X-np.identity(300)))*(np.transpose(V).dot(np.diag(s)))\n",
        "#mat2= mat1*((X-np.identity(50)))*(np.transpose(V).dot(np.diag(s)))\n",
        "#.dot((X-np.identity(50))).dot(np.transpose(V).dot(np.diag(s)))"
      ],
      "execution_count": 0,
      "outputs": []
    },
    {
      "metadata": {
        "id": "9rGH1XLpSkbq",
        "colab_type": "code",
        "colab": {}
      },
      "cell_type": "code",
      "source": [
        "mat2 = P*(X)*(np.transpose(B))"
      ],
      "execution_count": 0,
      "outputs": []
    },
    {
      "metadata": {
        "id": "UeD8MZAtUJK-",
        "colab_type": "code",
        "outputId": "14fd3c69-11a8-4d8d-afb5-94610a41c0b2",
        "colab": {
          "base_uri": "https://localhost:8080/",
          "height": 34
        }
      },
      "cell_type": "code",
      "source": [
        "mat1"
      ],
      "execution_count": 0,
      "outputs": [
        {
          "output_type": "execute_result",
          "data": {
            "text/plain": [
              "Expression(AFFINE, UNKNOWN, (300, 300))"
            ]
          },
          "metadata": {
            "tags": []
          },
          "execution_count": 37
        }
      ]
    },
    {
      "metadata": {
        "id": "TD7h907JRWmY",
        "colab_type": "code",
        "colab": {}
      },
      "cell_type": "code",
      "source": [
        "mat2 = P.dot(X).dot(np.transpose(B))"
      ],
      "execution_count": 0,
      "outputs": []
    },
    {
      "metadata": {
        "id": "c3cvUQuURzrv",
        "colab_type": "code",
        "colab": {}
      },
      "cell_type": "code",
      "source": [
        "norm1 = np.linalg.norm(mat1)"
      ],
      "execution_count": 0,
      "outputs": []
    },
    {
      "metadata": {
        "id": "Zcqb-Ax_CGVJ",
        "colab_type": "code",
        "colab": {}
      },
      "cell_type": "code",
      "source": [
        "X = cp.Variable((300, 300), PSD=True)"
      ],
      "execution_count": 0,
      "outputs": []
    },
    {
      "metadata": {
        "id": "5U50FcuySo8Y",
        "colab_type": "code",
        "outputId": "13338d67-1165-4b86-b796-f3de78b38fbe",
        "colab": {
          "base_uri": "https://localhost:8080/",
          "height": 34
        }
      },
      "cell_type": "code",
      "source": [
        "X-np.identity(50)"
      ],
      "execution_count": 0,
      "outputs": [
        {
          "output_type": "execute_result",
          "data": {
            "text/plain": [
              "Expression(AFFINE, UNKNOWN, (50, 50))"
            ]
          },
          "metadata": {
            "tags": []
          },
          "execution_count": 47
        }
      ]
    },
    {
      "metadata": {
        "id": "fZh4DSy24EJZ",
        "colab_type": "code",
        "colab": {}
      },
      "cell_type": "code",
      "source": [
        "norm1= cp.norm(X-np.identity(300))"
      ],
      "execution_count": 0,
      "outputs": []
    },
    {
      "metadata": {
        "id": "8Zo9NaXJ361R",
        "colab_type": "code",
        "colab": {}
      },
      "cell_type": "code",
      "source": [
        "obj = cp.Minimize(cp.norm(mat1)+cp.norm(mat2))"
      ],
      "execution_count": 0,
      "outputs": []
    },
    {
      "metadata": {
        "id": "aGVisSaeGJyn",
        "colab_type": "code",
        "colab": {}
      },
      "cell_type": "code",
      "source": [
        "problem = cp.Problem(cp.Minimize(cp.norm(mat1)+cp.norm(mat2)))"
      ],
      "execution_count": 0,
      "outputs": []
    },
    {
      "metadata": {
        "id": "l7QxGG2OGojj",
        "colab_type": "code",
        "colab": {}
      },
      "cell_type": "code",
      "source": [
        "problem.solve()"
      ],
      "execution_count": 0,
      "outputs": []
    },
    {
      "metadata": {
        "id": "OqOWN3z_XBE7",
        "colab_type": "code",
        "outputId": "57b5ab89-52c8-423f-cb98-ea862b0a3cd9",
        "colab": {
          "base_uri": "https://localhost:8080/",
          "height": 238
        }
      },
      "cell_type": "code",
      "source": [
        "for variable in problem.variables():\n",
        "  print(variable.value[0])"
      ],
      "execution_count": 0,
      "outputs": [
        {
          "output_type": "stream",
          "text": [
            "[ 9.99998337e-01 -6.57498877e-07 -5.97286388e-07  2.78589948e-07\n",
            "  5.21181077e-08 -2.28734878e-07 -1.23440125e-07 -5.24961302e-07\n",
            "  3.76656985e-07  1.02171139e-06 -6.75971329e-07  1.01996925e-06\n",
            " -1.00146025e-06 -3.93990747e-07 -9.84867768e-07 -3.37496205e-07\n",
            "  1.18584360e-06  9.59675581e-07 -6.42748275e-07 -3.42649841e-07\n",
            " -2.71466851e-07  1.33458664e-07  3.39883574e-07  1.06921398e-06\n",
            " -3.35677338e-07 -7.19774741e-07 -9.07763611e-08 -4.74541765e-07\n",
            "  7.59212244e-08 -3.90731435e-07  5.93059205e-07 -2.41158553e-07\n",
            " -4.85931116e-07 -8.76911984e-07  4.80233698e-07  3.99723598e-07\n",
            "  1.54123588e-07  2.36008567e-08  6.02180300e-08  8.92711512e-07\n",
            "  4.28578838e-08  1.93770961e-07 -2.75466254e-06  1.88568188e-06\n",
            "  7.37080854e-07  2.24333292e-07  4.36322358e-07  3.75663522e-07\n",
            "  1.19390824e-07  4.17649000e-07]\n"
          ],
          "name": "stdout"
        }
      ]
    },
    {
      "metadata": {
        "id": "eyarxu6w_7ek",
        "colab_type": "code",
        "outputId": "fbc89a73-2599-4f09-efe1-3c50a8194077",
        "colab": {
          "base_uri": "https://localhost:8080/",
          "height": 180
        }
      },
      "cell_type": "code",
      "source": [
        "X = cp.Variable((300, 300), PSD=True)\n",
        "obj = cp.Minimize(cp.norm(np.diag(s).dot(V).dot((X-np.identity(300))).dot(np.transpose(V).dot(np.diag(s)))) + cp.norm(P.dot(X).dot(np.transpose(B))))"
      ],
      "execution_count": 0,
      "outputs": [
        {
          "output_type": "error",
          "ename": "NameError",
          "evalue": "ignored",
          "traceback": [
            "\u001b[0;31m---------------------------------------------------------------------------\u001b[0m",
            "\u001b[0;31mNameError\u001b[0m                                 Traceback (most recent call last)",
            "\u001b[0;32m<ipython-input-5-43ca32388711>\u001b[0m in \u001b[0;36m<module>\u001b[0;34m()\u001b[0m\n\u001b[1;32m      1\u001b[0m \u001b[0mX\u001b[0m \u001b[0;34m=\u001b[0m \u001b[0mcp\u001b[0m\u001b[0;34m.\u001b[0m\u001b[0mVariable\u001b[0m\u001b[0;34m(\u001b[0m\u001b[0;34m(\u001b[0m\u001b[0;36m300\u001b[0m\u001b[0;34m,\u001b[0m \u001b[0;36m300\u001b[0m\u001b[0;34m)\u001b[0m\u001b[0;34m,\u001b[0m \u001b[0mPSD\u001b[0m\u001b[0;34m=\u001b[0m\u001b[0;32mTrue\u001b[0m\u001b[0;34m)\u001b[0m\u001b[0;34m\u001b[0m\u001b[0;34m\u001b[0m\u001b[0m\n\u001b[0;32m----> 2\u001b[0;31m \u001b[0mobj\u001b[0m \u001b[0;34m=\u001b[0m \u001b[0mcp\u001b[0m\u001b[0;34m.\u001b[0m\u001b[0mMinimize\u001b[0m\u001b[0;34m(\u001b[0m\u001b[0mcp\u001b[0m\u001b[0;34m.\u001b[0m\u001b[0mnorm\u001b[0m\u001b[0;34m(\u001b[0m\u001b[0mnp\u001b[0m\u001b[0;34m.\u001b[0m\u001b[0mdiag\u001b[0m\u001b[0;34m(\u001b[0m\u001b[0ms\u001b[0m\u001b[0;34m)\u001b[0m\u001b[0;34m.\u001b[0m\u001b[0mdot\u001b[0m\u001b[0;34m(\u001b[0m\u001b[0mV\u001b[0m\u001b[0;34m)\u001b[0m\u001b[0;34m.\u001b[0m\u001b[0mdot\u001b[0m\u001b[0;34m(\u001b[0m\u001b[0;34m(\u001b[0m\u001b[0mX\u001b[0m\u001b[0;34m-\u001b[0m\u001b[0mnp\u001b[0m\u001b[0;34m.\u001b[0m\u001b[0midentity\u001b[0m\u001b[0;34m(\u001b[0m\u001b[0;36m300\u001b[0m\u001b[0;34m)\u001b[0m\u001b[0;34m)\u001b[0m\u001b[0;34m)\u001b[0m\u001b[0;34m.\u001b[0m\u001b[0mdot\u001b[0m\u001b[0;34m(\u001b[0m\u001b[0mnp\u001b[0m\u001b[0;34m.\u001b[0m\u001b[0mtranspose\u001b[0m\u001b[0;34m(\u001b[0m\u001b[0mV\u001b[0m\u001b[0;34m)\u001b[0m\u001b[0;34m.\u001b[0m\u001b[0mdot\u001b[0m\u001b[0;34m(\u001b[0m\u001b[0mnp\u001b[0m\u001b[0;34m.\u001b[0m\u001b[0mdiag\u001b[0m\u001b[0;34m(\u001b[0m\u001b[0ms\u001b[0m\u001b[0;34m)\u001b[0m\u001b[0;34m)\u001b[0m\u001b[0;34m)\u001b[0m\u001b[0;34m)\u001b[0m \u001b[0;34m+\u001b[0m \u001b[0mcp\u001b[0m\u001b[0;34m.\u001b[0m\u001b[0mnorm\u001b[0m\u001b[0;34m(\u001b[0m\u001b[0mP\u001b[0m\u001b[0;34m.\u001b[0m\u001b[0mdot\u001b[0m\u001b[0;34m(\u001b[0m\u001b[0mX\u001b[0m\u001b[0;34m)\u001b[0m\u001b[0;34m.\u001b[0m\u001b[0mdot\u001b[0m\u001b[0;34m(\u001b[0m\u001b[0mnp\u001b[0m\u001b[0;34m.\u001b[0m\u001b[0mtranspose\u001b[0m\u001b[0;34m(\u001b[0m\u001b[0mB\u001b[0m\u001b[0;34m)\u001b[0m\u001b[0;34m)\u001b[0m\u001b[0;34m)\u001b[0m\u001b[0;34m)\u001b[0m\u001b[0;34m\u001b[0m\u001b[0;34m\u001b[0m\u001b[0m\n\u001b[0m",
            "\u001b[0;31mNameError\u001b[0m: name 's' is not defined"
          ]
        }
      ]
    },
    {
      "metadata": {
        "id": "bLM1jlb9ATR4",
        "colab_type": "code",
        "colab": {}
      },
      "cell_type": "code",
      "source": [
        "prob = cp.Problem(obj)\n",
        "prob.solve()"
      ],
      "execution_count": 0,
      "outputs": []
    },
    {
      "metadata": {
        "id": "yaeo48oMs41v",
        "colab_type": "code",
        "outputId": "eb50f30d-38fd-49d4-a620-c7de7a1a3535",
        "colab": {
          "base_uri": "https://localhost:8080/",
          "height": 34
        }
      },
      "cell_type": "code",
      "source": [
        "len(word)"
      ],
      "execution_count": 0,
      "outputs": [
        {
          "output_type": "execute_result",
          "data": {
            "text/plain": [
              "26423"
            ]
          },
          "metadata": {
            "tags": []
          },
          "execution_count": 88
        }
      ]
    },
    {
      "metadata": {
        "id": "IkpbGydvrkJR",
        "colab_type": "code",
        "colab": {}
      },
      "cell_type": "code",
      "source": [
        "f = open('/content/soft_de.txt', 'w+')\n",
        "word = list(w2v.vocab)\n",
        "for i in range(len(word)):\n",
        "  f.write(word[i]+' ')\n",
        "  for j in soft_mat[i]:\n",
        "    f.write(str(j)+' ')\n",
        "  f.write('\\n')\n",
        "f.close()"
      ],
      "execution_count": 0,
      "outputs": []
    },
    {
      "metadata": {
        "id": "by37E4Xcssli",
        "colab_type": "code",
        "outputId": "af2d7948-c924-4d00-d544-67f056a69326",
        "colab": {
          "base_uri": "https://localhost:8080/",
          "height": 122
        }
      },
      "cell_type": "code",
      "source": [
        "!python -m gensim.scripts.glove2word2vec -i /content/soft_de.txt -o /content/soft_w2v.txt"
      ],
      "execution_count": 0,
      "outputs": [
        {
          "output_type": "stream",
          "text": [
            "/usr/lib/python3.6/runpy.py:125: RuntimeWarning: 'gensim.scripts.glove2word2vec' found in sys.modules after import of package 'gensim.scripts', but prior to execution of 'gensim.scripts.glove2word2vec'; this may result in unpredictable behaviour\n",
            "  warn(RuntimeWarning(msg))\n",
            "2019-02-13 16:34:49,271 - glove2word2vec - INFO - running /usr/local/lib/python3.6/dist-packages/gensim/scripts/glove2word2vec.py -i /content/soft_de.txt -o /content/soft_w2v.txt\n",
            "2019-02-13 16:34:49,411 - glove2word2vec - INFO - converting 26423 vectors from /content/soft_de.txt to /content/soft_w2v.txt\n",
            "2019-02-13 16:34:50,335 - glove2word2vec - INFO - Converted model with 26423 vectors and 300 dimensions\n"
          ],
          "name": "stdout"
        }
      ]
    },
    {
      "metadata": {
        "id": "zYeZl9Wcsi3C",
        "colab_type": "code",
        "colab": {}
      },
      "cell_type": "code",
      "source": [
        "soft_w2v = KeyedVectors.load_word2vec_format('/content/soft_w2v.txt', binary=False)"
      ],
      "execution_count": 0,
      "outputs": []
    }
  ]
}