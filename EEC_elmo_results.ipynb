{
  "nbformat": 4,
  "nbformat_minor": 0,
  "metadata": {
    "colab": {
      "name": "EEC_elmo_results.ipynb",
      "version": "0.3.2",
      "provenance": [],
      "collapsed_sections": [],
      "include_colab_link": true
    },
    "kernelspec": {
      "name": "python3",
      "display_name": "Python 3"
    }
  },
  "cells": [
    {
      "cell_type": "markdown",
      "metadata": {
        "id": "view-in-github",
        "colab_type": "text"
      },
      "source": [
        "<a href=\"https://colab.research.google.com/github/SebastianJia/nlp_research_conceptor/blob/master/EEC_elmo_results.ipynb\" target=\"_parent\"><img src=\"https://colab.research.google.com/assets/colab-badge.svg\" alt=\"Open In Colab\"/></a>"
      ]
    },
    {
      "metadata": {
        "id": "4wlukDN_-5XU",
        "colab_type": "code",
        "colab": {}
      },
      "cell_type": "code",
      "source": [
        "import numpy as np\n",
        "import torch\n",
        "t = np.transpose\n",
        "import matplotlib.pyplot as plt\n",
        "%matplotlib inline"
      ],
      "execution_count": 0,
      "outputs": []
    },
    {
      "metadata": {
        "id": "6kH_k0zp7wid",
        "colab_type": "code",
        "colab": {
          "base_uri": "https://localhost:8080/",
          "height": 615
        },
        "outputId": "574dc6f0-967b-4e82-a31c-88a018fd059f"
      },
      "cell_type": "code",
      "source": [
        "##Install flair\n",
        "\n",
        "!pip install -q flair allennlp"
      ],
      "execution_count": 2,
      "outputs": [
        {
          "output_type": "stream",
          "text": [
            "\u001b[K    100% |████████████████████████████████| 81kB 3.1MB/s \n",
            "\u001b[K    100% |████████████████████████████████| 5.6MB 6.0MB/s \n",
            "\u001b[K    100% |████████████████████████████████| 798kB 23.1MB/s \n",
            "\u001b[K    100% |████████████████████████████████| 122kB 30.3MB/s \n",
            "\u001b[K    100% |████████████████████████████████| 512kB 6.7MB/s \n",
            "\u001b[K    100% |████████████████████████████████| 4.5MB 6.6MB/s \n",
            "\u001b[K    100% |████████████████████████████████| 133kB 32.3MB/s \n",
            "\u001b[K    100% |████████████████████████████████| 51kB 20.4MB/s \n",
            "\u001b[K    100% |████████████████████████████████| 1.5MB 16.7MB/s \n",
            "\u001b[K    100% |████████████████████████████████| 51kB 21.9MB/s \n",
            "\u001b[K    100% |████████████████████████████████| 552kB 25.6MB/s \n",
            "\u001b[K    100% |████████████████████████████████| 1.0MB 16.6MB/s \n",
            "\u001b[K    100% |████████████████████████████████| 51kB 19.3MB/s \n",
            "\u001b[K    100% |████████████████████████████████| 2.3MB 11.8MB/s \n",
            "\u001b[K    100% |████████████████████████████████| 61kB 24.1MB/s \n",
            "\u001b[K    100% |████████████████████████████████| 143kB 32.5MB/s \n",
            "\u001b[K    100% |████████████████████████████████| 51kB 17.7MB/s \n",
            "\u001b[K    100% |████████████████████████████████| 102kB 31.0MB/s \n",
            "\u001b[K    100% |████████████████████████████████| 7.5MB 4.6MB/s \n",
            "\u001b[K    100% |████████████████████████████████| 92kB 29.3MB/s \n",
            "\u001b[K    100% |████████████████████████████████| 204kB 31.7MB/s \n",
            "\u001b[?25h  Building wheel for flair (setup.py) ... \u001b[?25ldone\n",
            "\u001b[?25h  Building wheel for segtok (setup.py) ... \u001b[?25ldone\n",
            "\u001b[?25h  Building wheel for mpld3 (setup.py) ... \u001b[?25ldone\n",
            "\u001b[?25h  Building wheel for sqlitedict (setup.py) ... \u001b[?25ldone\n",
            "\u001b[?25h  Building wheel for overrides (setup.py) ... \u001b[?25ldone\n",
            "\u001b[?25h  Building wheel for parsimonious (setup.py) ... \u001b[?25ldone\n",
            "\u001b[?25h  Building wheel for jsonnet (setup.py) ... \u001b[?25ldone\n",
            "\u001b[?25h  Building wheel for numpydoc (setup.py) ... \u001b[?25ldone\n",
            "\u001b[?25h  Building wheel for jsondiff (setup.py) ... \u001b[?25ldone\n",
            "\u001b[31mfeaturetools 0.4.1 has requirement pandas>=0.23.0, but you'll have pandas 0.22.0 which is incompatible.\u001b[0m\n",
            "\u001b[31mfastai 1.0.46 has requirement numpy>=1.15, but you'll have numpy 1.14.6 which is incompatible.\u001b[0m\n",
            "\u001b[31mawscli 1.16.116 has requirement botocore==1.12.106, but you'll have botocore 1.12.103 which is incompatible.\u001b[0m\n",
            "\u001b[31mallennlp 0.8.2 has requirement matplotlib==2.2.3, but you'll have matplotlib 3.0.2 which is incompatible.\u001b[0m\n",
            "\u001b[?25h"
          ],
          "name": "stdout"
        }
      ]
    },
    {
      "metadata": {
        "id": "WeGiuPg07zwF",
        "colab_type": "code",
        "colab": {
          "base_uri": "https://localhost:8080/",
          "height": 34
        },
        "outputId": "fb7b11b4-124f-4e42-de45-23cda5e8971b"
      },
      "cell_type": "code",
      "source": [
        "##Using flair to load emlo small embeddinngs, which is in 768 dimensions\n",
        "from flair.embeddings import BertEmbeddings, ELMoEmbeddings\n",
        "from flair.data import Sentence\n",
        "\n",
        "\n",
        "# init embedding\n",
        "embedding = ELMoEmbeddings('small') #BertEmbeddings('bert-large-uncased')\n"
      ],
      "execution_count": 2,
      "outputs": [
        {
          "output_type": "stream",
          "text": [
            "Better speed can be achieved with apex installed from https://www.github.com/nvidia/apex.\n"
          ],
          "name": "stdout"
        }
      ]
    },
    {
      "metadata": {
        "id": "ytQwbLLuS20p",
        "colab_type": "code",
        "outputId": "00b7431e-b33b-4204-91d8-66a81bcedd8e",
        "colab": {
          "base_uri": "https://localhost:8080/",
          "height": 289
        }
      },
      "cell_type": "code",
      "source": [
        "##Load EEC Data\n",
        "!wget http://www.saifmohammad.com/WebDocs/EEC/Equity-Evaluation-Corpus.zip\n",
        "!unzip Equity-Evaluation-Corpus.zip\n",
        "##Load Packages\n",
        "import numpy as np\n",
        "import scipy, requests, codecs, os, re, nltk, itertools, csv\n",
        "from sklearn.metrics.pairwise import cosine_similarity\n",
        "from sklearn.cluster import AgglomerativeClustering, KMeans\n",
        "import tensorflow as tf\n",
        "from scipy.stats import spearmanr\n",
        "import pandas as pd\n",
        "import functools as ft\n",
        "import os\n",
        "import io\n",
        "nltk.download('punkt')\n",
        "\n",
        "##Read EEC\n",
        "EEC = pd.read_csv('/content/Equity-Evaluation-Corpus.csv', header=0)\n"
      ],
      "execution_count": 3,
      "outputs": [
        {
          "output_type": "stream",
          "text": [
            "--2019-03-02 13:37:42--  http://www.saifmohammad.com/WebDocs/EEC/Equity-Evaluation-Corpus.zip\n",
            "Resolving www.saifmohammad.com (www.saifmohammad.com)... 192.185.17.122\n",
            "Connecting to www.saifmohammad.com (www.saifmohammad.com)|192.185.17.122|:80... connected.\n",
            "HTTP request sent, awaiting response... 200 OK\n",
            "Length: 102568 (100K) [application/zip]\n",
            "Saving to: ‘Equity-Evaluation-Corpus.zip.1’\n",
            "\n",
            "\r          Equity-Ev   0%[                    ]       0  --.-KB/s               \rEquity-Evaluation-C 100%[===================>] 100.16K  --.-KB/s    in 0.1s    \n",
            "\n",
            "2019-03-02 13:37:42 (914 KB/s) - ‘Equity-Evaluation-Corpus.zip.1’ saved [102568/102568]\n",
            "\n",
            "Archive:  Equity-Evaluation-Corpus.zip\n",
            "replace Equity-Evaluation-Corpus.csv? [y]es, [n]o, [A]ll, [N]one, [r]ename: n\n",
            "replace README.txt? [y]es, [n]o, [A]ll, [N]one, [r]ename: n\n",
            "[nltk_data] Downloading package punkt to /root/nltk_data...\n",
            "[nltk_data]   Package punkt is already up-to-date!\n"
          ],
          "name": "stdout"
        }
      ]
    },
    {
      "metadata": {
        "id": "-2LrbWLOFlyM",
        "colab_type": "text"
      },
      "cell_type": "markdown",
      "source": [
        "# Racial Debiasing"
      ]
    },
    {
      "metadata": {
        "id": "PWKwRfpojGGn",
        "colab_type": "code",
        "colab": {}
      },
      "cell_type": "code",
      "source": [
        "##Load male names in the EEC paper\n",
        "word_list_MALE = ['Alonzo', 'Jamel', 'Alphonse', 'Jerome', 'Leroy', 'Torrance',\n",
        "       'Darnell', 'Lamar', 'Malik', 'Terrence', 'Adam', 'Harry', 'Josh',\n",
        "       'Roger', 'Alan', 'Frank', 'Justin', 'Ryan', 'Andrew', 'Jack']"
      ],
      "execution_count": 0,
      "outputs": []
    },
    {
      "metadata": {
        "id": "FOKybYElsBiT",
        "colab_type": "code",
        "colab": {
          "base_uri": "https://localhost:8080/",
          "height": 785
        },
        "outputId": "fe0e48b6-4270-47d8-a240-265131a2e4d2"
      },
      "cell_type": "code",
      "source": [
        "## Get racial names from web\n",
        "!wget https://gist.githubusercontent.com/mbejda/61eb488cec271086632d/raw/6340b8045b28c2abc0b1d44cfbc80f40284ef890/Black-Male-Names.csv\n",
        "!wget https://gist.githubusercontent.com/mbejda/6c2293ba3333b7e76269/raw/60aa0c95e8ee9b11b915a26f47480fef5c3203ed/White-Male-Names.csv\n",
        "!wget https://gist.githubusercontent.com/mbejda/26ad0574eda7fca78573/raw/6936d1a8f5fa5220f2f60a51a06a35b172c50f93/White-Female-Names.csv\n",
        "!wget https://gist.githubusercontent.com/mbejda/9dc89056005a689a6456/raw/bb6ef2375f1289d0ef10dbd8e9469670ac23ceab/Black-Female-Names.csv\n"
      ],
      "execution_count": 34,
      "outputs": [
        {
          "output_type": "stream",
          "text": [
            "--2019-03-02 14:12:49--  https://gist.githubusercontent.com/mbejda/61eb488cec271086632d/raw/6340b8045b28c2abc0b1d44cfbc80f40284ef890/Black-Male-Names.csv\n",
            "Resolving gist.githubusercontent.com (gist.githubusercontent.com)... 151.101.0.133, 151.101.64.133, 151.101.128.133, ...\n",
            "Connecting to gist.githubusercontent.com (gist.githubusercontent.com)|151.101.0.133|:443... connected.\n",
            "HTTP request sent, awaiting response... 200 OK\n",
            "Length: 921600 (900K) [text/plain]\n",
            "Saving to: ‘Black-Male-Names.csv’\n",
            "\n",
            "\rBlack-Male-Names.cs   0%[                    ]       0  --.-KB/s               \rBlack-Male-Names.cs 100%[===================>] 900.00K  --.-KB/s    in 0.07s   \n",
            "\n",
            "2019-03-02 14:12:49 (12.1 MB/s) - ‘Black-Male-Names.csv’ saved [921600/921600]\n",
            "\n",
            "--2019-03-02 14:12:50--  https://gist.githubusercontent.com/mbejda/6c2293ba3333b7e76269/raw/60aa0c95e8ee9b11b915a26f47480fef5c3203ed/White-Male-Names.csv\n",
            "Resolving gist.githubusercontent.com (gist.githubusercontent.com)... 151.101.0.133, 151.101.64.133, 151.101.128.133, ...\n",
            "Connecting to gist.githubusercontent.com (gist.githubusercontent.com)|151.101.0.133|:443... connected.\n",
            "HTTP request sent, awaiting response... 200 OK\n",
            "Length: 1149042 (1.1M) [text/plain]\n",
            "Saving to: ‘White-Male-Names.csv’\n",
            "\n",
            "White-Male-Names.cs 100%[===================>]   1.10M  --.-KB/s    in 0.07s   \n",
            "\n",
            "2019-03-02 14:12:52 (14.8 MB/s) - ‘White-Male-Names.csv’ saved [1149042/1149042]\n",
            "\n",
            "--2019-03-02 14:12:53--  https://gist.githubusercontent.com/mbejda/26ad0574eda7fca78573/raw/6936d1a8f5fa5220f2f60a51a06a35b172c50f93/White-Female-Names.csv\n",
            "Resolving gist.githubusercontent.com (gist.githubusercontent.com)... 151.101.0.133, 151.101.64.133, 151.101.128.133, ...\n",
            "Connecting to gist.githubusercontent.com (gist.githubusercontent.com)|151.101.0.133|:443... connected.\n",
            "HTTP request sent, awaiting response... 200 OK\n",
            "Length: 121903 (119K) [text/plain]\n",
            "Saving to: ‘White-Female-Names.csv’\n",
            "\n",
            "White-Female-Names. 100%[===================>] 119.05K  --.-KB/s    in 0.04s   \n",
            "\n",
            "2019-03-02 14:12:53 (3.18 MB/s) - ‘White-Female-Names.csv’ saved [121903/121903]\n",
            "\n",
            "--2019-03-02 14:12:54--  https://gist.githubusercontent.com/mbejda/9dc89056005a689a6456/raw/bb6ef2375f1289d0ef10dbd8e9469670ac23ceab/Black-Female-Names.csv\n",
            "Resolving gist.githubusercontent.com (gist.githubusercontent.com)... 151.101.0.133, 151.101.64.133, 151.101.128.133, ...\n",
            "Connecting to gist.githubusercontent.com (gist.githubusercontent.com)|151.101.0.133|:443... connected.\n",
            "HTTP request sent, awaiting response... 200 OK\n",
            "Length: 64757 (63K) [text/plain]\n",
            "Saving to: ‘Black-Female-Names.csv’\n",
            "\n",
            "Black-Female-Names. 100%[===================>]  63.24K  --.-KB/s    in 0.02s   \n",
            "\n",
            "2019-03-02 14:12:54 (2.52 MB/s) - ‘Black-Female-Names.csv’ saved [64757/64757]\n",
            "\n"
          ],
          "name": "stdout"
        }
      ]
    },
    {
      "metadata": {
        "id": "yGDDoL1eEp1E",
        "colab_type": "text"
      },
      "cell_type": "markdown",
      "source": [
        "# Load racial names from web"
      ]
    },
    {
      "metadata": {
        "id": "8nj1hiZgsWnA",
        "colab_type": "code",
        "colab": {}
      },
      "cell_type": "code",
      "source": [
        "## Load names from web, don't run it if using EEC names\n",
        "word_list_male =[]"
      ],
      "execution_count": 0,
      "outputs": []
    },
    {
      "metadata": {
        "id": "hDJlxKfLsTWC",
        "colab_type": "code",
        "colab": {}
      },
      "cell_type": "code",
      "source": [
        "f = open('/content/White-Male-Names.csv', 'r+')\n",
        "f.readline()\n",
        "i=0\n",
        "for line in f:\n",
        "  i +=1\n",
        "  word_list_male.append(line.rstrip().split(',')[1].split(' ')[1])\n",
        "  if i>4000:\n",
        "    break\n",
        "f.close()"
      ],
      "execution_count": 0,
      "outputs": []
    },
    {
      "metadata": {
        "id": "VObVssTvsUHZ",
        "colab_type": "code",
        "colab": {}
      },
      "cell_type": "code",
      "source": [
        "f = open('/content/Black-Male-Names.csv', 'r+')\n",
        "i=0\n",
        "f.readline()\n",
        "for line in f:\n",
        "  i+=1\n",
        "  word_list_male.append(line.rstrip().split(',')[1].split(' ')[1])\n",
        "  if i>4000:\n",
        "    break\n",
        "f.close()"
      ],
      "execution_count": 0,
      "outputs": []
    },
    {
      "metadata": {
        "id": "NErRXV1HsdYN",
        "colab_type": "code",
        "colab": {}
      },
      "cell_type": "code",
      "source": [
        "word_list_female = []\n",
        "f = open('/content/White-Female-Names.csv', 'r+')\n",
        "f.readline()\n",
        "for line in f:\n",
        "  word_list_female.append(line.rstrip().split(',')[1].split(' ')[1])\n",
        "f.close()"
      ],
      "execution_count": 0,
      "outputs": []
    },
    {
      "metadata": {
        "id": "EBJ8j6DRseMb",
        "colab_type": "code",
        "colab": {}
      },
      "cell_type": "code",
      "source": [
        "f = open('/content/Black-Female-Names.csv', 'r+')\n",
        "f.readline()\n",
        "for line in f:\n",
        "  word_list_female.append(line.rstrip().split(',')[1].split(' ')[1])\n",
        "f.close()"
      ],
      "execution_count": 0,
      "outputs": []
    },
    {
      "metadata": {
        "id": "xH2Dk0jlFGDG",
        "colab_type": "text"
      },
      "cell_type": "markdown",
      "source": [
        "# Get CN embeddings"
      ]
    },
    {
      "metadata": {
        "id": "6C0mIN5MftFN",
        "colab_type": "code",
        "colab": {}
      },
      "cell_type": "code",
      "source": [
        "from sklearn.decomposition import TruncatedSVD, randomized_svd\n",
        "from numpy.linalg import norm"
      ],
      "execution_count": 0,
      "outputs": []
    },
    {
      "metadata": {
        "id": "9sHTcgevTES5",
        "colab_type": "code",
        "outputId": "185d4e8d-0f4f-4a47-c3d1-015ba1dc62c2",
        "colab": {
          "base_uri": "https://localhost:8080/",
          "height": 51
        }
      },
      "cell_type": "code",
      "source": [
        "## Get brown_emb \n",
        "!gdown https://drive.google.com/uc?id=17TK2h3cz7amgm2mCY4QCYy1yh23ZFWDU\n",
        "!pip3 install -q pymagnitude\n",
        "from pymagnitude import *\n",
        "from pymagnitude import MagnitudeUtils\n",
        "import numpy as np\n",
        "import pickle\n",
        "with open('/content/elmo_embeddings_emma_brown.pkl', 'rb') as f:\n",
        "    elmo_data = pickle.load(f)\n",
        "elmo_data = elmo_data['brown_embs']\n",
        "\n",
        "## Get brown corpus\n",
        "import nltk\n",
        "nltk.download('brown')\n",
        "from nltk.corpus import brown\n",
        "brown_corpus = brown.sents()"
      ],
      "execution_count": 6,
      "outputs": [
        {
          "output_type": "stream",
          "text": [
            "[nltk_data] Downloading package brown to /root/nltk_data...\n",
            "[nltk_data]   Package brown is already up-to-date!\n"
          ],
          "name": "stdout"
        }
      ]
    },
    {
      "metadata": {
        "id": "7TPr6-HfTQiy",
        "colab_type": "code",
        "colab": {}
      },
      "cell_type": "code",
      "source": [
        "def pick_embeddings(corpus, sent_embs, word_list):\n",
        "    X = []\n",
        "    #labels = []\n",
        "    #sents = []\n",
        "    for i, s in enumerate(corpus):\n",
        "       # print(s)\n",
        "        for j, w in enumerate(s):\n",
        "            if w in word_list:\n",
        "                X.append(sent_embs[i][j])\n",
        "                #labels.append(w)\n",
        "                #sents.append(s)\n",
        "    return X\n"
      ],
      "execution_count": 0,
      "outputs": []
    },
    {
      "metadata": {
        "id": "6TvmF9FgTUsK",
        "colab_type": "code",
        "colab": {}
      },
      "cell_type": "code",
      "source": [
        "## Get elmo word embeddings of words(male names) to find conceptors\n",
        "X, labels, _ = pick_embeddings(brown_corpus, elmo_data, word_list_male)\n",
        "cn_embeddings = np.array(X)"
      ],
      "execution_count": 0,
      "outputs": []
    },
    {
      "metadata": {
        "id": "DgnvaqZpTdY9",
        "colab_type": "code",
        "colab": {}
      },
      "cell_type": "code",
      "source": [
        "## Since conceptors doesn't change in the loop, I calculated conceptor negation matrix beforehand to reduce runtime.\n",
        "alpha = 1\n",
        "R = (cn_embeddings.T).dot(cn_embeddings) / cn_embeddings.shape[0]   \n",
        "C = R @ np.linalg.inv (R + alpha ** (-2) * np.eye(768))# calculate the conceptor matrix\n",
        "negC = np.eye(768) - C"
      ],
      "execution_count": 0,
      "outputs": []
    },
    {
      "metadata": {
        "id": "HPX2O5nJFPWK",
        "colab_type": "text"
      },
      "cell_type": "markdown",
      "source": [
        "# Run experiment"
      ]
    },
    {
      "metadata": {
        "id": "8oDXuoVDZlLi",
        "colab_type": "code",
        "colab": {}
      },
      "cell_type": "code",
      "source": [
        "def run_raw(sen_emb, sent1, sent2):\n",
        "  \n",
        "  sentence1 = Sentence(sent1)\n",
        "  sentence2 = Sentence(sent2)\n",
        "  x = embedding.embed(sentence1) # get sentence embedding of sentence 1\n",
        "  se = torch.stack([token.embedding for token in sentence1])\n",
        "  sent1_emb = se.numpy()\n",
        "  x = embedding.embed(sentence2) # get sentence embedding of sentence 2\n",
        "  se = torch.stack([token.embedding for token in sentence2])\n",
        "  sent2_emb = se.numpy()\n",
        "  sent1_emb = np.average(sent1_emb, axis = 0) #average sentence1 embeddings\n",
        "  sent2_emb = np.average(sent2_emb, axis = 0) #average sentence2 embeddings\n",
        "  proj1 = (sent1_emb/norm(sent1_emb)).dot(sen_emb)/norm(sen_emb) #cosine similarity\n",
        "  proj2 = (sent2_emb/norm(sent2_emb)).dot(sen_emb)/norm(sen_emb)\n",
        "  return proj1, proj2"
      ],
      "execution_count": 0,
      "outputs": []
    },
    {
      "metadata": {
        "id": "hnBNClCHcT_A",
        "colab_type": "code",
        "colab": {}
      },
      "cell_type": "code",
      "source": [
        "def run_conceptor(sen_emb, sent1, sent2):\n",
        "  sentence1 = Sentence(sent1) \n",
        "  sentence2 = Sentence(sent2)\n",
        "  x = embedding.embed(sentence1) # get sentence embedding of sentence 1\n",
        "  se = torch.stack([token.embedding for token in sentence1])\n",
        "  sent1_emb = se.numpy()\n",
        "  x = embedding.embed(sentence2) # get sentence embedding of sentence 2\n",
        "  se = torch.stack([token.embedding for token in sentence2])\n",
        "  sent2_emb = se.numpy()\n",
        "  sent1_emb = np.average(sent1_emb, axis = 0) #average sentence1 embeddings\n",
        "  sent2_emb = np.average(sent2_emb, axis = 0) #average sentence2 embeddings\n",
        "  sent1_emb = negC.dot(sent1_emb.T).T  # CN sentence embeddings\n",
        "  sent2_emb = negC.dot(sent2_emb.T).T\n",
        "  sen_emb =  negC.dot(sen_emb.T).T\n",
        "  proj1 = (sent1_emb/norm(sent1_emb)).dot(sen_emb)/norm(sen_emb) #cosine similarity\n",
        "  proj2 = (sent2_emb/norm(sent2_emb)).dot(sen_emb)/norm(sen_emb)\n",
        "  return proj1, proj2"
      ],
      "execution_count": 0,
      "outputs": []
    },
    {
      "metadata": {
        "id": "iJFAY9VHTfD3",
        "colab_type": "code",
        "outputId": "de47d8c6-e786-4b8b-c5e1-fa7409e18a66",
        "colab": {
          "base_uri": "https://localhost:8080/",
          "height": 85
        }
      },
      "cell_type": "code",
      "source": [
        "# Get male sentences results\n",
        "p= []\n",
        "for sen in ['anger','fear','joy', 'sadness']:\n",
        "  aa = []\n",
        "  ea = []\n",
        "  aa_cn = []\n",
        "  ea_cn = []\n",
        "  sent_sent = []\n",
        "  sent_aa = []\n",
        "  sent_ea = []\n",
        "  sent_sent = EEC[EEC['Emotion']==sen] # get sentence of certain sentiment\n",
        "  sent_aa = sent_sent[(sent_sent['Race']=='African-American') &(sent_sent['Gender']=='male')] #get AA male sentences\n",
        "  sent_ea = sent_sent[(sent_sent['Race']=='European')&(sent_sent['Gender']=='male') ] #get EA male sentences\n",
        "  sen_emb  = pick_embeddings(brown_corpus, elmo_data, str(sen)) # get certain sentiment embedding\n",
        "  sen_emb = np.average(sen_emb, axis = 0)\n",
        "  print(len(sent_ea))\n",
        "  for sen1, sen2 in zip(sent_aa['Sentence'], sent_ea['Sentence']):\n",
        "    \n",
        "    score1, score2 = run_raw(sen_emb, sen1, sen2) #projection score on raw data\n",
        "    score3, score4 = run_conceptor(sen_emb, sen1, sen2) # projection score on CN\n",
        "    aa.append(score1) # raw score for african american\n",
        "    ea.append(score2) # raw score for european american\n",
        "    aa_cn.append(score3) # CN score for african american\n",
        "    ea_cn.append(score4) # CN score for european american\n",
        "  #paired t-test for raw data\n",
        "  p1 = scipy.stats.ttest_rel(aa, ea)\n",
        "  #paired t-test for CN data\n",
        "  p2 = scipy.stats.ttest_rel(aa_cn, ea_cn)\n",
        "  p.append([p1.statistic, p1.pvalue, p2.statistic, p2.pvalue])\n"
      ],
      "execution_count": 45,
      "outputs": [
        {
          "output_type": "stream",
          "text": [
            "350\n",
            "350\n",
            "350\n",
            "350\n"
          ],
          "name": "stdout"
        }
      ]
    },
    {
      "metadata": {
        "id": "Bicd-aY9i1Ya",
        "colab_type": "code",
        "outputId": "5ff712a9-1c29-4a2b-a15e-a3ec7a367d73",
        "colab": {
          "base_uri": "https://localhost:8080/",
          "height": 119
        }
      },
      "cell_type": "code",
      "source": [
        "print('RAW vs CN data using ELMO, racial debiasing, male')\n",
        "p = pd.DataFrame(p, index=['anger','fear','joy','sadness'], columns= ['raw_t_statistic', 'raw_p_value', 'cn_t_statistic', 'cn_p_value'])\n",
        "print(p)\n"
      ],
      "execution_count": 50,
      "outputs": [
        {
          "output_type": "stream",
          "text": [
            "RAW vs CN data using ELMO, male 4k names\n",
            "         raw_t_statistic   raw_p_value  cn_t_statistic    cn_p_value\n",
            "anger          -6.900955  2.442959e-11       -2.499675  1.288927e-02\n",
            "fear           -4.780334  2.583952e-06        0.745871  4.562475e-01\n",
            "joy            -9.062251  9.333792e-18      -11.695337  6.942281e-27\n",
            "sadness        -4.793218  2.432981e-06       -1.676787  9.447953e-02\n"
          ],
          "name": "stdout"
        }
      ]
    },
    {
      "metadata": {
        "id": "YBuGsC8cpE5s",
        "colab_type": "code",
        "colab": {}
      },
      "cell_type": "code",
      "source": [
        "# Load female names in EEC paper, don't run it if using web names\n",
        "word_list_female= ['Nichelle',\n",
        "       'Shereen', 'Ebony', 'Latisha', 'Shaniqua', 'Jasmine', 'Tanisha',\n",
        "       'Tia', 'Lakisha', 'Latoya', 'Amanda', 'Courtney', 'Heather',\n",
        "       'Melanie', 'Katie', 'Betsy', 'Kristin', 'Nancy', 'Stephanie',\n",
        "       'Ellen']"
      ],
      "execution_count": 0,
      "outputs": []
    },
    {
      "metadata": {
        "id": "nKttGZpzss9Y",
        "colab_type": "code",
        "colab": {}
      },
      "cell_type": "code",
      "source": [
        "## Get elmo word embeddings of words(female names) to find conceptors\n",
        "X = pick_embeddings(brown_corpus, elmo_data,word_list_female)\n",
        "cn_embeddings = np.array(X)"
      ],
      "execution_count": 0,
      "outputs": []
    },
    {
      "metadata": {
        "id": "cJtJGugBs_iC",
        "colab_type": "code",
        "colab": {}
      },
      "cell_type": "code",
      "source": [
        "alpha = 1\n",
        "R = (cn_embeddings.T).dot(cn_embeddings) / cn_embeddings.shape[0]   \n",
        "C = R @ np.linalg.inv (R + alpha ** (-2) * np.eye(768))# calculate the conceptor matrix\n",
        "negC = np.eye(768) - C"
      ],
      "execution_count": 0,
      "outputs": []
    },
    {
      "metadata": {
        "id": "p8lE6ooKqZuu",
        "colab_type": "code",
        "colab": {
          "base_uri": "https://localhost:8080/",
          "height": 85
        },
        "outputId": "62858fe1-f439-451e-9021-d5f9bd333899"
      },
      "cell_type": "code",
      "source": [
        "## Get female sentences result\n",
        "p= []\n",
        "for sen in ['anger','fear','joy', 'sadness']:\n",
        "  aa = []\n",
        "  ea = []\n",
        "  aa_cn = []\n",
        "  ea_cn = []\n",
        "  sent_sent = []\n",
        "  sent_aa = []\n",
        "  sent_ea = []\n",
        "  sent_sent = EEC[EEC['Emotion']==sen] # get sentence of certain sentiment\n",
        "  sent_aa = sent_sent[(sent_sent['Race']=='African-American') &(sent_sent['Gender']=='female')] #get AA female sentences\n",
        "  sent_ea = sent_sent[(sent_sent['Race']=='European')&(sent_sent['Gender']=='female') ] #get EA female sentences\n",
        "  sen_emb  = pick_embeddings(brown_corpus, elmo_data, str(sen)) # get certain sentiment embedding\n",
        "  sen_emb = np.average(sen_emb, axis = 0)\n",
        "  print(len(sent_ea))\n",
        "  for sen1, sen2 in zip(sent_aa['Sentence'], sent_ea['Sentence']):\n",
        "    \n",
        "    score1, score2 = run_raw(sen_emb, sen1, sen2) #projection score on raw data\n",
        "    score3, score4 = run_conceptor(sen_emb, sen1, sen2) # projection score on CN\n",
        "    aa.append(score1) # raw score for african american\n",
        "    ea.append(score2) # raw score for european american\n",
        "    aa_cn.append(score3) # CN score for african american\n",
        "    ea_cn.append(score4) # CN score for european american\n",
        "  #paired t-test for raw data\n",
        "  p1 = scipy.stats.ttest_rel(aa, ea)\n",
        "  #paired t-test for CN data\n",
        "  p2 = scipy.stats.ttest_rel(aa_cn, ea_cn)\n",
        "  p.append([p1.statistic, p1.pvalue, p2.statistic, p2.pvalue])\n"
      ],
      "execution_count": 63,
      "outputs": [
        {
          "output_type": "stream",
          "text": [
            "350\n",
            "350\n",
            "350\n",
            "350\n"
          ],
          "name": "stdout"
        }
      ]
    },
    {
      "metadata": {
        "id": "Td_TcXoH0mL3",
        "colab_type": "code",
        "colab": {
          "base_uri": "https://localhost:8080/",
          "height": 34
        },
        "outputId": "d7ff830a-a2fb-4e21-a887-378d445ce8b7"
      },
      "cell_type": "code",
      "source": [
        "len(word_list_female)"
      ],
      "execution_count": 64,
      "outputs": [
        {
          "output_type": "execute_result",
          "data": {
            "text/plain": [
              "7038"
            ]
          },
          "metadata": {
            "tags": []
          },
          "execution_count": 64
        }
      ]
    },
    {
      "metadata": {
        "id": "LNxgySvQuaoM",
        "colab_type": "code",
        "colab": {
          "base_uri": "https://localhost:8080/",
          "height": 119
        },
        "outputId": "93476c35-5121-4316-d949-9f09832875fd"
      },
      "cell_type": "code",
      "source": [
        "print('RAW vs CN data using ELMO, female names from EEC, alpha = 1')\n",
        "p = pd.DataFrame(p, index=['anger','fear','joy','sadness'], columns= ['raw_t_statistic', 'raw_p_value', 'cn_t_statistic', 'cn_p_value'])\n",
        "print(p)\n"
      ],
      "execution_count": 65,
      "outputs": [
        {
          "output_type": "stream",
          "text": [
            "RAW vs CN data using ELMO, female 4k names, alpha = 1\n",
            "         raw_t_statistic  raw_p_value  cn_t_statistic  cn_p_value\n",
            "anger          -1.533890     0.125963       -4.638600    0.000005\n",
            "fear           -1.382389     0.167736       -3.946651    0.000096\n",
            "joy             0.668063     0.504535       -0.476559    0.633974\n",
            "sadness        -1.684075     0.093061       -4.225553    0.000030\n"
          ],
          "name": "stdout"
        }
      ]
    },
    {
      "metadata": {
        "id": "pWkmPThgFhDR",
        "colab_type": "text"
      },
      "cell_type": "markdown",
      "source": [
        "# Gender Debiasing"
      ]
    },
    {
      "metadata": {
        "id": "hnPTDeF_1akf",
        "colab_type": "text"
      },
      "cell_type": "markdown",
      "source": [
        "# Load gender names"
      ]
    },
    {
      "metadata": {
        "id": "Oqvd8bYMD1X4",
        "colab_type": "text"
      },
      "cell_type": "markdown",
      "source": [
        "# Using names from web"
      ]
    },
    {
      "metadata": {
        "id": "NPibfVaK1hut",
        "colab_type": "code",
        "colab": {
          "base_uri": "https://localhost:8080/",
          "height": 391
        },
        "outputId": "297e0afd-f93d-40fa-fcd4-16237bb9151d"
      },
      "cell_type": "code",
      "source": [
        "## Get large gender name lists from web, don't run it if using names only in EEC paper\n",
        "!wget https://www.cs.cmu.edu/Groups/AI/areas/nlp/corpora/names/male.txt\n",
        "!wget https://www.cs.cmu.edu/Groups/AI/areas/nlp/corpora/names/female.txt"
      ],
      "execution_count": 66,
      "outputs": [
        {
          "output_type": "stream",
          "text": [
            "--2019-03-02 14:41:11--  https://www.cs.cmu.edu/Groups/AI/areas/nlp/corpora/names/male.txt\n",
            "Resolving www.cs.cmu.edu (www.cs.cmu.edu)... 128.2.42.95\n",
            "Connecting to www.cs.cmu.edu (www.cs.cmu.edu)|128.2.42.95|:443... connected.\n",
            "HTTP request sent, awaiting response... 200 OK\n",
            "Length: 20466 (20K) [text/plain]\n",
            "Saving to: ‘male.txt’\n",
            "\n",
            "\rmale.txt              0%[                    ]       0  --.-KB/s               \rmale.txt            100%[===================>]  19.99K  --.-KB/s    in 0.04s   \n",
            "\n",
            "2019-03-02 14:41:12 (556 KB/s) - ‘male.txt’ saved [20466/20466]\n",
            "\n",
            "--2019-03-02 14:41:13--  https://www.cs.cmu.edu/Groups/AI/areas/nlp/corpora/names/female.txt\n",
            "Resolving www.cs.cmu.edu (www.cs.cmu.edu)... 128.2.42.95\n",
            "Connecting to www.cs.cmu.edu (www.cs.cmu.edu)|128.2.42.95|:443... connected.\n",
            "HTTP request sent, awaiting response... 200 OK\n",
            "Length: 35751 (35K) [text/plain]\n",
            "Saving to: ‘female.txt’\n",
            "\n",
            "female.txt          100%[===================>]  34.91K  --.-KB/s    in 0.04s   \n",
            "\n",
            "2019-03-02 14:41:13 (964 KB/s) - ‘female.txt’ saved [35751/35751]\n",
            "\n"
          ],
          "name": "stdout"
        }
      ]
    },
    {
      "metadata": {
        "id": "hZsIuAoc1lB3",
        "colab_type": "code",
        "colab": {}
      },
      "cell_type": "code",
      "source": [
        "f = open('/content/male.txt', 'r+')\n",
        "i = 0\n",
        "word_list_gender= []\n",
        "for line in f:\n",
        "  i+=1\n",
        "  if i < 7:\n",
        "    continue\n",
        "  token = line.split()\n",
        "  word_list_gender.append(token[0])\n",
        "f.close()\n",
        "#load names from larger name dataset\n",
        "f = open('/content/female.txt', 'r+')\n",
        "i = 0\n",
        "for line in f:\n",
        "  i+=1\n",
        "  if i < 7:\n",
        "    continue\n",
        "  token = line.split()\n",
        "  word_list_gender.append(token[0])\n",
        "f.close()"
      ],
      "execution_count": 0,
      "outputs": []
    },
    {
      "metadata": {
        "id": "Z0wnFRFn3EE1",
        "colab_type": "code",
        "colab": {
          "base_uri": "https://localhost:8080/",
          "height": 34
        },
        "outputId": "02fc0f59-8815-4863-cf78-5552d6621b8e"
      },
      "cell_type": "code",
      "source": [
        "len(word_list_gender)"
      ],
      "execution_count": 76,
      "outputs": [
        {
          "output_type": "execute_result",
          "data": {
            "text/plain": [
              "7944"
            ]
          },
          "metadata": {
            "tags": []
          },
          "execution_count": 76
        }
      ]
    },
    {
      "metadata": {
        "id": "2-hMLLEh1vXS",
        "colab_type": "code",
        "colab": {}
      },
      "cell_type": "code",
      "source": [
        "X = pick_embeddings(brown_corpus, elmo_data,word_list_gender)\n",
        "cn_embeddings = np.array(X)\n",
        "alpha = 1\n",
        "R = (cn_embeddings.T).dot(cn_embeddings) / cn_embeddings.shape[0]   \n",
        "C = R @ np.linalg.inv (R + alpha ** (-2) * np.eye(768))# calculate the conceptor matrix\n",
        "negC = np.eye(768) - C"
      ],
      "execution_count": 0,
      "outputs": []
    },
    {
      "metadata": {
        "id": "Bryhg2M5154P",
        "colab_type": "code",
        "colab": {}
      },
      "cell_type": "code",
      "source": [
        "## Get female sentences result\n",
        "p= []\n",
        "for sen in ['anger','fear','joy', 'sadness']:\n",
        "  ma = []\n",
        "  fe = []\n",
        "  ma_cn = []\n",
        "  fe_cn = []\n",
        "  sent_sent = EEC[EEC['Emotion']==sen] # get sentence of certain sentiment\n",
        "  sent_ma = sent_sent[(sent_sent['Gender']=='male')] #get male sentences\n",
        "  sent_fe = sent_sent[(sent_sent['Gender']=='female') ] #get female sentences\n",
        "  sen_emb  = pick_embeddings(brown_corpus, elmo_data, str(sen)) # get certain sentiment embedding\n",
        "  sen_emb = np.average(sen_emb, axis = 0)\n",
        "  for sen1, sen2 in zip(sent_ma['Sentence'], sent_fe['Sentence']):\n",
        "    \n",
        "    score1, score2 = run_raw(sen_emb, sen1, sen2) #projection score on raw data\n",
        "    score3, score4 = run_conceptor(sen_emb, sen1, sen2) # projection score on CN\n",
        "    ma.append(score1) # raw score for male \n",
        "    fe.append(score2) # raw score for female\n",
        "    ma_cn.append(score3) # CN score for male\n",
        "    fe_cn.append(score4) # CN score for female\n",
        "  #paired t-test for raw data\n",
        "  p1 = scipy.stats.ttest_rel(ma, fe)\n",
        "  #paired t-test for CN data\n",
        "  p2 = scipy.stats.ttest_rel(ma_cn, fe_cn)\n",
        "  p.append([p1.statistic, p1.pvalue, p2.statistic, p2.pvalue])\n"
      ],
      "execution_count": 0,
      "outputs": []
    },
    {
      "metadata": {
        "id": "E-za-uQo7nk6",
        "colab_type": "code",
        "colab": {
          "base_uri": "https://localhost:8080/",
          "height": 119
        },
        "outputId": "00e26350-57be-4f78-8fc7-bbf14c9b57f9"
      },
      "cell_type": "code",
      "source": [
        "print('Gender Debiasing, RAW vs CN data using ELMO, using 8k gender names, alpha = 1')\n",
        "p = pd.DataFrame(p, index=['anger','fear','joy','sadness'], columns= ['raw_t_statistic', 'raw_p_value', 'cn_t_statistic', 'cn_p_value'])\n",
        "print(p)\n"
      ],
      "execution_count": 75,
      "outputs": [
        {
          "output_type": "stream",
          "text": [
            "Gender Debiasing, RAW vs CN data using ELMO, alpha = 1\n",
            "         raw_t_statistic   raw_p_value  cn_t_statistic    cn_p_value\n",
            "anger           2.546938  1.100916e-02       -8.666059  1.670581e-17\n",
            "fear           -0.861152  3.893512e-01       -8.668266  1.640657e-17\n",
            "joy            -7.560719  8.726220e-14        9.273436  9.974654e-20\n",
            "sadness        -0.986186  3.242694e-01       -8.847929  3.716502e-18\n"
          ],
          "name": "stdout"
        }
      ]
    },
    {
      "metadata": {
        "id": "HSLU1hPU8OAq",
        "colab_type": "code",
        "colab": {
          "base_uri": "https://localhost:8080/",
          "height": 204
        },
        "outputId": "47f6bc3a-900d-4616-f93e-ba9980dd0a17"
      },
      "cell_type": "code",
      "source": [
        "EEC['Person'].unique()"
      ],
      "execution_count": 77,
      "outputs": [
        {
          "output_type": "execute_result",
          "data": {
            "text/plain": [
              "array(['Alonzo', 'Jamel', 'Alphonse', 'Jerome', 'Leroy', 'Torrance',\n",
              "       'Darnell', 'Lamar', 'Malik', 'Terrence', 'Adam', 'Harry', 'Josh',\n",
              "       'Roger', 'Alan', 'Frank', 'Justin', 'Ryan', 'Andrew', 'Jack', 'he',\n",
              "       'this man', 'this boy', 'my brother', 'my son', 'my husband',\n",
              "       'my boyfriend', 'my father', 'my uncle', 'my dad', 'Nichelle',\n",
              "       'Shereen', 'Ebony', 'Latisha', 'Shaniqua', 'Jasmine', 'Tanisha',\n",
              "       'Tia', 'Lakisha', 'Latoya', 'Amanda', 'Courtney', 'Heather',\n",
              "       'Melanie', 'Katie', 'Betsy', 'Kristin', 'Nancy', 'Stephanie',\n",
              "       'Ellen', 'she', 'this woman', 'this girl', 'my sister',\n",
              "       'my daughter', 'my wife', 'my girlfriend', 'my mother', 'my aunt',\n",
              "       'my mom', 'him', 'her'], dtype=object)"
            ]
          },
          "metadata": {
            "tags": []
          },
          "execution_count": 77
        }
      ]
    },
    {
      "metadata": {
        "id": "5tyE1BNHDxcE",
        "colab_type": "text"
      },
      "cell_type": "markdown",
      "source": [
        "# Using names in paper"
      ]
    },
    {
      "metadata": {
        "id": "71xFsdnk8mNK",
        "colab_type": "code",
        "colab": {}
      },
      "cell_type": "code",
      "source": [
        "# Names in EEC paper\n",
        "word_list_gender = EEC['Person'].unique()"
      ],
      "execution_count": 0,
      "outputs": []
    },
    {
      "metadata": {
        "id": "QYM4GyggBckY",
        "colab_type": "code",
        "colab": {
          "base_uri": "https://localhost:8080/",
          "height": 34
        },
        "outputId": "4bcd0b8b-0c19-4b89-8e6c-d4128f77b086"
      },
      "cell_type": "code",
      "source": [
        "len(word_list_gender)"
      ],
      "execution_count": 84,
      "outputs": [
        {
          "output_type": "execute_result",
          "data": {
            "text/plain": [
              "62"
            ]
          },
          "metadata": {
            "tags": []
          },
          "execution_count": 84
        }
      ]
    },
    {
      "metadata": {
        "id": "Sn5iVV5I8z95",
        "colab_type": "code",
        "colab": {}
      },
      "cell_type": "code",
      "source": [
        "X = pick_embeddings(brown_corpus, elmo_data,word_list_gender)\n",
        "cn_embeddings = np.array(X)\n",
        "alpha = 1\n",
        "R = (cn_embeddings.T).dot(cn_embeddings) / cn_embeddings.shape[0]   \n",
        "C = R @ np.linalg.inv (R + alpha ** (-2) * np.eye(768))# calculate the conceptor matrix\n",
        "negC = np.eye(768) - C"
      ],
      "execution_count": 0,
      "outputs": []
    },
    {
      "metadata": {
        "id": "BLk8Ln_v9DOS",
        "colab_type": "code",
        "colab": {}
      },
      "cell_type": "code",
      "source": [
        "## Get female sentences result\n",
        "p= []\n",
        "for sen in ['anger','fear','joy', 'sadness']:\n",
        "  ma = []\n",
        "  fe = []\n",
        "  ma_cn = []\n",
        "  fe_cn = []\n",
        "  sent_sent = EEC[EEC['Emotion']==sen] # get sentence of certain sentiment\n",
        "  sent_ma = sent_sent[(sent_sent['Gender']=='male')] #get male sentences\n",
        "  sent_fe = sent_sent[(sent_sent['Gender']=='female') ] #get female sentences\n",
        "  sen_emb  = pick_embeddings(brown_corpus, elmo_data, str(sen)) # get certain sentiment embedding\n",
        "  sen_emb = np.average(sen_emb, axis = 0)\n",
        "  for sen1, sen2 in zip(sent_ma['Sentence'], sent_fe['Sentence']):\n",
        "    \n",
        "    score1, score2 = run_raw(sen_emb, sen1, sen2) #projection score on raw data\n",
        "    score3, score4 = run_conceptor(sen_emb, sen1, sen2) # projection score on CN\n",
        "    ma.append(score1) # raw score for male\n",
        "    fe.append(score2) # raw score for female\n",
        "    ma_cn.append(score3) # CN score for male\n",
        "    fe_cn.append(score4) # CN score for female\n",
        "  #paired t-test for raw data\n",
        "  p1 = scipy.stats.ttest_rel(ma, fe)\n",
        "  #paired t-test for CN data\n",
        "  p2 = scipy.stats.ttest_rel(ma_cn, fe_cn)\n",
        "  p.append([p1.statistic, p1.pvalue, p2.statistic, p2.pvalue])\n"
      ],
      "execution_count": 0,
      "outputs": []
    },
    {
      "metadata": {
        "id": "D0R2u2NQA3rn",
        "colab_type": "code",
        "colab": {
          "base_uri": "https://localhost:8080/",
          "height": 119
        },
        "outputId": "62cd9b8b-9fe1-4a26-f62b-94d927bf0e82"
      },
      "cell_type": "code",
      "source": [
        "print('Gender Debiasing, RAW vs CN data using ELMO, using 62 gender names and pronouns in EEC, alpha = 1')\n",
        "p = pd.DataFrame(p, index=['anger','fear','joy','sadness'], columns= ['raw_t_statistic', 'raw_p_value', 'cn_t_statistic', 'cn_p_value'])\n",
        "print(p)"
      ],
      "execution_count": 85,
      "outputs": [
        {
          "output_type": "stream",
          "text": [
            "Gender Debiasing, RAW vs CN data using ELMO, using 62 gender names and pronouns in EEC, alpha = 1\n",
            "         raw_t_statistic   raw_p_value  cn_t_statistic    cn_p_value\n",
            "anger           2.546525  1.102211e-02       -6.406934  2.238115e-10\n",
            "fear           -0.861154  3.893501e-01       -8.237407  5.199210e-16\n",
            "joy            -7.560718  8.726258e-14       -6.488792  1.331473e-10\n",
            "sadness        -0.986187  3.242686e-01       -8.491553  6.893384e-17\n"
          ],
          "name": "stdout"
        }
      ]
    }
  ]
}