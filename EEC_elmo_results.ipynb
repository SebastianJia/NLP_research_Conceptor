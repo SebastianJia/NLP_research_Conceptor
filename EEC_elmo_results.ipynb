{
  "nbformat": 4,
  "nbformat_minor": 0,
  "metadata": {
    "colab": {
      "name": "EEC_elmo_results.ipynb",
      "version": "0.3.2",
      "provenance": [],
      "collapsed_sections": [],
      "include_colab_link": true
    },
    "kernelspec": {
      "name": "python3",
      "display_name": "Python 3"
    }
  },
  "cells": [
    {
      "cell_type": "markdown",
      "metadata": {
        "id": "view-in-github",
        "colab_type": "text"
      },
      "source": [
        "<a href=\"https://colab.research.google.com/github/SebastianJia/nlp_research_conceptor/blob/master/EEC_elmo_results.ipynb\" target=\"_parent\"><img src=\"https://colab.research.google.com/assets/colab-badge.svg\" alt=\"Open In Colab\"/></a>"
      ]
    },
    {
      "metadata": {
        "id": "4wlukDN_-5XU",
        "colab_type": "code",
        "colab": {}
      },
      "cell_type": "code",
      "source": [
        "import numpy as np\n",
        "import torch\n",
        "t = np.transpose\n",
        "import matplotlib.pyplot as plt\n",
        "%matplotlib inline"
      ],
      "execution_count": 0,
      "outputs": []
    },
    {
      "metadata": {
        "id": "6kH_k0zp7wid",
        "colab_type": "code",
        "colab": {}
      },
      "cell_type": "code",
      "source": [
        "##Install flair\n",
        "\n",
        "!pip install -q flair allennlp"
      ],
      "execution_count": 0,
      "outputs": []
    },
    {
      "metadata": {
        "id": "WeGiuPg07zwF",
        "colab_type": "code",
        "outputId": "690844db-21d2-4f3c-a032-55428eda282c",
        "colab": {
          "base_uri": "https://localhost:8080/",
          "height": 34
        }
      },
      "cell_type": "code",
      "source": [
        "##Using flair to load emlo small embeddinngs, which is in 768 dimensions\n",
        "from flair.embeddings import BertEmbeddings, ELMoEmbeddings\n",
        "from flair.data import Sentence\n",
        "\n",
        "\n",
        "# init embedding\n",
        "embedding = ELMoEmbeddings('small') #BertEmbeddings('bert-large-uncased')\n"
      ],
      "execution_count": 0,
      "outputs": [
        {
          "output_type": "stream",
          "text": [
            "Better speed can be achieved with apex installed from https://www.github.com/nvidia/apex.\n"
          ],
          "name": "stdout"
        }
      ]
    },
    {
      "metadata": {
        "id": "ytQwbLLuS20p",
        "colab_type": "code",
        "outputId": "9ab68689-6ffc-4f31-edfb-8ecace9d8761",
        "colab": {
          "base_uri": "https://localhost:8080/",
          "height": 51
        }
      },
      "cell_type": "code",
      "source": [
        "##Load EEC Data\n",
        "!wget http://www.saifmohammad.com/WebDocs/EEC/Equity-Evaluation-Corpus.zip\n",
        "!unzip Equity-Evaluation-Corpus.zip\n",
        "##Load Packages\n",
        "import numpy as np\n",
        "import scipy, requests, codecs, os, re, nltk, itertools, csv\n",
        "from sklearn.metrics.pairwise import cosine_similarity\n",
        "from sklearn.cluster import AgglomerativeClustering, KMeans\n",
        "import tensorflow as tf\n",
        "from scipy.stats import spearmanr\n",
        "import pandas as pd\n",
        "import functools as ft\n",
        "import os\n",
        "import io\n",
        "nltk.download('punkt')\n",
        "\n",
        "##Read EEC\n",
        "EEC = pd.read_csv('/content/Equity-Evaluation-Corpus.csv', header=0)\n"
      ],
      "execution_count": 0,
      "outputs": [
        {
          "output_type": "stream",
          "text": [
            "[nltk_data] Downloading package punkt to /root/nltk_data...\n",
            "[nltk_data]   Package punkt is already up-to-date!\n"
          ],
          "name": "stdout"
        }
      ]
    },
    {
      "metadata": {
        "id": "asGSO5rlBHfF",
        "colab_type": "code",
        "outputId": "6c8ff481-941f-44cd-d41f-7c458edb5ddb",
        "colab": {
          "base_uri": "https://localhost:8080/",
          "height": 85
        }
      },
      "cell_type": "code",
      "source": [
        "!gdown https://drive.google.com/uc?id=1JyRVLZb7IdiMGGwPfXuA1f-CmCvxHDXx"
      ],
      "execution_count": 0,
      "outputs": [
        {
          "output_type": "stream",
          "text": [
            "Downloading...\n",
            "From: https://drive.google.com/uc?id=1JyRVLZb7IdiMGGwPfXuA1f-CmCvxHDXx\n",
            "To: /content/bert_conceptors.tar.bz2\n",
            "656MB [00:06, 95.7MB/s]\n"
          ],
          "name": "stdout"
        }
      ]
    },
    {
      "metadata": {
        "id": "0mROFJ1SGRot",
        "colab_type": "code",
        "outputId": "246193b0-9f7f-4544-8918-577fe635b1ad",
        "colab": {
          "base_uri": "https://localhost:8080/",
          "height": 1003
        }
      },
      "cell_type": "code",
      "source": [
        "!tar xvjf /content/bert_conceptors.tar.bz2"
      ],
      "execution_count": 0,
      "outputs": [
        {
          "output_type": "stream",
          "text": [
            "bert/\n",
            "bert/bert_WEFAT_1_Male_attributes.pkl\n",
            "bert/big_bert_gender_list_propernouns.pkl\n",
            "bert/bert_W_5_African_American_names.pkl\n",
            "bert/bert_W_2_Weapons.pkl\n",
            "bert/bert_W_1_Pleasant.pkl\n",
            "bert/bert_W_5_European_American_names.pkl\n",
            "bert/bert_W_5_Unpleasant.pkl\n",
            "bert/bert_W_6_Male_names.pkl\n",
            "bert/big_bert_gender_list_all.pkl\n",
            "bert/bert_W_10_Pleasant.pkl\n",
            "bert/bert_W_1_Insects.pkl\n",
            "bert/bert_W_5_Unused_full_list_European_American_names.pkl\n",
            "bert/bert_W_10_Young_peoples_names.pkl\n",
            "bert/bert_W_6_Female_names.pkl\n",
            "bert/bert_W_9_Physical_disease.pkl\n",
            "bert/bert_W_7_Female_terms.pkl\n",
            "bert/big_bert_gender_list_pronouns.pkl\n",
            "bert/bert_W_3_Unused_full_list_European_American_names.pkl\n",
            "bert/bert_W_4_Unused_full_list_African_American_names.pkl\n",
            "bert/bert_W_8_Male_terms.pkl\n",
            "bert/bert_WEFAT_2_Androgynous_Names.pkl\n",
            "bert/bert_WEFAT_1_Careers.pkl\n",
            "bert/bert_W_9_Temporary.pkl\n",
            "bert/bert_W_2_Unpleasant.pkl\n",
            "bert/bert_WEFAT_1_Female_attributes.pkl\n",
            "bert/bert_W_2_Instruments.pkl\n",
            "bert/bert_W_7_Male_terms.pkl\n",
            "bert/bert_W_3_Unpleasant.pkl\n",
            "bert/bert_W_7_Math.pkl\n",
            "bert/bert_WEFAT_2_Male_attributes.pkl\n",
            "bert/bert_W_4_European_American_names.pkl\n",
            "bert/bert_W_1_Unpleasant.pkl\n",
            "bert/bert_W_5_Pleasant.pkl\n",
            "bert/bert_W_4_Unpleasant.pkl\n",
            "bert/bert_W_8_Arts.pkl\n",
            "bert/bert_W_4_African_American_names.pkl\n",
            "bert/bert_W_1_Flowers.pkl\n",
            "bert/bert_W_8_Female_terms.pkl\n",
            "bert/bert_W_6_Family.pkl\n",
            "bert/bert_W_3_European_American_names.pkl\n",
            "bert/bert_W_3_Pleasant.pkl\n",
            "bert/bert_WEFAT_2_Female_attributes.pkl\n",
            "bert/bert_W_3_Unused_full_list_African_American_names.pkl\n",
            "bert/bert_W_9_Permanent.pkl\n",
            "bert/bert_W_10_Old_peoples_names.pkl\n",
            "bert/bert_W_4_Unused_full_list_European_American_names.pkl\n",
            "bert/bert_W_9_Mental_disease.pkl\n",
            "bert/big_bert_gender_list_extended.pkl\n",
            "bert/bert_W_5_Unused_full_list_African_American_names.pkl\n",
            "bert/bert_W_8_Science.pkl\n",
            "bert/bert_W_2_Pleasant.pkl\n",
            "bert/bert_W_7_Arts.pkl\n",
            "bert/bert_W_6_Career.pkl\n",
            "bert/bert_W_4_Pleasant.pkl\n",
            "bert/bert_W_10_Unpleasant.pkl\n",
            "bert/bert_W_3_African_American_names.pkl\n",
            "bert/big_bert_race_list.pkl\n"
          ],
          "name": "stdout"
        }
      ]
    },
    {
      "metadata": {
        "id": "_HxcfuNQGzWT",
        "colab_type": "code",
        "colab": {}
      },
      "cell_type": "code",
      "source": [
        "import pickle"
      ],
      "execution_count": 0,
      "outputs": []
    },
    {
      "metadata": {
        "id": "9o2bbZMfHEk-",
        "colab_type": "code",
        "colab": {}
      },
      "cell_type": "code",
      "source": [
        "embedding = BertEmbeddings('bert-large-uncased')"
      ],
      "execution_count": 0,
      "outputs": []
    },
    {
      "metadata": {
        "id": "gZw8xNOrIdHl",
        "colab_type": "code",
        "outputId": "ed802b68-d45a-4881-dbf2-862b5c501a11",
        "colab": {
          "base_uri": "https://localhost:8080/",
          "height": 85
        }
      },
      "cell_type": "code",
      "source": [
        "!gdown https://drive.google.com/uc?id=1WJBoEHOBkG4EW1MkB0y1QpggtV_J0i9w"
      ],
      "execution_count": 0,
      "outputs": [
        {
          "output_type": "stream",
          "text": [
            "Downloading...\n",
            "From: https://drive.google.com/uc?id=1WJBoEHOBkG4EW1MkB0y1QpggtV_J0i9w\n",
            "To: /content/elmo_race_list.pkl\n",
            "\r0.00B [00:00, ?B/s]\r4.88MB [00:00, 76.1MB/s]\n"
          ],
          "name": "stdout"
        }
      ]
    },
    {
      "metadata": {
        "id": "xUBsA7uWJEYL",
        "colab_type": "code",
        "colab": {}
      },
      "cell_type": "code",
      "source": [
        "x = pickle.load(open('/content/elmo_race_list.pkl','rb'))\n",
        "#x.keys()\n",
        "#dict_keys(['GnegC', 'type_embedings', 'words'])\n",
        "negC = x['GnegC']\n",
        "negC = np.squeeze(np.asarray(negC))\n"
      ],
      "execution_count": 0,
      "outputs": []
    },
    {
      "metadata": {
        "id": "iKHJutPIbWTV",
        "colab_type": "code",
        "colab": {}
      },
      "cell_type": "code",
      "source": [
        "x = pickle.load(open('/content/bert/big_bert_race_list.pkl','rb'))\n",
        "#x.keys()\n",
        "#dict_keys(['GnegC', 'type_embedings', 'words'])\n",
        "negC = x['GnegC']\n",
        "negC = np.squeeze(np.asarray(negC))"
      ],
      "execution_count": 0,
      "outputs": []
    },
    {
      "metadata": {
        "id": "TTn933dOT9w2",
        "colab_type": "code",
        "outputId": "c9578c45-c16f-4242-8f3b-726703eebedf",
        "colab": {
          "base_uri": "https://localhost:8080/",
          "height": 34
        }
      },
      "cell_type": "code",
      "source": [
        "negC.shape"
      ],
      "execution_count": 0,
      "outputs": [
        {
          "output_type": "execute_result",
          "data": {
            "text/plain": [
              "(4096, 4096)"
            ]
          },
          "metadata": {
            "tags": []
          },
          "execution_count": 78
        }
      ]
    },
    {
      "metadata": {
        "id": "EsaxA72bN4Gs",
        "colab_type": "code",
        "outputId": "3a8ca5c9-6139-4632-bfa2-b1e6ce0dd83c",
        "colab": {
          "base_uri": "https://localhost:8080/",
          "height": 238
        }
      },
      "cell_type": "code",
      "source": [
        "np.squeeze(np.asarray(negC))"
      ],
      "execution_count": 0,
      "outputs": [
        {
          "output_type": "execute_result",
          "data": {
            "text/plain": [
              "array([[ 9.70111580e-01,  1.00139318e-02,  3.97474661e-03, ...,\n",
              "         5.52274314e-03,  1.44466161e-03, -4.94146570e-03],\n",
              "       [ 1.00139318e-02,  9.69216160e-01,  7.45507291e-03, ...,\n",
              "         2.84306328e-04,  1.12427667e-03,  3.94247681e-03],\n",
              "       [ 3.97474661e-03,  7.45507291e-03,  9.61890354e-01, ...,\n",
              "        -2.32863467e-03, -4.04935310e-03,  1.12618329e-03],\n",
              "       ...,\n",
              "       [ 5.52274314e-03,  2.84306328e-04, -2.32863467e-03, ...,\n",
              "         7.32905572e-01, -1.47071199e-02, -2.83304199e-02],\n",
              "       [ 1.44466161e-03,  1.12427667e-03, -4.04935310e-03, ...,\n",
              "        -1.47071199e-02,  9.38455688e-01,  5.55991601e-03],\n",
              "       [-4.94146570e-03,  3.94247681e-03,  1.12618329e-03, ...,\n",
              "        -2.83304199e-02,  5.55991601e-03,  7.92946442e-01]])"
            ]
          },
          "metadata": {
            "tags": []
          },
          "execution_count": 41
        }
      ]
    },
    {
      "metadata": {
        "id": "9qCiPSOoUdLr",
        "colab_type": "code",
        "outputId": "1ca56353-ba67-4344-cf4b-e8fdb855b78c",
        "colab": {
          "base_uri": "https://localhost:8080/",
          "height": 85
        }
      },
      "cell_type": "code",
      "source": [
        "!gdown https://drive.google.com/uc?id=1dBiXlxSxfKq0-OhFQyL_CCij8pmThQZI"
      ],
      "execution_count": 0,
      "outputs": [
        {
          "output_type": "stream",
          "text": [
            "Downloading...\n",
            "From: https://drive.google.com/uc?id=1dBiXlxSxfKq0-OhFQyL_CCij8pmThQZI\n",
            "To: /content/bert_EEC_sentiment.pkl\n",
            "\r  0% 0.00/65.8k [00:00<?, ?B/s]\r100% 65.8k/65.8k [00:00<00:00, 34.1MB/s]\n"
          ],
          "name": "stdout"
        }
      ]
    },
    {
      "metadata": {
        "id": "uPAei1Z7bsBJ",
        "colab_type": "code",
        "colab": {}
      },
      "cell_type": "code",
      "source": [
        "senn = pickle.load(open('/content/bert_EEC_sentiment.pkl','rb'))\n"
      ],
      "execution_count": 0,
      "outputs": []
    },
    {
      "metadata": {
        "id": "UE0jvav_b6Nv",
        "colab_type": "code",
        "outputId": "cb3d75ca-b8ad-4bf1-ecaf-195ca225d88a",
        "colab": {
          "base_uri": "https://localhost:8080/",
          "height": 34
        }
      },
      "cell_type": "code",
      "source": [
        "senn['words']"
      ],
      "execution_count": 0,
      "outputs": [
        {
          "output_type": "execute_result",
          "data": {
            "text/plain": [
              "['fear', 'sadness', 'joy', 'anger']"
            ]
          },
          "metadata": {
            "tags": []
          },
          "execution_count": 75
        }
      ]
    },
    {
      "metadata": {
        "id": "-2LrbWLOFlyM",
        "colab_type": "text"
      },
      "cell_type": "markdown",
      "source": [
        "# Racial Debiasing"
      ]
    },
    {
      "metadata": {
        "id": "PWKwRfpojGGn",
        "colab_type": "code",
        "colab": {}
      },
      "cell_type": "code",
      "source": [
        "##Load male names in the EEC paper\n",
        "word_list_male = ['Alonzo', 'Jamel', 'Alphonse', 'Jerome', 'Leroy', 'Torrance',\n",
        "       'Darnell', 'Lamar', 'Malik', 'Terrence', 'Adam', 'Harry', 'Josh',\n",
        "       'Roger', 'Alan', 'Frank', 'Justin', 'Ryan', 'Andrew', 'Jack']"
      ],
      "execution_count": 0,
      "outputs": []
    },
    {
      "metadata": {
        "id": "S9QWX8NnDW9p",
        "colab_type": "code",
        "outputId": "7d1f9687-e89c-4848-e6ec-7fdf5a6ae5c8",
        "colab": {
          "base_uri": "https://localhost:8080/",
          "height": 139
        }
      },
      "cell_type": "code",
      "source": [
        ""
      ],
      "execution_count": 0,
      "outputs": [
        {
          "output_type": "stream",
          "text": [
            "/usr/local/lib/python2.7/dist-packages/gdown/parse_url.py:31: UserWarning: You specified Google Drive Link but it is not the correct link to download the file. Maybe you should try: https://drive.google.com/uc?id=1JyRVLZb7IdiMGGwPfXuA1f-CmCvxHDXx\n",
            "  .format(url='https://drive.google.com/uc?id={}'.format(file_id))\n",
            "Downloading...\n",
            "From: https://drive.google.com/file/d/1JyRVLZb7IdiMGGwPfXuA1f-CmCvxHDXx/view\n",
            "To: /content/view\n",
            "136kB [00:00, 8.74MB/s]\n"
          ],
          "name": "stdout"
        }
      ]
    },
    {
      "metadata": {
        "id": "FOKybYElsBiT",
        "colab_type": "code",
        "outputId": "94f9355d-d1c3-4464-b28c-7a65eeed3b17",
        "colab": {
          "base_uri": "https://localhost:8080/",
          "height": 785
        }
      },
      "cell_type": "code",
      "source": [
        "## Get racial names from web\n",
        "!wget https://gist.githubusercontent.com/mbejda/61eb488cec271086632d/raw/6340b8045b28c2abc0b1d44cfbc80f40284ef890/Black-Male-Names.csv\n",
        "!wget https://gist.githubusercontent.com/mbejda/6c2293ba3333b7e76269/raw/60aa0c95e8ee9b11b915a26f47480fef5c3203ed/White-Male-Names.csv\n",
        "!wget https://gist.githubusercontent.com/mbejda/26ad0574eda7fca78573/raw/6936d1a8f5fa5220f2f60a51a06a35b172c50f93/White-Female-Names.csv\n",
        "!wget https://gist.githubusercontent.com/mbejda/9dc89056005a689a6456/raw/bb6ef2375f1289d0ef10dbd8e9469670ac23ceab/Black-Female-Names.csv\n"
      ],
      "execution_count": 0,
      "outputs": [
        {
          "output_type": "stream",
          "text": [
            "--2019-03-03 16:34:10--  https://gist.githubusercontent.com/mbejda/61eb488cec271086632d/raw/6340b8045b28c2abc0b1d44cfbc80f40284ef890/Black-Male-Names.csv\n",
            "Resolving gist.githubusercontent.com (gist.githubusercontent.com)... 151.101.0.133, 151.101.64.133, 151.101.128.133, ...\n",
            "Connecting to gist.githubusercontent.com (gist.githubusercontent.com)|151.101.0.133|:443... connected.\n",
            "HTTP request sent, awaiting response... 200 OK\n",
            "Length: 921600 (900K) [text/plain]\n",
            "Saving to: ‘Black-Male-Names.csv’\n",
            "\n",
            "\rBlack-Male-Names.cs   0%[                    ]       0  --.-KB/s               \rBlack-Male-Names.cs 100%[===================>] 900.00K  --.-KB/s    in 0.07s   \n",
            "\n",
            "2019-03-03 16:34:10 (11.9 MB/s) - ‘Black-Male-Names.csv’ saved [921600/921600]\n",
            "\n",
            "--2019-03-03 16:34:10--  https://gist.githubusercontent.com/mbejda/6c2293ba3333b7e76269/raw/60aa0c95e8ee9b11b915a26f47480fef5c3203ed/White-Male-Names.csv\n",
            "Resolving gist.githubusercontent.com (gist.githubusercontent.com)... 151.101.0.133, 151.101.64.133, 151.101.128.133, ...\n",
            "Connecting to gist.githubusercontent.com (gist.githubusercontent.com)|151.101.0.133|:443... connected.\n",
            "HTTP request sent, awaiting response... 200 OK\n",
            "Length: 1149042 (1.1M) [text/plain]\n",
            "Saving to: ‘White-Male-Names.csv’\n",
            "\n",
            "White-Male-Names.cs 100%[===================>]   1.10M  --.-KB/s    in 0.09s   \n",
            "\n",
            "2019-03-03 16:34:11 (12.6 MB/s) - ‘White-Male-Names.csv’ saved [1149042/1149042]\n",
            "\n",
            "--2019-03-03 16:34:11--  https://gist.githubusercontent.com/mbejda/26ad0574eda7fca78573/raw/6936d1a8f5fa5220f2f60a51a06a35b172c50f93/White-Female-Names.csv\n",
            "Resolving gist.githubusercontent.com (gist.githubusercontent.com)... 151.101.0.133, 151.101.64.133, 151.101.128.133, ...\n",
            "Connecting to gist.githubusercontent.com (gist.githubusercontent.com)|151.101.0.133|:443... connected.\n",
            "HTTP request sent, awaiting response... 200 OK\n",
            "Length: 121903 (119K) [text/plain]\n",
            "Saving to: ‘White-Female-Names.csv’\n",
            "\n",
            "White-Female-Names. 100%[===================>] 119.05K  --.-KB/s    in 0.04s   \n",
            "\n",
            "2019-03-03 16:34:11 (3.15 MB/s) - ‘White-Female-Names.csv’ saved [121903/121903]\n",
            "\n",
            "--2019-03-03 16:34:12--  https://gist.githubusercontent.com/mbejda/9dc89056005a689a6456/raw/bb6ef2375f1289d0ef10dbd8e9469670ac23ceab/Black-Female-Names.csv\n",
            "Resolving gist.githubusercontent.com (gist.githubusercontent.com)... 151.101.0.133, 151.101.64.133, 151.101.128.133, ...\n",
            "Connecting to gist.githubusercontent.com (gist.githubusercontent.com)|151.101.0.133|:443... connected.\n",
            "HTTP request sent, awaiting response... 200 OK\n",
            "Length: 64757 (63K) [text/plain]\n",
            "Saving to: ‘Black-Female-Names.csv’\n",
            "\n",
            "Black-Female-Names. 100%[===================>]  63.24K  --.-KB/s    in 0.02s   \n",
            "\n",
            "2019-03-03 16:34:12 (2.60 MB/s) - ‘Black-Female-Names.csv’ saved [64757/64757]\n",
            "\n"
          ],
          "name": "stdout"
        }
      ]
    },
    {
      "metadata": {
        "id": "yGDDoL1eEp1E",
        "colab_type": "text"
      },
      "cell_type": "markdown",
      "source": [
        "# Load racial names from web"
      ]
    },
    {
      "metadata": {
        "id": "8nj1hiZgsWnA",
        "colab_type": "code",
        "colab": {}
      },
      "cell_type": "code",
      "source": [
        "## Load names from web, don't run it if using EEC names\n",
        "word_list_male =[]"
      ],
      "execution_count": 0,
      "outputs": []
    },
    {
      "metadata": {
        "id": "hDJlxKfLsTWC",
        "colab_type": "code",
        "colab": {}
      },
      "cell_type": "code",
      "source": [
        "f = open('/content/White-Male-Names.csv', 'r+')\n",
        "f.readline()\n",
        "i=0\n",
        "for line in f:\n",
        "  i +=1\n",
        "  word_list_male.append(line.rstrip().split(',')[1].split(' ')[1])\n",
        "  if i>=2400:\n",
        "    break\n",
        "f.close()"
      ],
      "execution_count": 0,
      "outputs": []
    },
    {
      "metadata": {
        "id": "VObVssTvsUHZ",
        "colab_type": "code",
        "colab": {}
      },
      "cell_type": "code",
      "source": [
        "f = open('/content/Black-Male-Names.csv', 'r+')\n",
        "i=0\n",
        "f.readline()\n",
        "for line in f:\n",
        "  i+=1\n",
        "  word_list_male.append(line.rstrip().split(',')[1].split(' ')[1])\n",
        "  if i>=2400:\n",
        "    break\n",
        "f.close()"
      ],
      "execution_count": 0,
      "outputs": []
    },
    {
      "metadata": {
        "id": "NErRXV1HsdYN",
        "colab_type": "code",
        "colab": {}
      },
      "cell_type": "code",
      "source": [
        "word_list_female = []\n",
        "f = open('/content/White-Female-Names.csv', 'r+')\n",
        "f.readline()\n",
        "i = 0\n",
        "for line in f:\n",
        "  i+=1\n",
        "  word_list_female.append(line.rstrip().split(',')[1].split(' ')[1])\n",
        "  if i >=2400:\n",
        "    break\n",
        "f.close()"
      ],
      "execution_count": 0,
      "outputs": []
    },
    {
      "metadata": {
        "id": "EBJ8j6DRseMb",
        "colab_type": "code",
        "colab": {}
      },
      "cell_type": "code",
      "source": [
        "f = open('/content/Black-Female-Names.csv', 'r+')\n",
        "f.readline()\n",
        "i = 0\n",
        "for line in f:\n",
        "  i+=1\n",
        "  word_list_female.append(line.rstrip().split(',')[1].split(' ')[1])\n",
        "  if i>=2400:\n",
        "    break\n",
        "f.close()"
      ],
      "execution_count": 0,
      "outputs": []
    },
    {
      "metadata": {
        "id": "Dz92BUKoBP1j",
        "colab_type": "code",
        "outputId": "5a9a6572-d3e7-45c3-8499-efb7966fb8df",
        "colab": {
          "base_uri": "https://localhost:8080/",
          "height": 34
        }
      },
      "cell_type": "code",
      "source": [
        "len(word_list_male), len(word_list_female)"
      ],
      "execution_count": 0,
      "outputs": [
        {
          "output_type": "execute_result",
          "data": {
            "text/plain": [
              "(4800, 4800)"
            ]
          },
          "metadata": {
            "tags": []
          },
          "execution_count": 7
        }
      ]
    },
    {
      "metadata": {
        "id": "xH2Dk0jlFGDG",
        "colab_type": "text"
      },
      "cell_type": "markdown",
      "source": [
        "# Get CN embeddings"
      ]
    },
    {
      "metadata": {
        "id": "6C0mIN5MftFN",
        "colab_type": "code",
        "colab": {}
      },
      "cell_type": "code",
      "source": [
        "from sklearn.decomposition import TruncatedSVD, randomized_svd\n",
        "from numpy.linalg import norm"
      ],
      "execution_count": 0,
      "outputs": []
    },
    {
      "metadata": {
        "id": "9sHTcgevTES5",
        "colab_type": "code",
        "outputId": "141bf36e-67aa-4806-db72-b34dfa575e73",
        "colab": {
          "base_uri": "https://localhost:8080/",
          "height": 51
        }
      },
      "cell_type": "code",
      "source": [
        "## Get brown_emb \n",
        "!gdown https://drive.google.com/uc?id=17TK2h3cz7amgm2mCY4QCYy1yh23ZFWDU\n",
        "!pip3 install -q pymagnitude\n",
        "from pymagnitude import *\n",
        "from pymagnitude import MagnitudeUtils\n",
        "import numpy as np\n",
        "import pickle\n",
        "with open('/content/elmo_embeddings_emma_brown.pkl', 'rb') as f:\n",
        "    elmo_data = pickle.load(f)\n",
        "elmo_data = elmo_data['brown_embs']\n",
        "\n",
        "## Get brown corpus\n",
        "import nltk\n",
        "nltk.download('brown')\n",
        "from nltk.corpus import brown\n",
        "brown_corpus = brown.sents()"
      ],
      "execution_count": 0,
      "outputs": [
        {
          "output_type": "stream",
          "text": [
            "[nltk_data] Downloading package brown to /root/nltk_data...\n",
            "[nltk_data]   Package brown is already up-to-date!\n"
          ],
          "name": "stdout"
        }
      ]
    },
    {
      "metadata": {
        "id": "7TPr6-HfTQiy",
        "colab_type": "code",
        "colab": {}
      },
      "cell_type": "code",
      "source": [
        "def pick_embeddings(corpus, sent_embs, word_list):\n",
        "    X = []\n",
        "    #labels = []\n",
        "    #sents = []\n",
        "    for i, s in enumerate(corpus):\n",
        "       # print(s)\n",
        "        for j, w in enumerate(s):\n",
        "            if w in word_list:\n",
        "                X.append(sent_embs[i][j])\n",
        "                #labels.append(w)\n",
        "                #sents.append(s)\n",
        "    return X\n"
      ],
      "execution_count": 0,
      "outputs": []
    },
    {
      "metadata": {
        "id": "6TvmF9FgTUsK",
        "colab_type": "code",
        "colab": {}
      },
      "cell_type": "code",
      "source": [
        "## Get elmo word embeddings of words(male names) to find conceptors\n",
        "X = pick_embeddings(brown_corpus, elmo_data, word_list_male)\n",
        "cn_embeddings = np.array(X)"
      ],
      "execution_count": 0,
      "outputs": []
    },
    {
      "metadata": {
        "id": "DgnvaqZpTdY9",
        "colab_type": "code",
        "colab": {}
      },
      "cell_type": "code",
      "source": [
        "## Since conceptors doesn't change in the loop, I calculated conceptor negation matrix beforehand to reduce runtime.\n",
        "alpha = 1\n",
        "R = (cn_embeddings.T).dot(cn_embeddings) / cn_embeddings.shape[0]   \n",
        "C = R @ np.linalg.inv (R + alpha ** (-2) * np.eye(768))# calculate the conceptor matrix\n",
        "negC = np.eye(768) - C"
      ],
      "execution_count": 0,
      "outputs": []
    },
    {
      "metadata": {
        "id": "u5i76OjwKtp6",
        "colab_type": "code",
        "colab": {}
      },
      "cell_type": "code",
      "source": [
        "\n"
      ],
      "execution_count": 0,
      "outputs": []
    },
    {
      "metadata": {
        "id": "-9wxgNsDK_5M",
        "colab_type": "code",
        "outputId": "d1479dd6-9e54-4190-ed07-19bd68524ecd",
        "colab": {
          "base_uri": "https://localhost:8080/",
          "height": 34
        }
      },
      "cell_type": "code",
      "source": [
        "sent1_emb"
      ],
      "execution_count": 0,
      "outputs": [
        {
          "output_type": "execute_result",
          "data": {
            "text/plain": [
              "array([], shape=(1, 0), dtype=float32)"
            ]
          },
          "metadata": {
            "tags": []
          },
          "execution_count": 53
        }
      ]
    },
    {
      "metadata": {
        "id": "HPX2O5nJFPWK",
        "colab_type": "text"
      },
      "cell_type": "markdown",
      "source": [
        "# Run experiment-ELMO\n"
      ]
    },
    {
      "metadata": {
        "id": "8oDXuoVDZlLi",
        "colab_type": "code",
        "colab": {}
      },
      "cell_type": "code",
      "source": [
        "def run_raw(sen_emb, sent1, sent2):\n",
        "  \n",
        "  sentence1 = Sentence(sent1)\n",
        "  sentence2 = Sentence(sent2)\n",
        "  x = embedding.embed(sentence1) # get sentence embedding of sentence 1\n",
        "  se = torch.stack([token.embedding for token in sentence1])\n",
        "  sent1_emb = se.numpy()\n",
        "  x = embedding.embed(sentence2) # get sentence embedding of sentence 2\n",
        "  se = torch.stack([token.embedding for token in sentence2])\n",
        "  sent2_emb = se.numpy()\n",
        "  sent1_emb = np.average(sent1_emb, axis = 0) #average sentence1 embeddings\n",
        "  sent2_emb = np.average(sent2_emb, axis = 0) #average sentence2 embeddings\n",
        "  proj1 = (sent1_emb/norm(sent1_emb)).dot(sen_emb)/norm(sen_emb) #cosine similarity\n",
        "  proj2 = (sent2_emb/norm(sent2_emb)).dot(sen_emb)/norm(sen_emb)\n",
        "  #print(sent2_emb)\n",
        "  #print(proj1, proj2)\n",
        "  return proj1, proj2"
      ],
      "execution_count": 0,
      "outputs": []
    },
    {
      "metadata": {
        "id": "hnBNClCHcT_A",
        "colab_type": "code",
        "colab": {}
      },
      "cell_type": "code",
      "source": [
        "def run_conceptor(sen_emb, sent1, sent2):\n",
        "  sentence1 = Sentence(sent1) \n",
        "  sentence2 = Sentence(sent2)\n",
        "  x = embedding.embed(sentence1) # get sentence embedding of sentence 1\n",
        "  se = torch.stack([token.embedding for token in sentence1])\n",
        "  sent1_emb = se.numpy()\n",
        "  x = embedding.embed(sentence2) # get sentence embedding of sentence 2\n",
        "  se = torch.stack([token.embedding for token in sentence2])\n",
        "  sent2_emb = se.numpy()\n",
        "  sent1_emb = np.average(sent1_emb, axis = 0) #average sentence1 embeddings\n",
        "  sent2_emb = np.average(sent2_emb, axis = 0) #average sentence2 embeddings\n",
        "  #print(sent1_emb.T.shape)\n",
        "  sent1_emb = negC.dot(sent1_emb.T).T  # CN sentence embeddings\n",
        "  #print(sent1_emb.shape)\n",
        "  sent2_emb = negC.dot(sent2_emb.T).T\n",
        "  sen_emb =  negC.dot(sen_emb.T).T\n",
        "  #print(sent2_emb)\n",
        "  proj1 = (sent1_emb/norm(sent1_emb)).dot(sen_emb)/norm(sen_emb) #cosine similarity\n",
        "  proj2 = (sent2_emb/norm(sent2_emb)).dot(sen_emb)/norm(sen_emb)\n",
        "  #print(proj1,proj2)\n",
        "  return proj1, proj2"
      ],
      "execution_count": 0,
      "outputs": []
    },
    {
      "metadata": {
        "id": "GpBp7xd4WJ4-",
        "colab_type": "code",
        "outputId": "7e99c2bc-df15-4854-a63e-c6f47d7e8ccb",
        "colab": {
          "base_uri": "https://localhost:8080/",
          "height": 170
        }
      },
      "cell_type": "code",
      "source": [
        "EEC[EEC['Race']=='European'].count()"
      ],
      "execution_count": 0,
      "outputs": [
        {
          "output_type": "execute_result",
          "data": {
            "text/plain": [
              "ID              2880\n",
              "Sentence        2880\n",
              "Template        2880\n",
              "Person          2880\n",
              "Gender          2880\n",
              "Race            2880\n",
              "Emotion         2800\n",
              "Emotion word    2800\n",
              "dtype: int64"
            ]
          },
          "metadata": {
            "tags": []
          },
          "execution_count": 52
        }
      ]
    },
    {
      "metadata": {
        "id": "iJFAY9VHTfD3",
        "colab_type": "code",
        "outputId": "13e872b0-4c9c-4dd6-d4e6-899b83e4c524",
        "colab": {
          "base_uri": "https://localhost:8080/",
          "height": 85
        }
      },
      "cell_type": "code",
      "source": [
        "# Get male sentences results\n",
        "p= []\n",
        "for sen in ['anger','fear','joy', 'sadness']:\n",
        "  aa = []\n",
        "  ea = []\n",
        "  aa_cn = []\n",
        "  ea_cn = []\n",
        "  sent_sent = []\n",
        "  sent_aa = []\n",
        "  sent_ea = []\n",
        "  sent_sent = EEC[EEC['Emotion']==sen] # get sentence of certain sentiment\n",
        "  sent_aa = sent_sent[(sent_sent['Race']=='African-American')] #get AA male sentences\n",
        "  sent_ea = sent_sent[(sent_sent['Race']=='European')] #get EA male sentences\n",
        "  sen_emb  = pick_embeddings(brown_corpus, elmo_data, str(sen)) # get certain sentiment embedding\n",
        "  sen_emb = np.average(sen_emb, axis = 0)\n",
        "  print(len(sent_ea))\n",
        "  for sen1, sen2 in zip(sent_aa['Sentence'], sent_ea['Sentence']):\n",
        "    \n",
        "    score1, score2 = run_raw(sen_emb, sen1, sen2) #projection score on raw data\n",
        "    score3, score4 = run_conceptor(sen_emb, sen1, sen2) # projection score on CN\n",
        "    aa.append(score1) # raw score for african american\n",
        "    ea.append(score2) # raw score for european american\n",
        "    aa_cn.append(score3) # CN score for african american\n",
        "    ea_cn.append(score4) # CN score for european american\n",
        "  #paired t-test for raw data\n",
        "  p1 = scipy.stats.ttest_rel(aa, ea)\n",
        "  #paired t-test for CN data\n",
        "  p2 = scipy.stats.ttest_rel(aa_cn, ea_cn)\n",
        "  p.append([p1.statistic, p1.pvalue, p2.statistic, p2.pvalue])\n"
      ],
      "execution_count": 0,
      "outputs": [
        {
          "output_type": "stream",
          "text": [
            "700\n",
            "700\n",
            "700\n",
            "700\n"
          ],
          "name": "stdout"
        }
      ]
    },
    {
      "metadata": {
        "id": "Bicd-aY9i1Ya",
        "colab_type": "code",
        "outputId": "d98d8b30-feb2-4f02-9d4f-9fc036ad2105",
        "colab": {
          "base_uri": "https://localhost:8080/",
          "height": 119
        }
      },
      "cell_type": "code",
      "source": [
        "print('RAW vs CN data using ELMO, racial debiasing')\n",
        "p = pd.DataFrame(p, index=['anger','fear','joy','sadness'], columns= ['raw_t_statistic', 'raw_p_value', 'cn_t_statistic', 'cn_p_value'])\n",
        "print(p)\n"
      ],
      "execution_count": 0,
      "outputs": [
        {
          "output_type": "stream",
          "text": [
            "RAW vs CN data using ELMO, racial debiasing\n",
            "         raw_t_statistic   raw_p_value  cn_t_statistic    cn_p_value\n",
            "anger          -6.437485  2.256846e-10      -11.237026  4.765867e-27\n",
            "fear           -4.731632  2.696051e-06       -9.460335  4.574093e-20\n",
            "joy            -5.928435  4.804908e-09       -3.817702  1.466543e-04\n",
            "sadness        -4.916008  1.101632e-06       -9.110037  8.550151e-19\n"
          ],
          "name": "stdout"
        }
      ]
    },
    {
      "metadata": {
        "id": "bAoKAMixcgJA",
        "colab_type": "text"
      },
      "cell_type": "markdown",
      "source": [
        "#Bert"
      ]
    },
    {
      "metadata": {
        "id": "9jrDAQk1chdU",
        "colab_type": "code",
        "outputId": "2c360f71-ac78-4bab-fe8f-14994e07760a",
        "colab": {
          "base_uri": "https://localhost:8080/",
          "height": 85
        }
      },
      "cell_type": "code",
      "source": [
        "# Get male sentences results\n",
        "p= []\n",
        "i = 0\n",
        "for sen in ['fear','sadness','joy', 'anger']:\n",
        "  aa = []\n",
        "  ea = []\n",
        "  aa_cn = []\n",
        "  ea_cn = []\n",
        "  sent_sent = []\n",
        "  sent_aa = []\n",
        "  sent_ea = []\n",
        "  sent_sent = EEC[EEC['Emotion']==sen] # get sentence of certain sentiment\n",
        "  sent_aa = sent_sent[(sent_sent['Race']=='African-American')] #get AA male sentences\n",
        "  sent_ea = sent_sent[(sent_sent['Race']=='European')] #get EA male sentences\n",
        "  sen_emb = np.squeeze(np.asarray(senn['type_embedings'][i]))\n",
        "  i+=1\n",
        "  print(len(sent_ea))\n",
        "  for sen1, sen2 in zip(sent_aa['Sentence'], sent_ea['Sentence']):\n",
        "    \n",
        "    score1, score2 = run_raw(sen_emb, sen1, sen2) #projection score on raw data\n",
        "    score3, score4 = run_conceptor(sen_emb, sen1, sen2) # projection score on CN\n",
        "    aa.append(score1) # raw score for african american\n",
        "    ea.append(score2) # raw score for european american\n",
        "    aa_cn.append(score3) # CN score for african american\n",
        "    ea_cn.append(score4) # CN score for european american\n",
        "  #paired t-test for raw data\n",
        "  p1 = scipy.stats.ttest_rel(aa, ea)\n",
        "  #paired t-test for CN data\n",
        "  p2 = scipy.stats.ttest_rel(aa_cn, ea_cn)\n",
        "  p.append([p1.statistic, p1.pvalue, p2.statistic, p2.pvalue])\n"
      ],
      "execution_count": 0,
      "outputs": [
        {
          "output_type": "stream",
          "text": [
            "700\n",
            "700\n",
            "700\n",
            "700\n"
          ],
          "name": "stdout"
        }
      ]
    },
    {
      "metadata": {
        "id": "JEoQOavtqNNA",
        "colab_type": "code",
        "outputId": "8965c5a8-d25a-43b7-9b13-70ee5fdaeec4",
        "colab": {
          "base_uri": "https://localhost:8080/",
          "height": 119
        }
      },
      "cell_type": "code",
      "source": [
        "print('RAW vs CN data using BERT, racial debiasing')\n",
        "p = pd.DataFrame(p, index=['fear','sadness','joy','anger'], columns= ['raw_t_statistic', 'raw_p_value', 'cn_t_statistic', 'cn_p_value'])\n",
        "print(p)"
      ],
      "execution_count": 0,
      "outputs": [
        {
          "output_type": "stream",
          "text": [
            "RAW vs CN data using BERT, racial debiasing\n",
            "         raw_t_statistic   raw_p_value  cn_t_statistic    cn_p_value\n",
            "fear            5.647380  2.370618e-08       22.624530  1.853297e-85\n",
            "sadness        -3.449800  5.946922e-04        3.267547  1.137887e-03\n",
            "joy             4.756097  2.398224e-06        9.040590  1.512630e-18\n",
            "anger           1.633738  1.027643e-01       13.350301  2.237348e-36\n"
          ],
          "name": "stdout"
        }
      ]
    },
    {
      "metadata": {
        "id": "YBuGsC8cpE5s",
        "colab_type": "code",
        "colab": {}
      },
      "cell_type": "code",
      "source": [
        "# Load female names in EEC paper, don't run it if using web names\n",
        "word_list_female= ['Nichelle',\n",
        "       'Shereen', 'Ebony', 'Latisha', 'Shaniqua', 'Jasmine', 'Tanisha',\n",
        "       'Tia', 'Lakisha', 'Latoya', 'Amanda', 'Courtney', 'Heather',\n",
        "       'Melanie', 'Katie', 'Betsy', 'Kristin', 'Nancy', 'Stephanie',\n",
        "       'Ellen']"
      ],
      "execution_count": 0,
      "outputs": []
    },
    {
      "metadata": {
        "id": "nKttGZpzss9Y",
        "colab_type": "code",
        "colab": {}
      },
      "cell_type": "code",
      "source": [
        "## Get elmo word embeddings of words(female names) to find conceptors\n",
        "X = pick_embeddings(brown_corpus, elmo_data,word_list_female)\n",
        "cn_embeddings = np.array(X)"
      ],
      "execution_count": 0,
      "outputs": []
    },
    {
      "metadata": {
        "id": "cJtJGugBs_iC",
        "colab_type": "code",
        "colab": {}
      },
      "cell_type": "code",
      "source": [
        "alpha = 1\n",
        "R = (cn_embeddings.T).dot(cn_embeddings) / cn_embeddings.shape[0]   \n",
        "C = R @ np.linalg.inv (R + alpha ** (-2) * np.eye(768))# calculate the conceptor matrix\n",
        "negC = np.eye(768) - C"
      ],
      "execution_count": 0,
      "outputs": []
    },
    {
      "metadata": {
        "id": "p8lE6ooKqZuu",
        "colab_type": "code",
        "outputId": "6391b3d4-1170-4033-edcd-778f20ac96e6",
        "colab": {
          "base_uri": "https://localhost:8080/",
          "height": 85
        }
      },
      "cell_type": "code",
      "source": [
        "## Get female sentences result\n",
        "p= []\n",
        "for sen in ['anger','fear','joy', 'sadness']:\n",
        "  aa = []\n",
        "  ea = []\n",
        "  aa_cn = []\n",
        "  ea_cn = []\n",
        "  sent_sent = []\n",
        "  sent_aa = []\n",
        "  sent_ea = []\n",
        "  sent_sent = EEC[EEC['Emotion']==sen] # get sentence of certain sentiment\n",
        "  sent_aa = sent_sent[(sent_sent['Race']=='African-American') &(sent_sent['Gender']=='female')] #get AA female sentences\n",
        "  sent_ea = sent_sent[(sent_sent['Race']=='European')&(sent_sent['Gender']=='female') ] #get EA female sentences\n",
        "  sen_emb  = pick_embeddings(brown_corpus, elmo_data, str(sen)) # get certain sentiment embedding\n",
        "  sen_emb = np.average(sen_emb, axis = 0)\n",
        "  print(len(sent_ea))\n",
        "  for sen1, sen2 in zip(sent_aa['Sentence'], sent_ea['Sentence']):\n",
        "    \n",
        "    score1, score2 = run_raw(sen_emb, sen1, sen2) #projection score on raw data\n",
        "    score3, score4 = run_conceptor(sen_emb, sen1, sen2) # projection score on CN\n",
        "    aa.append(score1) # raw score for african american\n",
        "    ea.append(score2) # raw score for european american\n",
        "    aa_cn.append(score3) # CN score for african american\n",
        "    ea_cn.append(score4) # CN score for european american\n",
        "  #paired t-test for raw data\n",
        "  p1 = scipy.stats.ttest_rel(aa, ea)\n",
        "  #paired t-test for CN data\n",
        "  p2 = scipy.stats.ttest_rel(aa_cn, ea_cn)\n",
        "  p.append([p1.statistic, p1.pvalue, p2.statistic, p2.pvalue])\n"
      ],
      "execution_count": 0,
      "outputs": [
        {
          "output_type": "stream",
          "text": [
            "350\n",
            "350\n",
            "350\n",
            "350\n"
          ],
          "name": "stdout"
        }
      ]
    },
    {
      "metadata": {
        "id": "LNxgySvQuaoM",
        "colab_type": "code",
        "outputId": "9b15880d-8ffb-4c9e-a31b-ed72aa727954",
        "colab": {
          "base_uri": "https://localhost:8080/",
          "height": 119
        }
      },
      "cell_type": "code",
      "source": [
        "print('RAW vs CN data using ELMO, female names from EEC, alpha = 1')\n",
        "p = pd.DataFrame(p, index=['anger','fear','joy','sadness'], columns= ['raw_t_statistic', 'raw_p_value', 'cn_t_statistic', 'cn_p_value'])\n",
        "print(p)\n"
      ],
      "execution_count": 0,
      "outputs": [
        {
          "output_type": "stream",
          "text": [
            "RAW vs CN data using ELMO, female names from EEC, alpha = 1\n",
            "         raw_t_statistic  raw_p_value  cn_t_statistic  cn_p_value\n",
            "anger          -1.530739     0.126740        0.229301    0.818769\n",
            "fear           -1.382389     0.167736        0.573728    0.566521\n",
            "joy             0.668064     0.504534        0.103622    0.917529\n",
            "sadness        -1.684079     0.093060        0.576262    0.564810\n"
          ],
          "name": "stdout"
        }
      ]
    },
    {
      "metadata": {
        "id": "pWkmPThgFhDR",
        "colab_type": "text"
      },
      "cell_type": "markdown",
      "source": [
        "# Gender Debiasing"
      ]
    },
    {
      "metadata": {
        "id": "hnPTDeF_1akf",
        "colab_type": "text"
      },
      "cell_type": "markdown",
      "source": [
        "# Load gender names"
      ]
    },
    {
      "metadata": {
        "id": "Oqvd8bYMD1X4",
        "colab_type": "text"
      },
      "cell_type": "markdown",
      "source": [
        "# Using names from web"
      ]
    },
    {
      "metadata": {
        "id": "NPibfVaK1hut",
        "colab_type": "code",
        "outputId": "55d9e9d1-8ef6-4ffb-e43a-cf58691b12e0",
        "colab": {
          "base_uri": "https://localhost:8080/",
          "height": 411
        }
      },
      "cell_type": "code",
      "source": [
        "## Get large gender name lists from web, don't run it if using names only in EEC paper\n",
        "!wget https://www.cs.cmu.edu/Groups/AI/areas/nlp/corpora/names/male.txt\n",
        "!wget https://www.cs.cmu.edu/Groups/AI/areas/nlp/corpora/names/female.txt"
      ],
      "execution_count": 0,
      "outputs": [
        {
          "output_type": "stream",
          "text": [
            "--2019-03-03 01:07:34--  https://www.cs.cmu.edu/Groups/AI/areas/nlp/corpora/names/male.txt\n",
            "Resolving www.cs.cmu.edu (www.cs.cmu.edu)... 128.2.42.95\n",
            "Connecting to www.cs.cmu.edu (www.cs.cmu.edu)|128.2.42.95|:443... connected.\n",
            "HTTP request sent, awaiting response... 200 OK\n",
            "Length: 20466 (20K) [text/plain]\n",
            "Saving to: ‘male.txt’\n",
            "\n",
            "\rmale.txt              0%[                    ]       0  --.-KB/s               \rmale.txt            100%[===================>]  19.99K  --.-KB/s    in 0s      \n",
            "\n",
            "2019-03-03 01:07:34 (197 MB/s) - ‘male.txt’ saved [20466/20466]\n",
            "\n",
            "--2019-03-03 01:07:36--  https://www.cs.cmu.edu/Groups/AI/areas/nlp/corpora/names/female.txt\n",
            "Resolving www.cs.cmu.edu (www.cs.cmu.edu)... 128.2.42.95\n",
            "Connecting to www.cs.cmu.edu (www.cs.cmu.edu)|128.2.42.95|:443... connected.\n",
            "HTTP request sent, awaiting response... 200 OK\n",
            "Length: 35751 (35K) [text/plain]\n",
            "Saving to: ‘female.txt’\n",
            "\n",
            "female.txt          100%[===================>]  34.91K  --.-KB/s    in 0.04s   \n",
            "\n",
            "2019-03-03 01:07:36 (938 KB/s) - ‘female.txt’ saved [35751/35751]\n",
            "\n"
          ],
          "name": "stdout"
        }
      ]
    },
    {
      "metadata": {
        "id": "hZsIuAoc1lB3",
        "colab_type": "code",
        "colab": {}
      },
      "cell_type": "code",
      "source": [
        "f = open('/content/male.txt', 'r+')\n",
        "i = 0\n",
        "word_list_gender= []\n",
        "for line in f:\n",
        "  i+=1\n",
        "  if i < 7:\n",
        "    continue\n",
        "  if i >=2407:\n",
        "    break\n",
        "  token = line.split()\n",
        "  word_list_gender.append(token[0])\n",
        "f.close()\n",
        "#load names from larger name dataset\n",
        "f = open('/content/female.txt', 'r+')\n",
        "i = 0\n",
        "for line in f:\n",
        "  i+=1\n",
        "  if i < 7:\n",
        "    continue\n",
        "  if i>=2407:\n",
        "    break\n",
        "  token = line.split()\n",
        "  word_list_gender.append(token[0])\n",
        "f.close()"
      ],
      "execution_count": 0,
      "outputs": []
    },
    {
      "metadata": {
        "id": "Z0wnFRFn3EE1",
        "colab_type": "code",
        "outputId": "3cb8d43e-01af-4637-edb6-6fe15fa7894d",
        "colab": {
          "base_uri": "https://localhost:8080/",
          "height": 34
        }
      },
      "cell_type": "code",
      "source": [
        "len(word_list_gender)"
      ],
      "execution_count": 0,
      "outputs": [
        {
          "output_type": "execute_result",
          "data": {
            "text/plain": [
              "4800"
            ]
          },
          "metadata": {
            "tags": []
          },
          "execution_count": 44
        }
      ]
    },
    {
      "metadata": {
        "id": "2-hMLLEh1vXS",
        "colab_type": "code",
        "colab": {}
      },
      "cell_type": "code",
      "source": [
        "X = pick_embeddings(brown_corpus, elmo_data,word_list_gender)\n",
        "cn_embeddings = np.array(X)\n",
        "alpha = 1\n",
        "R = (cn_embeddings.T).dot(cn_embeddings) / cn_embeddings.shape[0]   \n",
        "C = R @ np.linalg.inv (R + alpha ** (-2) * np.eye(768))# calculate the conceptor matrix\n",
        "negC = np.eye(768) - C"
      ],
      "execution_count": 0,
      "outputs": []
    },
    {
      "metadata": {
        "id": "Bryhg2M5154P",
        "colab_type": "code",
        "colab": {}
      },
      "cell_type": "code",
      "source": [
        "## Get female sentences result\n",
        "p= []\n",
        "for sen in ['anger','fear','joy', 'sadness']:\n",
        "  ma = []\n",
        "  fe = []\n",
        "  ma_cn = []\n",
        "  fe_cn = []\n",
        "  sent_sent = EEC[EEC['Emotion']==sen] # get sentence of certain sentiment\n",
        "  sent_ma = sent_sent[(sent_sent['Gender']=='male')] #get male sentences\n",
        "  sent_fe = sent_sent[(sent_sent['Gender']=='female') ] #get female sentences\n",
        "  sen_emb  = pick_embeddings(brown_corpus, elmo_data, str(sen)) # get certain sentiment embedding\n",
        "  sen_emb = np.average(sen_emb, axis = 0)\n",
        "  for sen1, sen2 in zip(sent_ma['Sentence'], sent_fe['Sentence']):\n",
        "    \n",
        "    score1, score2 = run_raw(sen_emb, sen1, sen2) #projection score on raw data\n",
        "    score3, score4 = run_conceptor(sen_emb, sen1, sen2) # projection score on CN\n",
        "    ma.append(score1) # raw score for male \n",
        "    fe.append(score2) # raw score for female\n",
        "    ma_cn.append(score3) # CN score for male\n",
        "    fe_cn.append(score4) # CN score for female\n",
        "  #paired t-test for raw data\n",
        "  p1 = scipy.stats.ttest_rel(ma, fe)\n",
        "  #paired t-test for CN data\n",
        "  p2 = scipy.stats.ttest_rel(ma_cn, fe_cn)\n",
        "  p.append([p1.statistic, p1.pvalue, p2.statistic, p2.pvalue])\n"
      ],
      "execution_count": 0,
      "outputs": []
    },
    {
      "metadata": {
        "id": "E-za-uQo7nk6",
        "colab_type": "code",
        "outputId": "2afd3922-8026-4178-cfc8-cf5894a870e3",
        "colab": {
          "base_uri": "https://localhost:8080/",
          "height": 139
        }
      },
      "cell_type": "code",
      "source": [
        "print('Gender Debiasing, RAW vs CN data using ELMO, using 8k gender names, alpha = 1')\n",
        "p = pd.DataFrame(p, index=['anger','fear','joy','sadness'], columns= ['raw_t_statistic', 'raw_p_value', 'cn_t_statistic', 'cn_p_value'])\n",
        "print(p)\n"
      ],
      "execution_count": 0,
      "outputs": [
        {
          "output_type": "stream",
          "text": [
            "Gender Debiasing, RAW vs CN data using ELMO, using 8k gender names, alpha = 1\n",
            "         raw_t_statistic   raw_p_value  cn_t_statistic    cn_p_value\n",
            "anger           2.546940  1.100909e-02       -6.030878  2.257000e-09\n",
            "fear           -0.861153  3.893503e-01       -6.045076  2.073065e-09\n",
            "joy            -7.560720  8.726120e-14       11.623958  1.824004e-29\n",
            "sadness        -0.986189  3.242680e-01       -6.234039  6.576155e-10\n"
          ],
          "name": "stdout"
        }
      ]
    },
    {
      "metadata": {
        "id": "HSLU1hPU8OAq",
        "colab_type": "code",
        "outputId": "47f6bc3a-900d-4616-f93e-ba9980dd0a17",
        "colab": {
          "base_uri": "https://localhost:8080/",
          "height": 204
        }
      },
      "cell_type": "code",
      "source": [
        "EEC['Person'].unique()"
      ],
      "execution_count": 0,
      "outputs": [
        {
          "output_type": "execute_result",
          "data": {
            "text/plain": [
              "array(['Alonzo', 'Jamel', 'Alphonse', 'Jerome', 'Leroy', 'Torrance',\n",
              "       'Darnell', 'Lamar', 'Malik', 'Terrence', 'Adam', 'Harry', 'Josh',\n",
              "       'Roger', 'Alan', 'Frank', 'Justin', 'Ryan', 'Andrew', 'Jack', 'he',\n",
              "       'this man', 'this boy', 'my brother', 'my son', 'my husband',\n",
              "       'my boyfriend', 'my father', 'my uncle', 'my dad', 'Nichelle',\n",
              "       'Shereen', 'Ebony', 'Latisha', 'Shaniqua', 'Jasmine', 'Tanisha',\n",
              "       'Tia', 'Lakisha', 'Latoya', 'Amanda', 'Courtney', 'Heather',\n",
              "       'Melanie', 'Katie', 'Betsy', 'Kristin', 'Nancy', 'Stephanie',\n",
              "       'Ellen', 'she', 'this woman', 'this girl', 'my sister',\n",
              "       'my daughter', 'my wife', 'my girlfriend', 'my mother', 'my aunt',\n",
              "       'my mom', 'him', 'her'], dtype=object)"
            ]
          },
          "metadata": {
            "tags": []
          },
          "execution_count": 77
        }
      ]
    },
    {
      "metadata": {
        "id": "5tyE1BNHDxcE",
        "colab_type": "text"
      },
      "cell_type": "markdown",
      "source": [
        "# Using names in paper"
      ]
    },
    {
      "metadata": {
        "id": "71xFsdnk8mNK",
        "colab_type": "code",
        "colab": {}
      },
      "cell_type": "code",
      "source": [
        "# Names in EEC paper\n",
        "word_list_gender = EEC['Person'].unique()"
      ],
      "execution_count": 0,
      "outputs": []
    },
    {
      "metadata": {
        "id": "QYM4GyggBckY",
        "colab_type": "code",
        "outputId": "eabb9b3d-2713-4e2a-e3aa-5785fc13c310",
        "colab": {
          "base_uri": "https://localhost:8080/",
          "height": 34
        }
      },
      "cell_type": "code",
      "source": [
        "len(word_list_gender)"
      ],
      "execution_count": 0,
      "outputs": [
        {
          "output_type": "execute_result",
          "data": {
            "text/plain": [
              "62"
            ]
          },
          "metadata": {
            "tags": []
          },
          "execution_count": 49
        }
      ]
    },
    {
      "metadata": {
        "id": "Sn5iVV5I8z95",
        "colab_type": "code",
        "colab": {}
      },
      "cell_type": "code",
      "source": [
        "X = pick_embeddings(brown_corpus, elmo_data,word_list_gender)\n",
        "cn_embeddings = np.array(X)\n",
        "alpha = 1\n",
        "R = (cn_embeddings.T).dot(cn_embeddings) / cn_embeddings.shape[0]   \n",
        "C = R @ np.linalg.inv (R + alpha ** (-2) * np.eye(768))# calculate the conceptor matrix\n",
        "negC = np.eye(768) - C"
      ],
      "execution_count": 0,
      "outputs": []
    },
    {
      "metadata": {
        "id": "BLk8Ln_v9DOS",
        "colab_type": "code",
        "colab": {}
      },
      "cell_type": "code",
      "source": [
        "## Get female sentences result\n",
        "p= []\n",
        "for sen in ['anger','fear','joy', 'sadness']:\n",
        "  ma = []\n",
        "  fe = []\n",
        "  ma_cn = []\n",
        "  fe_cn = []\n",
        "  sent_sent = EEC[EEC['Emotion']==sen] # get sentence of certain sentiment\n",
        "  sent_ma = sent_sent[(sent_sent['Gender']=='male')] #get male sentences\n",
        "  sent_fe = sent_sent[(sent_sent['Gender']=='female') ] #get female sentences\n",
        "  sen_emb  = pick_embeddings(brown_corpus, elmo_data, str(sen)) # get certain sentiment embedding\n",
        "  sen_emb = np.average(sen_emb, axis = 0)\n",
        "  for sen1, sen2 in zip(sent_ma['Sentence'], sent_fe['Sentence']):\n",
        "    \n",
        "    score1, score2 = run_raw(sen_emb, sen1, sen2) #projection score on raw data\n",
        "    score3, score4 = run_conceptor(sen_emb, sen1, sen2) # projection score on CN\n",
        "    ma.append(score1) # raw score for male\n",
        "    fe.append(score2) # raw score for female\n",
        "    ma_cn.append(score3) # CN score for male\n",
        "    fe_cn.append(score4) # CN score for female\n",
        "  #paired t-test for raw data\n",
        "  p1 = scipy.stats.ttest_rel(ma, fe)\n",
        "  #paired t-test for CN data\n",
        "  p2 = scipy.stats.ttest_rel(ma_cn, fe_cn)\n",
        "  p.append([p1.statistic, p1.pvalue, p2.statistic, p2.pvalue])\n"
      ],
      "execution_count": 0,
      "outputs": []
    },
    {
      "metadata": {
        "id": "D0R2u2NQA3rn",
        "colab_type": "code",
        "outputId": "8e2f59b8-71d0-4706-901b-dd3ca667400a",
        "colab": {
          "base_uri": "https://localhost:8080/",
          "height": 139
        }
      },
      "cell_type": "code",
      "source": [
        "print('Gender Debiasing, RAW vs CN data using ELMO, using 62 gender names and pronouns in EEC, alpha = 1')\n",
        "p = pd.DataFrame(p, index=['anger','fear','joy','sadness'], columns= ['raw_t_statistic', 'raw_p_value', 'cn_t_statistic', 'cn_p_value'])\n",
        "print(p)"
      ],
      "execution_count": 0,
      "outputs": [
        {
          "output_type": "stream",
          "text": [
            "Gender Debiasing, RAW vs CN data using ELMO, using 62 gender names and pronouns in EEC, alpha = 1\n",
            "         raw_t_statistic   raw_p_value  cn_t_statistic    cn_p_value\n",
            "anger           2.546525  1.102212e-02       -6.406935  2.238108e-10\n",
            "fear           -0.861151  3.893519e-01       -8.237408  5.199203e-16\n",
            "joy            -7.560721  8.726056e-14       -6.488792  1.331468e-10\n",
            "sadness        -0.986190  3.242674e-01       -8.491553  6.893392e-17\n"
          ],
          "name": "stdout"
        }
      ]
    }
  ]
}